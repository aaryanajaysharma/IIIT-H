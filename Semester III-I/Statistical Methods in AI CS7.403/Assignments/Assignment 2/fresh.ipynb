{
 "cells": [
  {
   "cell_type": "code",
   "execution_count": 1,
   "metadata": {},
   "outputs": [],
   "source": [
    "import wandb"
   ]
  },
  {
   "cell_type": "code",
   "execution_count": 2,
   "metadata": {},
   "outputs": [
    {
     "name": "stderr",
     "output_type": "stream",
     "text": [
      "UsageError: unrecognized arguments: --relogin\n"
     ]
    }
   ],
   "source": [
    "%wandb login --relogin"
   ]
  },
  {
   "cell_type": "code",
   "execution_count": 52,
   "metadata": {},
   "outputs": [
    {
     "name": "stdout",
     "output_type": "stream",
     "text": [
      "[['aaryan', 'divya', 'sonu', 'renu'],\n",
      " ['bhavit', 'simmi', 'paarth', 'ajay'],\n",
      " ['divya', 'sonu', 'renu', 'aaryan'],\n",
      " ['simmi', 'paarth', 'ajay', 'bhavit'],\n",
      " ['sonu', 'renu', 'aaryan', 'divya'],\n",
      " ['ajay', 'bhavit', 'simmi', 'paarth']]\n"
     ]
    }
   ],
   "source": [
    "import numpy as np\n",
    "import pprint\n",
    "import random\n",
    "from collections import Counter\n",
    "\n",
    "people = ['aaryan', 'paarth', 'simmi', 'ajay', 'divya', 'sonu', 'bhavit', 'renu']\n",
    "cols = 4\n",
    "rows = 6\n",
    "\n",
    "schedule = []\n",
    "for i in range(rows):\n",
    "    # print people size\n",
    "    # print(people)\n",
    "    sample = random.sample(people, cols)\n",
    "    for j in range(3):\n",
    "        schedule.append(sample)\n",
    "        sample = sample[-1:] + sample[:-1]\n",
    "    if len(schedule) == rows:\n",
    "        break\n",
    "\n",
    "    # remove the people used in sample from list people\n",
    "    people = list(set(people) - set(sample))\n",
    "\n",
    "random.shuffle(schedule)\n",
    "pprint.pprint(schedule)\n",
    "# print(counts)\n",
    "\n",
    "\n"
   ]
  },
  {
   "cell_type": "code",
   "execution_count": null,
   "metadata": {},
   "outputs": [],
   "source": []
  }
 ],
 "metadata": {
  "kernelspec": {
   "display_name": "Python 3",
   "language": "python",
   "name": "python3"
  },
  "language_info": {
   "codemirror_mode": {
    "name": "ipython",
    "version": 3
   },
   "file_extension": ".py",
   "mimetype": "text/x-python",
   "name": "python",
   "nbconvert_exporter": "python",
   "pygments_lexer": "ipython3",
   "version": "3.11.4"
  }
 },
 "nbformat": 4,
 "nbformat_minor": 2
}
