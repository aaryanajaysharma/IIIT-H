{
 "cells": [
  {
   "cell_type": "code",
   "execution_count": 1,
   "metadata": {},
   "outputs": [],
   "source": [
    "import numpy as np\n",
    "import pandas as pd"
   ]
  },
  {
   "cell_type": "code",
   "execution_count": 2,
   "metadata": {},
   "outputs": [],
   "source": [
    "class PCA:\n",
    "    def __init__(self, n_components=None, whiten=False):\n",
    "        self.n_components = n_components\n",
    "        self.components = None\n",
    "        self.mean = None\n",
    "        self.whiten = whiten\n",
    "        self.explained_variance_ = None\n",
    "        self.explained_variance_ratio_ = None\n",
    "        \n",
    "    def fit(self, X):\n",
    "        self.mean = np.mean(X, axis=0)\n",
    "        X_centered = X - self.mean\n",
    "        cov = np.cov(X_centered, rowvar=False)\n",
    "        eigenvalues, eigenvectors = np.linalg.eigh(cov)\n",
    "        idx = eigenvalues.argsort()[::-1]\n",
    "        eigenvectors = eigenvectors[:, idx]\n",
    "        if self.n_components is not None:\n",
    "            self.components = eigenvectors[:, :self.n_components]\n",
    "            self.explained_variance_ = eigenvalues[idx][:self.n_components]\n",
    "        else:\n",
    "            self.components = eigenvectors\n",
    "            self.explained_variance_ = eigenvalues[idx]\n",
    "        self.explained_variance_ratio_ = self.explained_variance_ / np.sum(eigenvalues)\n",
    "        \n",
    "    def transform(self, X):\n",
    "        X_centered = X - self.mean\n",
    "        transformed = np.dot(X_centered, self.components)\n",
    "        if self.whiten:\n",
    "            transformed /= np.sqrt(self.explained_variance_)\n",
    "        return transformed\n",
    "    \n",
    "    def fit_transform(self, X):\n",
    "        self.fit(X)\n",
    "        return self.transform(X)\n",
    "    \n",
    "    def inverse_transform(self, X):\n",
    "        if self.whiten:\n",
    "            X = X * np.sqrt(self.explained_variance_)\n",
    "        return np.dot(X, self.components.T) + self.mean\n",
    "\n"
   ]
  },
  {
   "cell_type": "markdown",
   "metadata": {},
   "source": [
    "# Data preprocessing"
   ]
  },
  {
   "cell_type": "code",
   "execution_count": 3,
   "metadata": {},
   "outputs": [],
   "source": [
    "import numpy as np\n",
    "import os\n",
    "from random import randrange\n",
    "from matplotlib import pyplot as plt\n",
    "from PIL import Image"
   ]
  },
  {
   "cell_type": "code",
   "execution_count": 4,
   "metadata": {},
   "outputs": [],
   "source": [
    "cfw_dict = {\n",
    "    'Amitabhbachan': 0,\n",
    "    'AamirKhan': 1,\n",
    "    'DwayneJohnson': 2,\n",
    "    'AishwaryaRai': 3,\n",
    "    'BarackObama': 4,\n",
    "    'NarendraModi': 5,\n",
    "    'ManmohanSingh': 6,\n",
    "    'VladimirPutin': 7\n",
    "}\n",
    "\n",
    "opt = {\n",
    "    'image_size': 32,\n",
    "    'is_grayscale': False,\n",
    "    'val_split': 0.75\n",
    "}"
   ]
  },
  {
   "cell_type": "code",
   "execution_count": 5,
   "metadata": {},
   "outputs": [],
   "source": [
    "def load_image(path):\n",
    "    im = Image.open(path).convert('L' if opt['is_grayscale'] else 'RGB')\n",
    "    im = im.resize((opt['image_size'],opt['image_size']))\n",
    "    im = np.array(im)\n",
    "    im = im/256\n",
    "    return im\n",
    "\n",
    "def display_images(imgs,classes,row=1,col=2,w=32,h=32):\n",
    "    fig=plt.figure(figsize=(8, 8))\n",
    "    for i in range(1, col*row +1):\n",
    "        img = imgs[i-1]\n",
    "        fig.add_subplot(row, col, i)\n",
    "        \n",
    "        if opt['is_grayscale']:\n",
    "            plt.imshow(img , cmap='gray') \n",
    "        else:\n",
    "            plt.imshow(img)\n",
    "        \n",
    "        plt.title(\"Class:{}\".format(classes[i-1]))\n",
    "        plt.axis('off')\n",
    "    plt.show()\n",
    "\n",
    "def load_data(dir_path):\n",
    "    image_list = []\n",
    "    y_list = []\n",
    "    label_dict = cfw_dict\n",
    "    for filename in sorted(os.listdir(dir_path)):\n",
    "        if filename.endswith(\".png\"):\n",
    "            im = load_image(os.path.join(dir_path,filename))\n",
    "            y = filename.split('_')[0]\n",
    "            y = label_dict[y] \n",
    "            image_list.append(im)\n",
    "            y_list.append(y)\n",
    "        else:\n",
    "            continue\n",
    "    image_list = np.array(image_list)\n",
    "    y_list = np.array(y_list)\n",
    "    print(\"Dataset shape:\",image_list.shape)\n",
    "    print(\"Label shape:\",y_list.shape)\n",
    "\n",
    "    return image_list,y_list"
   ]
  },
  {
   "cell_type": "code",
   "execution_count": 18,
   "metadata": {},
   "outputs": [
    {
     "name": "stdout",
     "output_type": "stream",
     "text": [
      "Dataset shape: (672, 32, 32, 3)\n",
      "Label shape: (672,)\n"
     ]
    }
   ],
   "source": [
    "dirpath = '/Users/aaryansharma/Downloads/SMAI-Dataset-release/IIIT-CFW'\n",
    "X,y = load_data(dirpath)"
   ]
  },
  {
   "cell_type": "markdown",
   "metadata": {},
   "source": [
    "### Data Description\n",
    "\n",
    "#### `X` array\n",
    "`X` is the dataset, a numpy array of shape `(N, H, W, C)`, where `N` is the number of images, `H` is the height of the image, `W` is the width of the image, and `C` is the number of channels in the image.\n",
    "\n",
    "#### `y` array\n",
    "`y` is a numpy array of shape `(N,)`, where `N` is the number of images. It contains the labels of the images."
   ]
  },
  {
   "cell_type": "code",
   "execution_count": 7,
   "metadata": {},
   "outputs": [
    {
     "data": {
      "image/png": "[encoded data removed]",
      "text/plain": [
       "<Figure size 800x800 with 6 Axes>"
      ]
     },
     "metadata": {},
     "output_type": "display_data"
    }
   ],
   "source": [
    "N,H,W = X.shape[0:3]\n",
    "C = 1 if opt['is_grayscale'] else X.shape[3]\n",
    "\n",
    "ind = np.random.randint(0,y.shape[0],6)\n",
    "display_images(X[ind,...],y[ind], row=2,col=3)"
   ]
  },
  {
   "cell_type": "code",
   "execution_count": 8,
   "metadata": {},
   "outputs": [
    {
     "name": "stdout",
     "output_type": "stream",
     "text": [
      "(672, 32, 32, 3)\n",
      "672\n",
      "(672, 3072)\n"
     ]
    }
   ],
   "source": [
    "print(X.shape)\n",
    "reshape_example = X.reshape(X.shape[0],-1)\n",
    "print(X.shape[0])\n",
    "print(reshape_example.shape)"
   ]
  },
  {
   "cell_type": "code",
   "execution_count": 10,
   "metadata": {},
   "outputs": [],
   "source": [
    "import matplotlib.pyplot as plt\n",
    "\n",
    "X_reshaped = X.reshape(X.shape[0], -1)\n",
    "# Calculating pca for different values of n_components\n",
    "n_components = [2, 5, 10, 20, 50, 100, 200, 300, 400, 500]\n",
    "cumulative_explained_variance = []\n",
    "for n in n_components:\n",
    "    pca = PCA(n_components=n)\n",
    "    pca.fit_transform(X_reshaped)\n",
    "    cumulative_explained_variance.append(np.sum(pca.explained_variance_ratio_))\n",
    "    \n",
    "    # For debugging\n",
    "\n",
    "    # print(f\"n_components={n}\")\n",
    "    # print(f\"Explained Variance: {pca.explained_variance_}\")\n",
    "    # print(f\"Explained Variance Ratio: {pca.explained_variance_ratio_}\")\n",
    "    # print(f\"Sum of Explained Variance: {np.sum(pca.explained_variance_)}\")\n",
    "    # print(f\"Sum of Explained Variance Ratio: {np.sum(pca.explained_variance_ratio_)}\")\n"
   ]
  },
  {
   "cell_type": "code",
   "execution_count": 11,
   "metadata": {},
   "outputs": [
    {
     "name": "stdout",
     "output_type": "stream",
     "text": [
      "[0.41963403121815196, 0.5303459484363451, 0.619941031875522, 0.7028868452521294, 0.8110605249678828, 0.8860128603333128, 0.949395257669951, 0.9766740993029757, 0.9899538257700424, 0.9964192834424589]\n"
     ]
    },
    {
     "data": {
      "image/png": "[encoded data removed]",
      "text/plain": [
       "<Figure size 640x480 with 1 Axes>"
      ]
     },
     "metadata": {},
     "output_type": "display_data"
    }
   ],
   "source": [
    "# Plot the relationship between the cumulative explained variance and the number of principal components\n",
    "print(cumulative_explained_variance)\n",
    "plt.plot(n_components, cumulative_explained_variance)\n",
    "plt.xlabel('Number of Principal Components')\n",
    "plt.ylabel('Cumulative Explained Variance Ratio')\n",
    "plt.show()"
   ]
  },
  {
   "cell_type": "code",
   "execution_count": 12,
   "metadata": {},
   "outputs": [
    {
     "name": "stderr",
     "output_type": "stream",
     "text": [
      "Clipping input data to the valid range for imshow with RGB data ([0..1] for floats or [0..255] for integers).\n"
     ]
    },
    {
     "data": {
      "image/png": "[encoded data removed]",
      "text/plain": [
       "<Figure size 800x400 with 2 Axes>"
      ]
     },
     "metadata": {},
     "output_type": "display_data"
    }
   ],
   "source": [
    "# create an instance of PCA with n_components=400\n",
    "pca = PCA(n_components=400)\n",
    "\n",
    "# fit the PCA instance on X\n",
    "pca.fit(X_reshaped)\n",
    "\n",
    "# choose a random image from X\n",
    "random_image_index = np.random.randint(X.shape[0])\n",
    "random_image = X[random_image_index]\n",
    "\n",
    "# transform the chosen image using the fitted PCA instance\n",
    "transformed_image = pca.transform(X_reshaped[random_image_index].reshape(1, -1))\n",
    "\n",
    "# inverse transform the transformed image using the fitted PCA instance\n",
    "reconstructed_image = pca.inverse_transform(transformed_image)\n",
    "\n",
    "# display the original and the reconstructed image\n",
    "fig, ax = plt.subplots(1, 2, figsize=(8, 4))\n",
    "ax[0].imshow(random_image)\n",
    "ax[0].set_title('Original Image')\n",
    "ax[1].imshow(reconstructed_image.reshape(H, W, C))\n",
    "ax[1].set_title('Reconstructed Image')\n",
    "plt.show()\n"
   ]
  },
  {
   "cell_type": "markdown",
   "metadata": {},
   "source": [
    "### PCA on Assignment-1 Dataset\n",
    "\n"
   ]
  },
  {
   "cell_type": "code",
   "execution_count": 9,
   "metadata": {},
   "outputs": [],
   "source": [
    "data = np.load('/Users/aaryansharma/Downloads/data.npy', allow_pickle=True)"
   ]
  },
  {
   "cell_type": "code",
   "execution_count": 10,
   "metadata": {},
   "outputs": [
    {
     "name": "stdout",
     "output_type": "stream",
     "text": [
      "(1500, 5)\n"
     ]
    }
   ],
   "source": [
    "print(data.shape)"
   ]
  },
  {
   "cell_type": "code",
   "execution_count": 11,
   "metadata": {},
   "outputs": [
    {
     "name": "stdout",
     "output_type": "stream",
     "text": [
      "(1, 1024)\n"
     ]
    }
   ],
   "source": [
    "print(data[:, 1][0].shape)"
   ]
  },
  {
   "cell_type": "code",
   "execution_count": 12,
   "metadata": {},
   "outputs": [
    {
     "name": "stdout",
     "output_type": "stream",
     "text": [
      "(1500,)\n",
      "(1500,)\n"
     ]
    }
   ],
   "source": [
    "vit_embeddings = data[:, 1]\n",
    "resnet_embeddings = data[:, 2]\n",
    "\n",
    "print(vit_embeddings.shape)\n",
    "print(resnet_embeddings.shape)"
   ]
  },
  {
   "cell_type": "code",
   "execution_count": 13,
   "metadata": {},
   "outputs": [
    {
     "data": {
      "text/plain": [
       "array([ 3.10947031e-01,  2.02134550e-01, -1.65195927e-01, -5.30651547e-02,\n",
       "        5.23523875e-02, -1.09312914e-01,  9.50801000e-02,  5.46784282e-01,\n",
       "        1.77887410e-01, -1.29239470e-01,  4.41051833e-02,  1.62483811e-01,\n",
       "        5.05538166e-01, -1.81502864e-01, -3.72953643e-03,  2.05922946e-01,\n",
       "       -3.28672454e-02,  2.36101121e-01, -1.93321794e-01, -3.24127674e-02,\n",
       "       -2.34914303e-01,  9.93825719e-02,  2.38913178e-01,  1.11546433e-02,\n",
       "       -1.03153531e-02,  2.39208445e-01, -5.91072798e-01, -2.42058225e-02,\n",
       "        2.03015730e-01, -3.03352922e-01,  3.71672064e-01,  3.66571993e-01,\n",
       "        1.68978393e-01,  5.01465261e-01,  5.81834614e-02, -8.25178474e-02,\n",
       "       -1.68615520e-01, -1.74425364e-01, -2.88018227e-01, -1.26360071e+00,\n",
       "       -1.94235846e-01, -2.02687792e-02,  3.90713550e-02, -2.13049755e-01,\n",
       "        2.82879591e-01,  4.54546094e-01,  1.24902450e-01,  1.13772079e-01,\n",
       "       -3.50662977e-01, -3.35117251e-01,  5.50046489e-02, -1.99079067e-01,\n",
       "        2.65548110e-01, -2.36606032e-01, -1.56195253e-01,  1.88390642e-01,\n",
       "        5.49155235e-01,  1.03384450e-01,  1.98262990e-01,  3.01111400e-01,\n",
       "        7.63245285e-01,  4.03957330e-02,  3.29093158e-01, -7.92500749e-02,\n",
       "       -1.18744588e-02, -3.82721722e-02,  1.55496970e-01,  7.72421122e-01,\n",
       "       -3.03640455e-01,  1.08599244e-02, -3.19887429e-01,  6.69365972e-02,\n",
       "        2.16822192e-01,  6.12614572e-01,  2.29726151e-01, -2.15270743e-01,\n",
       "        1.02195986e-01, -3.01546693e-01, -1.24656752e-01, -1.35052636e-01,\n",
       "       -1.95173889e-01, -2.57296950e-01, -1.81125849e-01,  9.72069681e-01,\n",
       "       -5.99963777e-03,  1.94290593e-01,  8.65381718e-01, -2.30826661e-01,\n",
       "       -1.04919206e-02, -2.00496837e-01,  2.38175541e-01, -1.56471044e-01,\n",
       "       -8.38141632e+00,  4.72602308e-01,  1.92194715e-01,  1.55559480e-01,\n",
       "       -1.70672103e-03,  6.03009537e-02,  2.44691551e-01, -6.35491032e-03,\n",
       "       -2.33850945e-02, -2.35774308e-01,  4.99303967e-01, -4.65701744e-02,\n",
       "        4.03807908e-01, -1.89389572e-01, -2.30332398e+00,  3.64629835e-01,\n",
       "        1.16805583e-02, -2.17633933e-01, -5.53722344e-02, -4.02924776e-01,\n",
       "        1.56286582e-02,  1.54207602e-01, -4.41103071e-01, -3.94688874e-01,\n",
       "       -6.29884243e-01, -6.29803613e-02,  2.92122900e-01,  1.88144371e-01,\n",
       "       -1.59800515e-01, -6.19056150e-02,  1.63309500e-01, -9.05305296e-02,\n",
       "        1.24003422e-02,  5.86541630e-02, -5.37368417e-01,  3.73778373e-01,\n",
       "        1.42206520e-01,  5.18243730e-01,  7.77836815e-02,  3.11862618e-01,\n",
       "       -4.77024734e-01,  1.06928718e+00, -2.78727680e-01,  2.10120365e-01,\n",
       "       -3.09186876e-01, -2.78294116e-01, -1.11770086e-01,  1.25164866e-01,\n",
       "       -5.10575056e-01,  9.38392580e-02, -3.83596957e-01, -1.26658425e-01,\n",
       "       -3.61729115e-01,  2.29264379e-01,  8.33138973e-02,  1.79257747e-02,\n",
       "       -2.70811915e-02, -2.14871526e-01, -2.12499604e-01,  8.44571460e-03,\n",
       "        4.24204469e-01, -3.45936656e-01,  1.79541603e-01, -2.85268992e-01,\n",
       "       -2.77498305e-01,  4.27676141e-01, -2.98332889e-02, -1.27300978e-01,\n",
       "        3.59350383e-01,  8.27742834e-03,  1.92351431e-01, -4.94373828e-01,\n",
       "       -1.86190873e-01,  7.87462294e-02, -6.91416502e-01,  1.40010715e-01,\n",
       "       -2.96824098e-01, -4.05269526e-02, -2.68973202e-01,  1.29643351e-01,\n",
       "        1.26167759e-01, -3.38648379e-01, -2.50673562e-01, -5.07623196e-01,\n",
       "       -4.04962778e-01,  2.19708145e-01,  3.15316826e-01,  5.30213356e-01,\n",
       "        2.83819914e-01,  3.40071972e-03, -1.53724328e-01,  4.32190359e-01,\n",
       "        8.08327869e-02, -4.83171821e-01,  2.91735381e-01,  5.74062109e-01,\n",
       "        1.08263016e-01, -1.00159280e-01,  2.53615290e-01,  1.53139085e-02,\n",
       "       -5.13033509e-01, -3.80612016e-01, -5.05953014e-01, -2.58301884e-01,\n",
       "        2.61596650e-01,  3.17704439e-01, -1.98551670e-01,  3.82223338e-01,\n",
       "        1.66434771e-03, -1.37520745e-01,  8.15584362e-02, -3.21164995e-01,\n",
       "        3.44983429e-01, -5.57646096e-01,  8.57870951e-02, -2.94223785e-01,\n",
       "        5.59949828e-03,  4.08182889e-01, -2.42483124e-01,  7.44061947e-01,\n",
       "       -2.02162191e-01,  1.16812527e-01,  3.55819426e-02, -3.10981274e-01,\n",
       "        3.73376518e-01,  7.26576820e-02, -8.84733945e-02,  1.84543684e-01,\n",
       "        2.96130795e-02, -2.13185191e-01,  1.65179446e-02,  3.19546163e-01,\n",
       "        2.50388712e-01,  1.01922207e-01, -2.55155340e-02, -2.32163012e-01,\n",
       "        1.54132217e-01,  4.59229857e-01, -2.83257842e-01,  4.76636410e-01,\n",
       "       -9.58077759e-02,  4.85661566e-01,  3.21048051e-01, -1.24091469e-01,\n",
       "        5.19368723e-02, -5.14603555e-01, -4.41006243e-01,  8.88503809e-03,\n",
       "        2.78343499e-01, -8.34766626e-02,  4.73631471e-02, -1.82366848e-01,\n",
       "       -1.84029162e-01,  2.73594439e-01,  3.98967296e-01,  3.78614575e-01,\n",
       "        3.17221701e-01,  4.13365632e-01,  2.14687169e-01, -1.42980749e-02,\n",
       "        9.48172808e-02, -4.50371839e-02,  3.33354801e-01,  1.17800608e-01,\n",
       "       -1.41736805e-01, -2.82937616e-01, -1.60294592e+00,  2.62324184e-01,\n",
       "       -5.23640811e-01,  2.66108781e-01,  2.44934574e-01,  4.13519442e-01,\n",
       "       -4.51330721e-01, -4.83533919e-01,  2.34928891e-01, -4.82703805e-01,\n",
       "        1.12747647e-01, -3.79419595e-01,  2.85663635e-01,  4.36182953e-02,\n",
       "        2.05967635e-01, -9.56417248e-03,  1.80174008e-01, -3.28213632e-01,\n",
       "       -4.86160874e-01, -1.11740716e-01,  3.84691060e-02,  4.56062198e-01,\n",
       "        1.42984867e-01, -2.54624486e-01, -3.63647640e-01, -7.76203722e-03,\n",
       "       -2.46809386e-02,  1.08087532e-01,  3.10381740e-01,  7.98735768e-02,\n",
       "        4.26595867e-01,  2.74117440e-01,  4.62446839e-01,  3.69352438e-02,\n",
       "        5.11424780e-01,  2.97564447e-01, -5.47971725e-02,  1.76768571e-01,\n",
       "       -2.54470736e-01, -1.26278803e-01,  1.58361435e-01, -2.77497888e-01,\n",
       "        3.52757245e-01, -4.59850132e-01,  2.17649817e-01,  4.87886161e-01,\n",
       "       -4.21563573e-02, -8.76140058e-01,  5.89138448e-01,  1.19155250e-03,\n",
       "        1.17450528e-01,  4.90421504e-01, -1.64512023e-01, -4.59886074e-01,\n",
       "        1.06854320e+00, -8.57745185e-02, -5.77218980e-02,  5.30101955e-01,\n",
       "        4.07381803e-01,  7.04250410e-02,  6.03516027e-02, -2.75140345e-01,\n",
       "        2.48744249e-01,  1.63421381e+00, -1.95296407e-01,  4.43875462e-01,\n",
       "       -2.87325624e-02, -1.62217438e-01,  2.30236948e-01, -1.93544462e-01,\n",
       "        2.33098030e-01,  4.53801513e-01,  3.44097614e-01,  1.81168973e-01,\n",
       "        1.31793439e-01,  2.02535093e-01, -7.03560784e-02,  6.62934035e-02,\n",
       "       -1.90169096e-01, -7.76715875e-02,  1.31129935e-01,  1.79168552e-01,\n",
       "       -4.04254198e-01, -5.73418550e-02,  6.02285862e-01, -1.89353675e-01,\n",
       "        6.99651763e-02,  3.20074648e-01,  1.95109561e-01, -3.99047107e-01,\n",
       "        6.52061775e-02, -3.09105068e-01,  2.97909766e-01, -7.59507194e-02,\n",
       "       -2.61792183e-01, -1.99414819e-01,  1.13901332e-01, -1.10973068e-01,\n",
       "        1.97317433e-02, -4.92675185e-01,  2.35688075e-01,  5.27567029e-01,\n",
       "       -2.84791082e-01, -1.28938466e-01, -3.98267567e-01, -2.63312906e-01,\n",
       "       -6.18427992e-01,  8.42040405e-02, -4.56841588e-01, -3.78430784e-01,\n",
       "        4.45918441e-01, -3.16920727e-01,  3.17189932e-01, -1.30777076e-01,\n",
       "        3.25284511e-01,  3.08431704e-02,  6.03926368e-02, -4.09958631e-01,\n",
       "       -1.28815472e-01,  7.81411901e-02, -2.53325403e-01, -4.19894964e-01,\n",
       "       -5.73734879e-01, -3.04253399e-01, -1.50410816e-01, -6.84874713e-01,\n",
       "       -3.71412858e-02,  4.23314333e-01, -2.99540311e-01, -7.49908268e-01,\n",
       "       -7.16035888e-02, -3.32960874e-01, -2.38206416e-01,  1.61358327e-01,\n",
       "        3.22891437e-02, -2.16511995e-01,  1.54402554e-01,  4.26661372e-01,\n",
       "        5.12461185e-01, -2.12930143e-01, -1.98301658e-01, -5.75052798e-01,\n",
       "        1.35514393e-01,  5.62517568e-02,  7.13206291e-01, -1.49815351e-01,\n",
       "       -1.69178739e-01, -3.99229348e-01, -1.03282265e-01,  2.24374965e-01,\n",
       "        8.77200365e-01,  2.69416690e-01,  3.33564341e-01,  2.80308098e-01,\n",
       "        1.64197490e-01, -1.21889971e-01, -3.85295987e-01,  1.51022658e-01,\n",
       "       -3.59303832e-01, -1.74482688e-01, -2.45146573e-01, -3.23580623e-01,\n",
       "        1.37960196e-01, -5.60511053e-01,  3.06804478e-01, -1.99839428e-01,\n",
       "        4.45425093e-01, -9.65165123e-02, -4.94519055e-01,  1.19304299e-01,\n",
       "       -2.48280838e-02,  7.32248053e-02,  3.05423193e-04,  2.82987028e-01,\n",
       "       -4.15172875e-01, -3.41962129e-01, -4.21577603e-01, -6.02910161e-01,\n",
       "        1.80081725e-02,  1.52106896e-01,  3.26937675e-01, -2.84941425e-03,\n",
       "       -3.27061743e-01,  2.31308475e-01, -1.86731964e-01, -1.69040654e-02,\n",
       "       -4.59495746e-02,  2.16813087e-01, -2.75051594e-01,  2.66901791e-01,\n",
       "       -9.05954614e-02,  1.47722155e-01,  4.72139940e-02, -3.49068969e-01,\n",
       "       -2.87158132e-01,  4.86762971e-01, -3.39635134e-01,  1.96594283e-01,\n",
       "        8.62879753e-02, -5.07506430e-01, -1.15763366e-01, -5.88473631e-03,\n",
       "        2.24408045e-01,  6.13546111e-02,  1.48199797e-01, -4.93119001e-01,\n",
       "       -3.75480413e-01,  2.11837497e-02,  5.62660336e-01,  9.38726589e-02,\n",
       "        4.86242950e-01,  5.44645973e-02,  2.01991007e-01,  2.37960994e-01,\n",
       "        1.31326348e-01,  1.95690945e-01, -2.67025322e-01, -1.49565816e-01,\n",
       "       -3.14390957e-01,  6.75539449e-02, -5.24924286e-02, -4.70025837e-01,\n",
       "       -7.80150220e-02, -1.34166688e-01,  2.40987137e-01,  1.07549183e-01,\n",
       "        8.76875296e-02, -7.64763877e-02,  2.59244591e-01,  9.67015624e-02,\n",
       "       -9.97516736e-02, -6.57737374e-01,  8.25282931e-03, -1.22410014e-01,\n",
       "        1.97195143e-01, -9.99196842e-02,  1.24799415e-01,  1.38617232e-01,\n",
       "        1.80556457e-02,  3.49762477e-02, -2.62056123e-02, -6.66238964e-02,\n",
       "       -4.23633456e-01,  1.46357402e-01, -2.39045210e-02, -1.40505098e-02,\n",
       "        3.09489936e-01, -2.63500623e-02,  2.20668301e-01,  4.64528240e-02,\n",
       "       -1.58982858e-01,  8.87031913e-01, -3.66658807e-01, -2.22743347e-01],\n",
       "      dtype=float32)"
      ]
     },
     "execution_count": 13,
     "metadata": {},
     "output_type": "execute_result"
    }
   ],
   "source": [
    "z =data[:, 2]\n",
    "vit = []\n",
    "for array in z:\n",
    "    vit.append(array)\n",
    "\n",
    "vit = np.array(vit)\n",
    "vit = vit[:, 0, :]\n",
    "vit[0]"
   ]
  },
  {
   "cell_type": "code",
   "execution_count": 14,
   "metadata": {},
   "outputs": [
    {
     "name": "stdout",
     "output_type": "stream",
     "text": [
      "(1500, 512)\n"
     ]
    }
   ],
   "source": [
    "print(vit.shape)"
   ]
  },
  {
   "cell_type": "code",
   "execution_count": 15,
   "metadata": {},
   "outputs": [
    {
     "name": "stdout",
     "output_type": "stream",
     "text": [
      "(1500,)\n"
     ]
    },
    {
     "data": {
      "text/plain": [
       "(1500, 1024)"
      ]
     },
     "execution_count": 15,
     "metadata": {},
     "output_type": "execute_result"
    }
   ],
   "source": [
    "it = data[:, 1]\n",
    "print(it.shape)\n",
    "\n",
    "resnet = []\n",
    "\n",
    "for array in it:\n",
    "    resnet.append(array)\n",
    "\n",
    "resnet = np.array(resnet)\n",
    "resnet = resnet[:, 0, :]\n",
    "resnet.shape"
   ]
  },
  {
   "cell_type": "code",
   "execution_count": 20,
   "metadata": {},
   "outputs": [],
   "source": [
    "n_components = [2, 5, 10, 20, 50, 100, 200, 300, 350]\n",
    "cumulative_explained_variance_vit = []\n",
    "for n in n_components:\n",
    "    pca = PCA(n_components=n)\n",
    "    pca.fit_transform(vit)\n",
    "    cumulative_explained_variance_vit.append(np.sum(pca.explained_variance_ratio_))\n"
   ]
  },
  {
   "cell_type": "code",
   "execution_count": 21,
   "metadata": {},
   "outputs": [
    {
     "name": "stdout",
     "output_type": "stream",
     "text": [
      "[0.1796865865603371, 0.3043130934258055, 0.4365705511795902, 0.5738763721917375, 0.7460278360165725, 0.8597620960233533, 0.9480894880924076, 0.981061717272222, 0.9894148241642797]\n"
     ]
    },
    {
     "data": {
      "image/png": "[encoded data removed]",
      "text/plain": [
       "<Figure size 640x480 with 1 Axes>"
      ]
     },
     "metadata": {},
     "output_type": "display_data"
    }
   ],
   "source": [
    "print(cumulative_explained_variance_vit)\n",
    "plt.plot(n_components, cumulative_explained_variance_vit)\n",
    "plt.xlabel('Number of Principal Components')\n",
    "plt.ylabel('Cumulative Explained Variance Ratio for VIT')\n",
    "plt.show()"
   ]
  },
  {
   "cell_type": "code",
   "execution_count": 22,
   "metadata": {},
   "outputs": [],
   "source": [
    "n_components = [2, 5, 10, 20, 50, 100, 200, 300, 350]\n",
    "cumulative_explained_variance_resnet = []\n",
    "for n in n_components:\n",
    "    pca = PCA(n_components=n)\n",
    "    pca.fit_transform(resnet)\n",
    "    cumulative_explained_variance_resnet.append(np.sum(pca.explained_variance_ratio_))"
   ]
  },
  {
   "cell_type": "code",
   "execution_count": 23,
   "metadata": {},
   "outputs": [
    {
     "name": "stdout",
     "output_type": "stream",
     "text": [
      "[0.22969768266480617, 0.36589530642913354, 0.4921721039312988, 0.6343525551125077, 0.79465064078042, 0.8901258181841479, 0.9596063310997182, 0.9844417241277659, 0.9906398366567826]\n"
     ]
    },
    {
     "data": {
      "image/png": "[encoded data removed]",
      "text/plain": [
       "<Figure size 640x480 with 1 Axes>"
      ]
     },
     "metadata": {},
     "output_type": "display_data"
    }
   ],
   "source": [
    "print(cumulative_explained_variance_resnet)\n",
    "plt.plot(n_components, cumulative_explained_variance_resnet)\n",
    "plt.xlabel('Number of Principal Components')\n",
    "plt.ylabel('Cumulative Explained Variance Ratio for ResNet')\n",
    "plt.show()"
   ]
  },
  {
   "cell_type": "markdown",
   "metadata": {},
   "source": [
    "### Metric Reporting"
   ]
  },
  {
   "cell_type": "code",
   "execution_count": 24,
   "metadata": {},
   "outputs": [
    {
     "data": {
      "text/plain": [
       "(1500, 350)"
      ]
     },
     "execution_count": 24,
     "metadata": {},
     "output_type": "execute_result"
    }
   ],
   "source": [
    "# For ResNet embeddings\n",
    "\n",
    "# create an instance of PCA with n_components=350\n",
    "\n",
    "pca = PCA(n_components=350)\n",
    "\n",
    "# fit the PCA instance on X\n",
    "resnet_transformed = pca.fit_transform(resnet)\n",
    "\n",
    "resnet_transformed.shape\n"
   ]
  },
  {
   "cell_type": "code",
   "execution_count": 25,
   "metadata": {},
   "outputs": [
    {
     "data": {
      "text/plain": [
       "(1500, 350)"
      ]
     },
     "execution_count": 25,
     "metadata": {},
     "output_type": "execute_result"
    }
   ],
   "source": [
    "# For VIT embeddings\n",
    "\n",
    "pca = PCA(n_components=350)\n",
    "\n",
    "# fit the PCA instance on X\n",
    "vit_transformed = pca.fit_transform(vit)\n",
    "\n",
    "vit_transformed.shape"
   ]
  },
  {
   "cell_type": "code",
   "execution_count": 23,
   "metadata": {},
   "outputs": [],
   "source": [
    "from sklearn.model_selection import train_test_split\n",
    "from sklearn.preprocessing import MultiLabelBinarizer, StandardScaler\n",
    "from sklearn.metrics import f1_score, accuracy_score, precision_score, recall_score, confusion_matrix, multilabel_confusion_matrix\n",
    "from sklearn.model_selection import train_test_split, cross_val_score\n",
    "from collections import Counter\n",
    "from icecream import ic\n",
    "ic.disable()"
   ]
  },
  {
   "cell_type": "code",
   "execution_count": 29,
   "metadata": {},
   "outputs": [],
   "source": [
    "# Predicting data using KNN\n",
    "class KNN:\n",
    "    def __init__(self, k=3, metric_type='euclidean', encoder_type='vit'):\n",
    "        self.k = k\n",
    "        self.metric_type = metric_type\n",
    "        self.encoder_type = encoder_type\n",
    "\n",
    "    def fit(self, X_resnet, X_vit, y_resnet, y_vit):\n",
    "        ic(X_resnet.shape, X_vit.shape, y_resnet.shape, y_vit.shape)\n",
    "        if self.encoder_type == 'resnet':\n",
    "            self.X_train = X_resnet\n",
    "            self.y_train = y_resnet\n",
    "        elif self.encoder_type == 'vit':\n",
    "            self.X_train = X_vit\n",
    "            self.y_train = y_vit\n",
    "        self.X_train = StandardScaler().fit_transform(self.X_train)\n",
    "        \n",
    "    def predict(self, X):\n",
    "        predictions = [self.predict_helper(x) for x in X]\n",
    "        return np.array(predictions)\n",
    "    \n",
    "    def predict_helper(self, x):\n",
    "        # compute the distances\n",
    "        # check dimensionality of x, x_train\n",
    "        ic(x.shape)\n",
    "        ic(self.X_train.shape)\n",
    "        ic(self.encoder_type)\n",
    "        distances = [self.distance_metric(x, x_train) for x_train in self.X_train]\n",
    "        if None in distances:\n",
    "            print(distances)\n",
    "            raise ValueError(\"None value in distances\")\n",
    "        k_indices = np.argsort(distances)[:self.k]\n",
    "        k_nearest_labels = [self.y_train[i] for i in k_indices]\n",
    "\n",
    "        # return the most common label\n",
    "        most_common = Counter(k_nearest_labels).most_common()\n",
    "        return most_common[0][0]\n",
    "    \n",
    "    def distance_metric(self, x1, x2):\n",
    "        if self.metric_type == 'euclidean':\n",
    "            return np.linalg.norm(x1 - x2)\n",
    "        elif self.metric_type == 'manhattan':\n",
    "            ic(x1.shape)\n",
    "            ic(x2.shape)\n",
    "            return np.sum(np.abs(x1 - x2))\n",
    "        elif self.metric_type == 'cosine':\n",
    "            x1 = np.squeeze(x1)\n",
    "            x2 = np.squeeze(x2)\n",
    "            return 1 - np.dot(x1, x2) / (np.linalg.norm(x1) * np.linalg.norm(x2))\n",
    "    \n",
    "    def score(self, X_val_resnet, X_val_vit, y_val_resnet, y_val_vit):\n",
    "            # if self.encoder_type == 'resnet':\n",
    "            #     X = X[:, 0]\n",
    "            # elif self.encoder_type == 'vit':\n",
    "            #     X = X[:, 1]\n",
    "        # X_train, X_val, y_train, y_val = train_test_split(X, y, test_size=0.2)\n",
    "        # self.fit(X_train, y_train)\n",
    "        X_val_resnet = StandardScaler().fit_transform(X_val_resnet)\n",
    "        X_val_vit = StandardScaler().fit_transform(X_val_vit)\n",
    "        if self.encoder_type == 'resnet':\n",
    "            y_pred = self.predict(X_val_resnet)\n",
    "            y = y_val_resnet\n",
    "        elif self.encoder_type == 'vit':\n",
    "            y_pred = self.predict(X_val_vit)\n",
    "            y = y_val_vit\n",
    "\n",
    "        # y_pred = self.predict(X)  \n",
    "        f1 = f1_score(y, y_pred, average='macro')\n",
    "        accuracy = accuracy_score(y, y_pred)\n",
    "        precision = precision_score(y, y_pred, average='macro', zero_division=1)\n",
    "        recall = recall_score(y, y_pred, average='macro', zero_division=1)\n",
    "        return f1, accuracy, precision, recall"
   ]
  },
  {
   "cell_type": "code",
   "execution_count": 30,
   "metadata": {},
   "outputs": [
    {
     "name": "stdout",
     "output_type": "stream",
     "text": [
      "(1200, 350) (300, 350) (1200,) (300,)\n",
      "(1200, 350) (300, 350) (1200,) (300,)\n"
     ]
    }
   ],
   "source": [
    "# Split data into train and validation set\n",
    "X_train_vit_transformed, X_val_vit_transformed, y_train_vit_transformed, y_val_vit_transformed = train_test_split(vit_transformed, data[:, 3], test_size=0.2)\n",
    "X_train_resnet_transformed, X_val_resnet_transformed, y_train_resnet_transformed, y_val_resnet_transformed = train_test_split(resnet_transformed, data[:, 3], test_size=0.2)\n",
    "print(X_train_resnet_transformed.shape, X_val_resnet_transformed.shape, y_train_resnet_transformed.shape, y_val_resnet_transformed.shape)\n",
    "print(X_train_vit_transformed.shape, X_val_vit_transformed.shape, y_train_vit_transformed.shape, y_val_vit_transformed.shape)"
   ]
  },
  {
   "cell_type": "code",
   "execution_count": 31,
   "metadata": {},
   "outputs": [],
   "source": [
    "encoding_type = ['vit', 'resnet']\n",
    "metric_type = ['manhattan', 'euclidean', 'cosine']\n",
    "results = []\n",
    "for encoding in encoding_type:\n",
    "    for metric in metric_type:\n",
    "        for k in range(1, 39):\n",
    "            knn_model = KNN(k=k, metric_type=metric, encoder_type=encoding)\n",
    "            knn_model.fit(X_train_resnet_transformed, X_train_vit_transformed, y_train_resnet_transformed, y_train_vit_transformed)\n",
    "            f1, accuracy, precision, recall = knn_model.score(X_val_resnet_transformed, X_val_vit_transformed, y_val_resnet_transformed, y_val_vit_transformed)\n",
    "            results.append([encoding, metric, k, f1, accuracy, precision, recall])"
   ]
  },
  {
   "cell_type": "code",
   "execution_count": 33,
   "metadata": {},
   "outputs": [
    {
     "name": "stdout",
     "output_type": "stream",
     "text": [
      "(228, 7)\n",
      "Rank:  1   \n",
      "Encoding:  vit   \n",
      "Metric:  cosine   \n",
      "K:  9   \n",
      "F1:  0.1954180922907654   \n",
      "Accuracy:  0.31   \n",
      "Precision:  0.45830068314245537   \n",
      "Recall:  0.3477144866385372   \n",
      "--------------------------------------\n",
      "Rank:  2   \n",
      "Encoding:  vit   \n",
      "Metric:  cosine   \n",
      "K:  11   \n",
      "F1:  0.19823749026237714   \n",
      "Accuracy:  0.30666666666666664   \n",
      "Precision:  0.4625279812779813   \n",
      "Recall:  0.3334757834757835   \n",
      "--------------------------------------\n",
      "Rank:  3   \n",
      "Encoding:  vit   \n",
      "Metric:  cosine   \n",
      "K:  10   \n",
      "F1:  0.18592208753141048   \n",
      "Accuracy:  0.30333333333333334   \n",
      "Precision:  0.44924378556454025   \n",
      "Recall:  0.34426974143955275   \n",
      "--------------------------------------\n",
      "Rank:  4   \n",
      "Encoding:  vit   \n",
      "Metric:  cosine   \n",
      "K:  12   \n",
      "F1:  0.19062988034525033   \n",
      "Accuracy:  0.3   \n",
      "Precision:  0.4699948796722991   \n",
      "Recall:  0.3194982078853047   \n",
      "--------------------------------------\n",
      "Rank:  5   \n",
      "Encoding:  vit   \n",
      "Metric:  cosine   \n",
      "K:  5   \n",
      "F1:  0.19577117857372633   \n",
      "Accuracy:  0.2966666666666667   \n",
      "Precision:  0.43319684561722777   \n",
      "Recall:  0.34232130219391366   \n",
      "--------------------------------------\n",
      "Rank:  6   \n",
      "Encoding:  vit   \n",
      "Metric:  cosine   \n",
      "K:  33   \n",
      "F1:  0.17711086428191694   \n",
      "Accuracy:  0.29333333333333333   \n",
      "Precision:  0.5690737259816208   \n",
      "Recall:  0.30237573099415205   \n",
      "--------------------------------------\n",
      "Rank:  7   \n",
      "Encoding:  vit   \n",
      "Metric:  cosine   \n",
      "K:  32   \n",
      "F1:  0.1737851271353414   \n",
      "Accuracy:  0.29333333333333333   \n",
      "Precision:  0.553203805024997   \n",
      "Recall:  0.2977557027225901   \n",
      "--------------------------------------\n",
      "Rank:  8   \n",
      "Encoding:  vit   \n",
      "Metric:  cosine   \n",
      "K:  13   \n",
      "F1:  0.18736585573397718   \n",
      "Accuracy:  0.29333333333333333   \n",
      "Precision:  0.46027789414886194   \n",
      "Recall:  0.31663082437275986   \n",
      "--------------------------------------\n",
      "Rank:  9   \n",
      "Encoding:  vit   \n",
      "Metric:  cosine   \n",
      "K:  8   \n",
      "F1:  0.18665749303929105   \n",
      "Accuracy:  0.29333333333333333   \n",
      "Precision:  0.44471897773784574   \n",
      "Recall:  0.34273235499650595   \n",
      "--------------------------------------\n",
      "Rank:  10   \n",
      "Encoding:  vit   \n",
      "Metric:  cosine   \n",
      "K:  38   \n",
      "F1:  0.15691505985874374   \n",
      "Accuracy:  0.29   \n",
      "Precision:  0.5669545596016184   \n",
      "Recall:  0.28968772694262884   \n",
      "--------------------------------------\n",
      "Rank:  11   \n",
      "Encoding:  vit   \n",
      "Metric:  cosine   \n",
      "K:  35   \n",
      "F1:  0.16629018702259762   \n",
      "Accuracy:  0.29   \n",
      "Precision:  0.5588107789088181   \n",
      "Recall:  0.29876543209876544   \n",
      "--------------------------------------\n",
      "Rank:  12   \n",
      "Encoding:  vit   \n",
      "Metric:  cosine   \n",
      "K:  34   \n",
      "F1:  0.17142951456676947   \n",
      "Accuracy:  0.29   \n",
      "Precision:  0.558242556281772   \n",
      "Recall:  0.30366739288307915   \n",
      "--------------------------------------\n",
      "Rank:  13   \n",
      "Encoding:  vit   \n",
      "Metric:  cosine   \n",
      "K:  29   \n",
      "F1:  0.17202285091558447   \n",
      "Accuracy:  0.29   \n",
      "Precision:  0.5346384552266906   \n",
      "Recall:  0.30475671750181554   \n",
      "--------------------------------------\n",
      "Rank:  14   \n",
      "Encoding:  vit   \n",
      "Metric:  cosine   \n",
      "K:  14   \n",
      "F1:  0.18167076229694826   \n",
      "Accuracy:  0.29   \n",
      "Precision:  0.4660433831401574   \n",
      "Recall:  0.3123297491039427   \n",
      "--------------------------------------\n",
      "Rank:  15   \n",
      "Encoding:  vit   \n",
      "Metric:  cosine   \n",
      "K:  37   \n",
      "F1:  0.15872047556015262   \n",
      "Accuracy:  0.29   \n",
      "Precision:  0.5562791783380018   \n",
      "Recall:  0.2911401597676107   \n",
      "--------------------------------------\n",
      "Rank:  16   \n",
      "Encoding:  vit   \n",
      "Metric:  cosine   \n",
      "K:  36   \n",
      "F1:  0.15707395889284434   \n",
      "Accuracy:  0.2866666666666667   \n",
      "Precision:  0.5628638357256779   \n",
      "Recall:  0.28538011695906434   \n",
      "--------------------------------------\n",
      "Rank:  17   \n",
      "Encoding:  vit   \n",
      "Metric:  cosine   \n",
      "K:  31   \n",
      "F1:  0.16905189127627773   \n",
      "Accuracy:  0.2866666666666667   \n",
      "Precision:  0.551055732347123   \n",
      "Recall:  0.2933406916850625   \n",
      "--------------------------------------\n",
      "Rank:  18   \n",
      "Encoding:  vit   \n",
      "Metric:  cosine   \n",
      "K:  30   \n",
      "F1:  0.17101584453558138   \n",
      "Accuracy:  0.2866666666666667   \n",
      "Precision:  0.5361979760006076   \n",
      "Recall:  0.2990862573099415   \n",
      "--------------------------------------\n",
      "Rank:  19   \n",
      "Encoding:  vit   \n",
      "Metric:  cosine   \n",
      "K:  15   \n",
      "F1:  0.1696405344602688   \n",
      "Accuracy:  0.2866666666666667   \n",
      "Precision:  0.472983987338826   \n",
      "Recall:  0.3003584229390681   \n",
      "--------------------------------------\n",
      "Rank:  20   \n",
      "Encoding:  vit   \n",
      "Metric:  cosine   \n",
      "K:  16   \n",
      "F1:  0.16945826539982384   \n",
      "Accuracy:  0.2866666666666667   \n",
      "Precision:  0.48178210678210676   \n",
      "Recall:  0.29365079365079366   \n",
      "--------------------------------------\n"
     ]
    }
   ],
   "source": [
    "results = np.array(results)\n",
    "# print(results)\n",
    "print(results.shape)\n",
    "\n",
    "sorted_indices = np.argsort(results[:, 4])[::-1]\n",
    "\n",
    "# Keep only the top 20 rows\n",
    "top_20_results = results[sorted_indices[:20]]\n",
    "for i in range(top_20_results.shape[0]):\n",
    "    print( \"Rank: \", i+1, \"  \")\n",
    "    print(\"Encoding: \", top_20_results[i, 0], \"  \")\n",
    "    print(\"Metric: \", top_20_results[i, 1], \"  \")\n",
    "    print(\"K: \", top_20_results[i, 2], \"  \")\n",
    "    print(\"F1: \", top_20_results[i, 3], \"  \")\n",
    "    print(\"Accuracy: \", top_20_results[i, 4], \"  \")\n",
    "    print(\"Precision: \", top_20_results[i, 5], \"  \")\n",
    "    print(\"Recall: \", top_20_results[i, 6], \"  \")\n",
    "    print(\"--------------------------------------\")"
   ]
  },
  {
   "cell_type": "code",
   "execution_count": null,
   "metadata": {},
   "outputs": [],
   "source": [
    "import matplotlib.pyplot as plt\n",
    "\n",
    "X_reshaped = X.reshape(X.shape[0], -1)\n",
    "# Calculating pca for different values of n_components\n",
    "n_components = 50\n",
    "pca_dataset = []\n",
    "cumulative_explained_variance = []\n",
    "for n in range(1, n_components+1):\n",
    "    pca = PCA(n_components=n)\n",
    "    pca.fit_transform(X_reshaped)\n",
    "    pca_dataset.append(pca.transform(X_reshaped))\n",
    "    cumulative_explained_variance.append(np.sum(pca.explained_variance_ratio_))\n",
    "\n",
    "# Predicting pca_dataset using KNN\n",
    "\n",
    "# Split data into train and validation set\n",
    "    "
   ]
  },
  {
   "cell_type": "code",
   "execution_count": 31,
   "metadata": {},
   "outputs": [
    {
     "data": {
      "image/png": "[encoded data removed]",
      "text/plain": [
       "<Figure size 640x480 with 1 Axes>"
      ]
     },
     "metadata": {},
     "output_type": "display_data"
    }
   ],
   "source": [
    "results = []\n",
    "\n",
    "from sklearn.neighbors import KNeighborsClassifier\n",
    "\n",
    "for pca_data in pca_dataset:\n",
    "    X_train, X_val, y_train, y_val = train_test_split(pca_data, y, test_size=0.2)\n",
    "    knn_model = KNeighborsClassifier(n_neighbors=3, metric='euclidean')\n",
    "    knn_model.fit(X_train, y_train)\n",
    "    accuracy = knn_model.score(X_val, y_val)\n",
    "    # print(y_pred.shape, y.shape)\n",
    "    # accuracy = accuracy_score(y, y_pred)\n",
    "    results.append(accuracy)\n",
    "\n",
    "# Plotting the graph\n",
    "plt.plot(range(1, n_components+1), results)\n",
    "plt.xlabel('Number of Components')\n",
    "plt.ylabel('Accuracy')\n",
    "plt.title('Number of Components vs Accuracy')\n",
    "plt.show()\n"
   ]
  },
  {
   "cell_type": "markdown",
   "metadata": {},
   "source": [
    "We observe that as we increase the number of components, the accuracy increases. This is because we are able to capture more variance in the data. However, we also observe that the accuracy saturates after a certain number of components. This is because the components after that do not contribute much to the variance in the data."
   ]
  },
  {
   "cell_type": "markdown",
   "metadata": {},
   "source": [
    "### PCA 2.2"
   ]
  },
  {
   "cell_type": "code",
   "execution_count": 32,
   "metadata": {},
   "outputs": [],
   "source": [
    "drawer_df = pd.read_csv('/Users/aaryansharma/Downloads/smai_assignment_pictionary/drawer_attributes.csv')\n",
    "guess_df = pd.read_csv('/Users/aaryansharma/Downloads/smai_assignment_pictionary/guesser_attributes.csv')"
   ]
  },
  {
   "cell_type": "code",
   "execution_count": 33,
   "metadata": {},
   "outputs": [
    {
     "data": {
      "text/html": [
       "<div>\n",
       "<style scoped>\n",
       "    .dataframe tbody tr th:only-of-type {\n",
       "        vertical-align: middle;\n",
       "    }\n",
       "\n",
       "    .dataframe tbody tr th {\n",
       "        vertical-align: top;\n",
       "    }\n",
       "\n",
       "    .dataframe thead th {\n",
       "        text-align: right;\n",
       "    }\n",
       "</style>\n",
       "<table border=\"1\" class=\"dataframe\">\n",
       "  <thead>\n",
       "    <tr style=\"text-align: right;\">\n",
       "      <th></th>\n",
       "      <th>d_drawer</th>\n",
       "      <th>d_area_median</th>\n",
       "      <th>d_stroke_freq_median</th>\n",
       "      <th>d_rangestroketime_median</th>\n",
       "      <th>d_firststroketime_median</th>\n",
       "      <th>d_laststroketime_median</th>\n",
       "      <th>d_pcgamestup</th>\n",
       "      <th>d_pcgamestdown</th>\n",
       "      <th>d_pcgameserasehighlight</th>\n",
       "    </tr>\n",
       "  </thead>\n",
       "  <tbody>\n",
       "    <tr>\n",
       "      <th>0</th>\n",
       "      <td>10</td>\n",
       "      <td>0.000000</td>\n",
       "      <td>0.000000</td>\n",
       "      <td>0.000</td>\n",
       "      <td>0.000</td>\n",
       "      <td>0.000</td>\n",
       "      <td>0.00</td>\n",
       "      <td>0.0</td>\n",
       "      <td>0.000000</td>\n",
       "    </tr>\n",
       "    <tr>\n",
       "      <th>1</th>\n",
       "      <td>36</td>\n",
       "      <td>82306.749763</td>\n",
       "      <td>0.578802</td>\n",
       "      <td>21.660</td>\n",
       "      <td>3.512</td>\n",
       "      <td>26.815</td>\n",
       "      <td>0.00</td>\n",
       "      <td>0.0</td>\n",
       "      <td>0.777778</td>\n",
       "    </tr>\n",
       "    <tr>\n",
       "      <th>2</th>\n",
       "      <td>14</td>\n",
       "      <td>60929.328432</td>\n",
       "      <td>0.239168</td>\n",
       "      <td>25.087</td>\n",
       "      <td>1.368</td>\n",
       "      <td>26.455</td>\n",
       "      <td>1.00</td>\n",
       "      <td>1.0</td>\n",
       "      <td>1.000000</td>\n",
       "    </tr>\n",
       "    <tr>\n",
       "      <th>3</th>\n",
       "      <td>26</td>\n",
       "      <td>119037.637976</td>\n",
       "      <td>0.402533</td>\n",
       "      <td>54.162</td>\n",
       "      <td>2.459</td>\n",
       "      <td>56.621</td>\n",
       "      <td>0.75</td>\n",
       "      <td>0.5</td>\n",
       "      <td>1.000000</td>\n",
       "    </tr>\n",
       "    <tr>\n",
       "      <th>4</th>\n",
       "      <td>40</td>\n",
       "      <td>0.000000</td>\n",
       "      <td>0.000000</td>\n",
       "      <td>0.000</td>\n",
       "      <td>0.000</td>\n",
       "      <td>0.000</td>\n",
       "      <td>0.00</td>\n",
       "      <td>0.0</td>\n",
       "      <td>0.000000</td>\n",
       "    </tr>\n",
       "  </tbody>\n",
       "</table>\n",
       "</div>"
      ],
      "text/plain": [
       "   d_drawer  d_area_median  d_stroke_freq_median  d_rangestroketime_median  \\\n",
       "0        10       0.000000              0.000000                     0.000   \n",
       "1        36   82306.749763              0.578802                    21.660   \n",
       "2        14   60929.328432              0.239168                    25.087   \n",
       "3        26  119037.637976              0.402533                    54.162   \n",
       "4        40       0.000000              0.000000                     0.000   \n",
       "\n",
       "   d_firststroketime_median  d_laststroketime_median  d_pcgamestup  \\\n",
       "0                     0.000                    0.000          0.00   \n",
       "1                     3.512                   26.815          0.00   \n",
       "2                     1.368                   26.455          1.00   \n",
       "3                     2.459                   56.621          0.75   \n",
       "4                     0.000                    0.000          0.00   \n",
       "\n",
       "   d_pcgamestdown  d_pcgameserasehighlight  \n",
       "0             0.0                 0.000000  \n",
       "1             0.0                 0.777778  \n",
       "2             1.0                 1.000000  \n",
       "3             0.5                 1.000000  \n",
       "4             0.0                 0.000000  "
      ]
     },
     "execution_count": 33,
     "metadata": {},
     "output_type": "execute_result"
    }
   ],
   "source": [
    "drawer_df.head()"
   ]
  },
  {
   "cell_type": "code",
   "execution_count": 34,
   "metadata": {},
   "outputs": [
    {
     "data": {
      "text/html": [
       "<div>\n",
       "<style scoped>\n",
       "    .dataframe tbody tr th:only-of-type {\n",
       "        vertical-align: middle;\n",
       "    }\n",
       "\n",
       "    .dataframe tbody tr th {\n",
       "        vertical-align: top;\n",
       "    }\n",
       "\n",
       "    .dataframe thead th {\n",
       "        text-align: right;\n",
       "    }\n",
       "</style>\n",
       "<table border=\"1\" class=\"dataframe\">\n",
       "  <thead>\n",
       "    <tr style=\"text-align: right;\">\n",
       "      <th></th>\n",
       "      <th>g_guesser</th>\n",
       "      <th>g_noofmessage_median</th>\n",
       "      <th>g_firstmessagetime_median</th>\n",
       "      <th>g_lastmessagetime_median</th>\n",
       "      <th>g_rangemessagetime_median</th>\n",
       "      <th>g_pcgamesconfusion</th>\n",
       "      <th>g_entropy</th>\n",
       "    </tr>\n",
       "  </thead>\n",
       "  <tbody>\n",
       "    <tr>\n",
       "      <th>0</th>\n",
       "      <td>10</td>\n",
       "      <td>0.0</td>\n",
       "      <td>0.000000</td>\n",
       "      <td>0.000000</td>\n",
       "      <td>0.000000</td>\n",
       "      <td>0.0</td>\n",
       "      <td>0.000000</td>\n",
       "    </tr>\n",
       "    <tr>\n",
       "      <th>1</th>\n",
       "      <td>36</td>\n",
       "      <td>1.0</td>\n",
       "      <td>25.367172</td>\n",
       "      <td>39.041594</td>\n",
       "      <td>0.000000</td>\n",
       "      <td>0.0</td>\n",
       "      <td>0.000000</td>\n",
       "    </tr>\n",
       "    <tr>\n",
       "      <th>2</th>\n",
       "      <td>14</td>\n",
       "      <td>2.0</td>\n",
       "      <td>12.988740</td>\n",
       "      <td>51.351317</td>\n",
       "      <td>38.362577</td>\n",
       "      <td>1.0</td>\n",
       "      <td>0.693147</td>\n",
       "    </tr>\n",
       "    <tr>\n",
       "      <th>3</th>\n",
       "      <td>26</td>\n",
       "      <td>3.5</td>\n",
       "      <td>20.622346</td>\n",
       "      <td>64.718058</td>\n",
       "      <td>44.095712</td>\n",
       "      <td>0.0</td>\n",
       "      <td>1.242453</td>\n",
       "    </tr>\n",
       "    <tr>\n",
       "      <th>4</th>\n",
       "      <td>40</td>\n",
       "      <td>3.0</td>\n",
       "      <td>30.339558</td>\n",
       "      <td>78.943003</td>\n",
       "      <td>48.603445</td>\n",
       "      <td>0.0</td>\n",
       "      <td>1.098612</td>\n",
       "    </tr>\n",
       "  </tbody>\n",
       "</table>\n",
       "</div>"
      ],
      "text/plain": [
       "   g_guesser  g_noofmessage_median  g_firstmessagetime_median  \\\n",
       "0         10                   0.0                   0.000000   \n",
       "1         36                   1.0                  25.367172   \n",
       "2         14                   2.0                  12.988740   \n",
       "3         26                   3.5                  20.622346   \n",
       "4         40                   3.0                  30.339558   \n",
       "\n",
       "   g_lastmessagetime_median  g_rangemessagetime_median  g_pcgamesconfusion  \\\n",
       "0                  0.000000                   0.000000                 0.0   \n",
       "1                 39.041594                   0.000000                 0.0   \n",
       "2                 51.351317                  38.362577                 1.0   \n",
       "3                 64.718058                  44.095712                 0.0   \n",
       "4                 78.943003                  48.603445                 0.0   \n",
       "\n",
       "   g_entropy  \n",
       "0   0.000000  \n",
       "1   0.000000  \n",
       "2   0.693147  \n",
       "3   1.242453  \n",
       "4   1.098612  "
      ]
     },
     "execution_count": 34,
     "metadata": {},
     "output_type": "execute_result"
    }
   ],
   "source": [
    "guess_df.head()"
   ]
  },
  {
   "cell_type": "code",
   "execution_count": 35,
   "metadata": {},
   "outputs": [
    {
     "data": {
      "text/plain": [
       "(100, 9)"
      ]
     },
     "execution_count": 35,
     "metadata": {},
     "output_type": "execute_result"
    }
   ],
   "source": [
    "# Convert the drawer_df to a numpy array\n",
    "drawer = drawer_df.to_numpy()\n",
    "drawer.shape"
   ]
  },
  {
   "cell_type": "code",
   "execution_count": 36,
   "metadata": {},
   "outputs": [
    {
     "data": {
      "text/plain": [
       "(100, 7)"
      ]
     },
     "execution_count": 36,
     "metadata": {},
     "output_type": "execute_result"
    }
   ],
   "source": [
    "# Convert the guess_df to a numpy array\n",
    "guesser = guess_df.to_numpy()\n",
    "guesser.shape"
   ]
  },
  {
   "cell_type": "code",
   "execution_count": 37,
   "metadata": {},
   "outputs": [],
   "source": [
    "# For n_components = 1 to 9, calculate the cumulative explained variance ratio for drawer and plot graph\n",
    "\n",
    "drawer_cumulative_explained_variance = []\n",
    "\n",
    "for n in range(1, 10):\n",
    "    pca = PCA(n_components=n)\n",
    "    pca.fit_transform(drawer)\n",
    "    drawer_cumulative_explained_variance.append(np.sum(pca.explained_variance_ratio_))"
   ]
  },
  {
   "cell_type": "code",
   "execution_count": 38,
   "metadata": {},
   "outputs": [
    {
     "name": "stdout",
     "output_type": "stream",
     "text": [
      "[0.9999939892359285, 0.9999995636370994, 0.999999993270101, 0.999999998420515, 0.999999999928035, 0.9999999999752135, 0.9999999999861369, 0.9999999999934654, 1.0]\n"
     ]
    },
    {
     "data": {
      "image/png": "[encoded data removed]",
      "text/plain": [
       "<Figure size 640x480 with 1 Axes>"
      ]
     },
     "metadata": {},
     "output_type": "display_data"
    }
   ],
   "source": [
    "print(drawer_cumulative_explained_variance)\n",
    "plt.plot(range(1, 10), drawer_cumulative_explained_variance)\n",
    "plt.xlabel('Number of Principal Components')\n",
    "plt.ylabel('Cumulative Explained Variance Ratio for Drawer')\n",
    "plt.show()"
   ]
  },
  {
   "cell_type": "code",
   "execution_count": 47,
   "metadata": {},
   "outputs": [
    {
     "name": "stdout",
     "output_type": "stream",
     "text": [
      "(100, 2) (100, 2)\n"
     ]
    },
    {
     "data": {
      "image/png": "[encoded data removed]",
      "text/plain": [
       "<Figure size 640x480 with 1 Axes>"
      ]
     },
     "metadata": {},
     "output_type": "display_data"
    },
    {
     "data": {
      "image/png": "[encoded data removed]",
      "text/plain": [
       "<Figure size 640x480 with 1 Axes>"
      ]
     },
     "metadata": {},
     "output_type": "display_data"
    }
   ],
   "source": [
    "pca = PCA(n_components=2)\n",
    "\n",
    "# fit the PCA instance on drawer\n",
    "\n",
    "drawer_transformed = pca.fit_transform(drawer)\n",
    "\n",
    "guesser_transformed = pca.fit_transform(guesser)\n",
    "\n",
    "print(drawer_transformed.shape, guesser_transformed.shape)\n",
    "# from IPython.display import display, HTML\n",
    "# display(HTML(drawer_reconstructed_df.to_html()))\n",
    "# display(HTML(drawer_df.to_html()))\n",
    "\n",
    "import matplotlib.pyplot as plt\n",
    "\n",
    "# plot for drawer_transformed\n",
    "plt.scatter(drawer_transformed[:, 0], drawer_transformed[:, 1])\n",
    "plt.title('Drawer Transformed')\n",
    "plt.xlabel('PC1')\n",
    "plt.ylabel('PC2')\n",
    "plt.show()\n",
    "\n",
    "# plot for guesser_transformed\n",
    "plt.scatter(guesser_transformed[:, 0], guesser_transformed[:, 1])\n",
    "plt.title('Guesser Transformed')\n",
    "plt.xlabel('PC1')\n",
    "plt.ylabel('PC2')\n",
    "plt.show()\n"
   ]
  },
  {
   "cell_type": "markdown",
   "metadata": {},
   "source": [
    "In PCA, the new axes represent the principal components of the data. The first principal component (PC1) represents the direction of maximum variance in the data. The second principal component (PC2) represents the direction of maximum variance in the data orthogonal to PC1. The remaining principal components represent the directions of maximum variance in the data orthogonal to the previous principal components. Each principal component is a linear combination of the original features of the data."
   ]
  },
  {
   "cell_type": "markdown",
   "metadata": {},
   "source": [
    "### Gaussian Mixture Models"
   ]
  },
  {
   "cell_type": "code",
   "execution_count": 34,
   "metadata": {},
   "outputs": [],
   "source": [
    "gmm_data_path = '/Users/aaryansharma/Downloads/SMAI-Dataset-customer-dataset/data.csv'"
   ]
  },
  {
   "cell_type": "code",
   "execution_count": 4,
   "metadata": {},
   "outputs": [
    {
     "data": {
      "text/html": [
       "<div>\n",
       "<style scoped>\n",
       "    .dataframe tbody tr th:only-of-type {\n",
       "        vertical-align: middle;\n",
       "    }\n",
       "\n",
       "    .dataframe tbody tr th {\n",
       "        vertical-align: top;\n",
       "    }\n",
       "\n",
       "    .dataframe thead th {\n",
       "        text-align: right;\n",
       "    }\n",
       "</style>\n",
       "<table border=\"1\" class=\"dataframe\">\n",
       "  <thead>\n",
       "    <tr style=\"text-align: right;\">\n",
       "      <th></th>\n",
       "      <th>Index</th>\n",
       "      <th>Gender</th>\n",
       "      <th>Marital status</th>\n",
       "      <th>Age</th>\n",
       "      <th>Education</th>\n",
       "      <th>Income</th>\n",
       "      <th>Occupation</th>\n",
       "      <th>Settlement size</th>\n",
       "    </tr>\n",
       "  </thead>\n",
       "  <tbody>\n",
       "    <tr>\n",
       "      <th>0</th>\n",
       "      <td>0</td>\n",
       "      <td>0</td>\n",
       "      <td>0</td>\n",
       "      <td>67</td>\n",
       "      <td>2</td>\n",
       "      <td>124670</td>\n",
       "      <td>1</td>\n",
       "      <td>2</td>\n",
       "    </tr>\n",
       "    <tr>\n",
       "      <th>1</th>\n",
       "      <td>1</td>\n",
       "      <td>1</td>\n",
       "      <td>1</td>\n",
       "      <td>22</td>\n",
       "      <td>1</td>\n",
       "      <td>150773</td>\n",
       "      <td>1</td>\n",
       "      <td>2</td>\n",
       "    </tr>\n",
       "    <tr>\n",
       "      <th>2</th>\n",
       "      <td>2</td>\n",
       "      <td>0</td>\n",
       "      <td>0</td>\n",
       "      <td>49</td>\n",
       "      <td>1</td>\n",
       "      <td>89210</td>\n",
       "      <td>0</td>\n",
       "      <td>0</td>\n",
       "    </tr>\n",
       "    <tr>\n",
       "      <th>3</th>\n",
       "      <td>3</td>\n",
       "      <td>0</td>\n",
       "      <td>0</td>\n",
       "      <td>45</td>\n",
       "      <td>1</td>\n",
       "      <td>171565</td>\n",
       "      <td>1</td>\n",
       "      <td>1</td>\n",
       "    </tr>\n",
       "    <tr>\n",
       "      <th>4</th>\n",
       "      <td>4</td>\n",
       "      <td>0</td>\n",
       "      <td>0</td>\n",
       "      <td>53</td>\n",
       "      <td>1</td>\n",
       "      <td>149031</td>\n",
       "      <td>1</td>\n",
       "      <td>1</td>\n",
       "    </tr>\n",
       "  </tbody>\n",
       "</table>\n",
       "</div>"
      ],
      "text/plain": [
       "   Index  Gender  Marital status  Age  Education  Income  Occupation  \\\n",
       "0      0       0               0   67          2  124670           1   \n",
       "1      1       1               1   22          1  150773           1   \n",
       "2      2       0               0   49          1   89210           0   \n",
       "3      3       0               0   45          1  171565           1   \n",
       "4      4       0               0   53          1  149031           1   \n",
       "\n",
       "   Settlement size  \n",
       "0                2  \n",
       "1                2  \n",
       "2                0  \n",
       "3                1  \n",
       "4                1  "
      ]
     },
     "execution_count": 4,
     "metadata": {},
     "output_type": "execute_result"
    }
   ],
   "source": [
    "gmm_data_df = pd.read_csv(gmm_data_path)\n",
    "gmm_data_df.head()"
   ]
  },
  {
   "cell_type": "code",
   "execution_count": 5,
   "metadata": {},
   "outputs": [],
   "source": [
    "from sklearn.preprocessing import StandardScaler\n",
    "\n",
    "scaler = StandardScaler()\n",
    "gmm_data_df[['Age', 'Income']] = scaler.fit_transform(gmm_data_df[['Age', 'Income']])"
   ]
  },
  {
   "cell_type": "code",
   "execution_count": 6,
   "metadata": {},
   "outputs": [
    {
     "data": {
      "text/html": [
       "<div>\n",
       "<style scoped>\n",
       "    .dataframe tbody tr th:only-of-type {\n",
       "        vertical-align: middle;\n",
       "    }\n",
       "\n",
       "    .dataframe tbody tr th {\n",
       "        vertical-align: top;\n",
       "    }\n",
       "\n",
       "    .dataframe thead th {\n",
       "        text-align: right;\n",
       "    }\n",
       "</style>\n",
       "<table border=\"1\" class=\"dataframe\">\n",
       "  <thead>\n",
       "    <tr style=\"text-align: right;\">\n",
       "      <th></th>\n",
       "      <th>Index</th>\n",
       "      <th>Gender</th>\n",
       "      <th>Marital status</th>\n",
       "      <th>Age</th>\n",
       "      <th>Education</th>\n",
       "      <th>Income</th>\n",
       "      <th>Occupation</th>\n",
       "      <th>Settlement size</th>\n",
       "    </tr>\n",
       "  </thead>\n",
       "  <tbody>\n",
       "    <tr>\n",
       "      <th>0</th>\n",
       "      <td>0</td>\n",
       "      <td>0</td>\n",
       "      <td>0</td>\n",
       "      <td>2.653614</td>\n",
       "      <td>2</td>\n",
       "      <td>0.097524</td>\n",
       "      <td>1</td>\n",
       "      <td>2</td>\n",
       "    </tr>\n",
       "    <tr>\n",
       "      <th>1</th>\n",
       "      <td>1</td>\n",
       "      <td>1</td>\n",
       "      <td>1</td>\n",
       "      <td>-1.187132</td>\n",
       "      <td>1</td>\n",
       "      <td>0.782654</td>\n",
       "      <td>1</td>\n",
       "      <td>2</td>\n",
       "    </tr>\n",
       "    <tr>\n",
       "      <th>2</th>\n",
       "      <td>2</td>\n",
       "      <td>0</td>\n",
       "      <td>0</td>\n",
       "      <td>1.117316</td>\n",
       "      <td>1</td>\n",
       "      <td>-0.833202</td>\n",
       "      <td>0</td>\n",
       "      <td>0</td>\n",
       "    </tr>\n",
       "    <tr>\n",
       "      <th>3</th>\n",
       "      <td>3</td>\n",
       "      <td>0</td>\n",
       "      <td>0</td>\n",
       "      <td>0.775916</td>\n",
       "      <td>1</td>\n",
       "      <td>1.328386</td>\n",
       "      <td>1</td>\n",
       "      <td>1</td>\n",
       "    </tr>\n",
       "    <tr>\n",
       "      <th>4</th>\n",
       "      <td>4</td>\n",
       "      <td>0</td>\n",
       "      <td>0</td>\n",
       "      <td>1.458716</td>\n",
       "      <td>1</td>\n",
       "      <td>0.736932</td>\n",
       "      <td>1</td>\n",
       "      <td>1</td>\n",
       "    </tr>\n",
       "  </tbody>\n",
       "</table>\n",
       "</div>"
      ],
      "text/plain": [
       "   Index  Gender  Marital status       Age  Education    Income  Occupation  \\\n",
       "0      0       0               0  2.653614          2  0.097524           1   \n",
       "1      1       1               1 -1.187132          1  0.782654           1   \n",
       "2      2       0               0  1.117316          1 -0.833202           0   \n",
       "3      3       0               0  0.775916          1  1.328386           1   \n",
       "4      4       0               0  1.458716          1  0.736932           1   \n",
       "\n",
       "   Settlement size  \n",
       "0                2  \n",
       "1                2  \n",
       "2                0  \n",
       "3                1  \n",
       "4                1  "
      ]
     },
     "execution_count": 6,
     "metadata": {},
     "output_type": "execute_result"
    }
   ],
   "source": [
    "gmm_data_df."
   ]
  },
  {
   "cell_type": "code",
   "execution_count": 37,
   "metadata": {},
   "outputs": [
    {
     "ename": "NameError",
     "evalue": "name 'gmm_data_df' is not defined",
     "output_type": "error",
     "traceback": [
      "\u001b[0;31m---------------------------------------------------------------------------\u001b[0m",
      "\u001b[0;31mNameError\u001b[0m                                 Traceback (most recent call last)",
      "\u001b[1;32m/Users/aaryansharma/Downloads/College Material/IIIT Hyderabad/Semester III-I/Statistical Methods in AI CS7.403/Assignments/Assignment 2/pca.ipynb Cell 48\u001b[0m line \u001b[0;36m1\n\u001b[0;32m----> <a href='vscode-notebook-cell:/Users/aaryansharma/Downloads/College%20Material/IIIT%20Hyderabad/Semester%20III-I/Statistical%20Methods%20in%20AI%20CS7.403/Assignments/Assignment%202/pca.ipynb#X64sZmlsZQ%3D%3D?line=0'>1</a>\u001b[0m gmm_data \u001b[39m=\u001b[39m gmm_data_df\u001b[39m.\u001b[39mto_numpy()\n\u001b[1;32m      <a href='vscode-notebook-cell:/Users/aaryansharma/Downloads/College%20Material/IIIT%20Hyderabad/Semester%20III-I/Statistical%20Methods%20in%20AI%20CS7.403/Assignments/Assignment%202/pca.ipynb#X64sZmlsZQ%3D%3D?line=1'>2</a>\u001b[0m gmm_data\n",
      "\u001b[0;31mNameError\u001b[0m: name 'gmm_data_df' is not defined"
     ]
    }
   ],
   "source": [
    "gmm_data = gmm_data_df.to_numpy()\n",
    "gmm_data"
   ]
  },
  {
   "cell_type": "code",
   "execution_count": 36,
   "metadata": {},
   "outputs": [
    {
     "ename": "NameError",
     "evalue": "name 'gmm_data' is not defined",
     "output_type": "error",
     "traceback": [
      "\u001b[0;31m---------------------------------------------------------------------------\u001b[0m",
      "\u001b[0;31mNameError\u001b[0m                                 Traceback (most recent call last)",
      "\u001b[1;32m/Users/aaryansharma/Downloads/College Material/IIIT Hyderabad/Semester III-I/Statistical Methods in AI CS7.403/Assignments/Assignment 2/pca.ipynb Cell 49\u001b[0m line \u001b[0;36m1\n\u001b[0;32m----> <a href='vscode-notebook-cell:/Users/aaryansharma/Downloads/College%20Material/IIIT%20Hyderabad/Semester%20III-I/Statistical%20Methods%20in%20AI%20CS7.403/Assignments/Assignment%202/pca.ipynb#X65sZmlsZQ%3D%3D?line=0'>1</a>\u001b[0m cov \u001b[39m=\u001b[39m np\u001b[39m.\u001b[39mcov(gmm_data, rowvar\u001b[39m=\u001b[39m\u001b[39mFalse\u001b[39;00m)\n\u001b[1;32m      <a href='vscode-notebook-cell:/Users/aaryansharma/Downloads/College%20Material/IIIT%20Hyderabad/Semester%20III-I/Statistical%20Methods%20in%20AI%20CS7.403/Assignments/Assignment%202/pca.ipynb#X65sZmlsZQ%3D%3D?line=1'>2</a>\u001b[0m \u001b[39mprint\u001b[39m(np\u001b[39m.\u001b[39mround(cov, \u001b[39m2\u001b[39m))\n\u001b[1;32m      <a href='vscode-notebook-cell:/Users/aaryansharma/Downloads/College%20Material/IIIT%20Hyderabad/Semester%20III-I/Statistical%20Methods%20in%20AI%20CS7.403/Assignments/Assignment%202/pca.ipynb#X65sZmlsZQ%3D%3D?line=2'>3</a>\u001b[0m mean \u001b[39m=\u001b[39m np\u001b[39m.\u001b[39mmean(gmm_data, axis\u001b[39m=\u001b[39m\u001b[39m0\u001b[39m)\n",
      "\u001b[0;31mNameError\u001b[0m: name 'gmm_data' is not defined"
     ]
    }
   ],
   "source": [
    "cov = np.cov(gmm_data, rowvar=False)\n",
    "print(np.round(cov, 2))\n",
    "mean = np.mean(gmm_data, axis=0)\n",
    "print(mean)"
   ]
  },
  {
   "cell_type": "code",
   "execution_count": 35,
   "metadata": {},
   "outputs": [
    {
     "ename": "NameError",
     "evalue": "name 'mean' is not defined",
     "output_type": "error",
     "traceback": [
      "\u001b[0;31m---------------------------------------------------------------------------\u001b[0m",
      "\u001b[0;31mNameError\u001b[0m                                 Traceback (most recent call last)",
      "\u001b[1;32m/Users/aaryansharma/Downloads/College Material/IIIT Hyderabad/Semester III-I/Statistical Methods in AI CS7.403/Assignments/Assignment 2/pca.ipynb Cell 50\u001b[0m line \u001b[0;36m6\n\u001b[1;32m      <a href='vscode-notebook-cell:/Users/aaryansharma/Downloads/College%20Material/IIIT%20Hyderabad/Semester%20III-I/Statistical%20Methods%20in%20AI%20CS7.403/Assignments/Assignment%202/pca.ipynb#X66sZmlsZQ%3D%3D?line=3'>4</a>\u001b[0m \u001b[39m# A = np.random.rand(dimensions, dimensions)\u001b[39;00m\n\u001b[1;32m      <a href='vscode-notebook-cell:/Users/aaryansharma/Downloads/College%20Material/IIIT%20Hyderabad/Semester%20III-I/Statistical%20Methods%20in%20AI%20CS7.403/Assignments/Assignment%202/pca.ipynb#X66sZmlsZQ%3D%3D?line=4'>5</a>\u001b[0m covar \u001b[39m=\u001b[39m np\u001b[39m.\u001b[39mzeros((clusters, dimensions, dimensions))\n\u001b[0;32m----> <a href='vscode-notebook-cell:/Users/aaryansharma/Downloads/College%20Material/IIIT%20Hyderabad/Semester%20III-I/Statistical%20Methods%20in%20AI%20CS7.403/Assignments/Assignment%202/pca.ipynb#X66sZmlsZQ%3D%3D?line=5'>6</a>\u001b[0m mean \u001b[39m=\u001b[39m mean\n\u001b[1;32m      <a href='vscode-notebook-cell:/Users/aaryansharma/Downloads/College%20Material/IIIT%20Hyderabad/Semester%20III-I/Statistical%20Methods%20in%20AI%20CS7.403/Assignments/Assignment%202/pca.ipynb#X66sZmlsZQ%3D%3D?line=6'>7</a>\u001b[0m \u001b[39mfor\u001b[39;00m i \u001b[39min\u001b[39;00m \u001b[39mrange\u001b[39m(clusters):\n\u001b[1;32m      <a href='vscode-notebook-cell:/Users/aaryansharma/Downloads/College%20Material/IIIT%20Hyderabad/Semester%20III-I/Statistical%20Methods%20in%20AI%20CS7.403/Assignments/Assignment%202/pca.ipynb#X66sZmlsZQ%3D%3D?line=7'>8</a>\u001b[0m     \u001b[39m# A = np.random.rand(dimensions, dimensions)\u001b[39;00m\n\u001b[1;32m      <a href='vscode-notebook-cell:/Users/aaryansharma/Downloads/College%20Material/IIIT%20Hyderabad/Semester%20III-I/Statistical%20Methods%20in%20AI%20CS7.403/Assignments/Assignment%202/pca.ipynb#X66sZmlsZQ%3D%3D?line=8'>9</a>\u001b[0m     covar[i] \u001b[39m=\u001b[39m cov  \u001b[39m# make the matrix positive semi-definite\u001b[39;00m\n",
      "\u001b[0;31mNameError\u001b[0m: name 'mean' is not defined"
     ]
    }
   ],
   "source": [
    "# Initialise the mean and covariance matrix\n",
    "clusters = 3\n",
    "dimensions = 7\n",
    "# A = np.random.rand(dimensions, dimensions)\n",
    "covar = np.zeros((clusters, dimensions, dimensions))\n",
    "mean = mean\n",
    "for i in range(clusters):\n",
    "    # A = np.random.rand(dimensions, dimensions)\n",
    "    covar[i] = cov  # make the matrix positive semi-definite\n",
    "    print(np.round(covar[0], 2))\n",
    "\n",
    "print('mean:', mean)\n",
    "pi = np.ones(clusters) / clusters\n",
    "# print(np.round(covar[0], 2))\n"
   ]
  },
  {
   "cell_type": "code",
   "execution_count": 30,
   "metadata": {},
   "outputs": [],
   "source": [
    "def sqrt_matrix(A):\n",
    "    evalues, evectors = np.linalg.eigh(A)\n",
    "    # Ensuring square root matrix exists\n",
    "    assert (evalues >= 0).all()\n",
    "    sq_matrix = evectors * np.sqrt(evalues) @ evectors.T\n",
    "    return sq_matrix"
   ]
  },
  {
   "cell_type": "code",
   "execution_count": 33,
   "metadata": {},
   "outputs": [
    {
     "name": "stdout",
     "output_type": "stream",
     "text": [
      "[0.         0.         0.         2.65361447 2.         0.09752361\n",
      " 1.         2.        ]\n",
      "[9.99500000e+02 4.57000000e-01 4.96500000e-01 9.05941988e-17\n",
      " 1.03800000e+00 1.56319402e-16 8.10500000e-01 7.39000000e-01]\n"
     ]
    }
   ],
   "source": [
    "print(gmm_data[0])\n",
    "print(mean)"
   ]
  },
  {
   "cell_type": "code",
   "execution_count": 34,
   "metadata": {},
   "outputs": [
    {
     "data": {
      "text/plain": [
       "2000"
      ]
     },
     "execution_count": 34,
     "metadata": {},
     "output_type": "execute_result"
    }
   ],
   "source": [
    "gmm_data.shape[0]"
   ]
  },
  {
   "cell_type": "code",
   "execution_count": 12,
   "metadata": {},
   "outputs": [
    {
     "data": {
      "text/plain": [
       "(2000, 3)"
      ]
     },
     "execution_count": 12,
     "metadata": {},
     "output_type": "execute_result"
    }
   ],
   "source": [
    "responsibility = np.zeros((gmm_data.shape[0], clusters))\n",
    "responsibility.shape"
   ]
  },
  {
   "cell_type": "code",
   "execution_count": 35,
   "metadata": {},
   "outputs": [
    {
     "data": {
      "text/plain": [
       "-6068639.728910232"
      ]
     },
     "execution_count": 35,
     "metadata": {},
     "output_type": "execute_result"
    }
   ],
   "source": [
    "-0.5 * np.dot(np.dot((gmm_data[0] - mean[0]), np.linalg.inv(covar[0])), (gmm_data[0] - mean[0]).T)\n",
    "# print(np.dot((gmm_data[0] - mean[0]), np.linalg.inv(covar[0])), (gmm_data[0] - mean[0]).T)"
   ]
  },
  {
   "cell_type": "code",
   "execution_count": 1,
   "metadata": {},
   "outputs": [],
   "source": [
    "def pseudo_determinant(A):\n",
    "    evalues, evectors = np.linalg.eigh(A)\n",
    "    return np.prod(evalues[evalues > 1e-15])"
   ]
  },
  {
   "cell_type": "code",
   "execution_count": 100,
   "metadata": {},
   "outputs": [
    {
     "name": "stdout",
     "output_type": "stream",
     "text": [
      "[3. 1. 1.]\n"
     ]
    },
    {
     "data": {
      "text/plain": [
       "3.0"
      ]
     },
     "execution_count": 100,
     "metadata": {},
     "output_type": "execute_result"
    }
   ],
   "source": [
    "np.linalg.pinv(np.array([[1, 1, 1], [1, 1, 1], [1, 1, 1]]))\n",
    "np.linalg.eigvals(np.array([[1, 1, 1], [1, 1, 1], [1, 1, 1]]))\n",
    "eigenvals = np.linalg.eigvals(np.array([[1, 1, 1], [1, 1, 1], [1, 1, 1]]))\n",
    "eigenvals[eigenvals < 1e-15] = 1\n",
    "print(eigenvals)\n",
    "determinant = np.prod(eigenvals)\n",
    "determinant"
   ]
  },
  {
   "cell_type": "code",
   "execution_count": 2,
   "metadata": {},
   "outputs": [
    {
     "ename": "NameError",
     "evalue": "name 'gmm_data' is not defined",
     "output_type": "error",
     "traceback": [
      "\u001b[0;31m---------------------------------------------------------------------------\u001b[0m",
      "\u001b[0;31mNameError\u001b[0m                                 Traceback (most recent call last)",
      "\u001b[1;32m/Users/aaryansharma/Downloads/College Material/IIIT Hyderabad/Semester III-I/Statistical Methods in AI CS7.403/Assignments/Assignment 2/pca.ipynb Cell 58\u001b[0m line \u001b[0;36m2\n\u001b[1;32m      <a href='vscode-notebook-cell:/Users/aaryansharma/Downloads/College%20Material/IIIT%20Hyderabad/Semester%20III-I/Statistical%20Methods%20in%20AI%20CS7.403/Assignments/Assignment%202/pca.ipynb#Y111sZmlsZQ%3D%3D?line=0'>1</a>\u001b[0m denominator \u001b[39m=\u001b[39m \u001b[39m0\u001b[39m\n\u001b[0;32m----> <a href='vscode-notebook-cell:/Users/aaryansharma/Downloads/College%20Material/IIIT%20Hyderabad/Semester%20III-I/Statistical%20Methods%20in%20AI%20CS7.403/Assignments/Assignment%202/pca.ipynb#Y111sZmlsZQ%3D%3D?line=1'>2</a>\u001b[0m \u001b[39mfor\u001b[39;00m i \u001b[39min\u001b[39;00m \u001b[39mrange\u001b[39m(gmm_data\u001b[39m.\u001b[39mshape[\u001b[39m0\u001b[39m]):\n\u001b[1;32m      <a href='vscode-notebook-cell:/Users/aaryansharma/Downloads/College%20Material/IIIT%20Hyderabad/Semester%20III-I/Statistical%20Methods%20in%20AI%20CS7.403/Assignments/Assignment%202/pca.ipynb#Y111sZmlsZQ%3D%3D?line=2'>3</a>\u001b[0m     \u001b[39mfor\u001b[39;00m c \u001b[39min\u001b[39;00m \u001b[39mrange\u001b[39m(clusters):\n\u001b[1;32m      <a href='vscode-notebook-cell:/Users/aaryansharma/Downloads/College%20Material/IIIT%20Hyderabad/Semester%20III-I/Statistical%20Methods%20in%20AI%20CS7.403/Assignments/Assignment%202/pca.ipynb#Y111sZmlsZQ%3D%3D?line=3'>4</a>\u001b[0m         \u001b[39mfor\u001b[39;00m k \u001b[39min\u001b[39;00m \u001b[39mrange\u001b[39m(clusters):\n",
      "\u001b[0;31mNameError\u001b[0m: name 'gmm_data' is not defined"
     ]
    }
   ],
   "source": [
    "denominator = 0\n",
    "for i in range(gmm_data.shape[0]):\n",
    "    for c in range(clusters):\n",
    "        for k in range(clusters):\n",
    "            denominator += pi[k] * np.exp(-0.5 * np.dot(np.dot((gmm_data[i] - mean[k]).T, np.linalg.pinv(covar[k])), (gmm_data[i] - mean[k])))\n",
    "        responsibility[i,c] = (pi[c] * (np.sqrt(1/pseudo_determinant(covar[c])))) * np.exp(-0.5 * np.dot(np.dot((gmm_data[i] - mean[c]).T, np.linalg.pinv(covar[c])), (gmm_data[i] - mean[c])))\n",
    "\n",
    "print(responsibility.shape)\n",
    "with np.printoptions(threshold=np.inf):\n",
    "    print(responsibility)"
   ]
  },
  {
   "cell_type": "code",
   "execution_count": 112,
   "metadata": {},
   "outputs": [
    {
     "data": {
      "text/plain": [
       "array([507607.43520923, 507607.52619144, 507607.60640408, ...,\n",
       "       461438.23704927, 461274.35346936, 461393.34075795])"
      ]
     },
     "execution_count": 112,
     "metadata": {},
     "output_type": "execute_result"
    }
   ],
   "source": [
    "# check if the sum of the responsibilities for each data point is 1\n",
    "np.sum(responsibility, axis=1)"
   ]
  },
  {
   "cell_type": "code",
   "execution_count": 159,
   "metadata": {},
   "outputs": [
    {
     "name": "stdout",
     "output_type": "stream",
     "text": [
      "[[0.49706031 0.54757888 0.16684651]\n",
      " [0.54757888 0.73644496 0.28847627]\n",
      " [0.16684651 0.28847627 0.65592443]]\n",
      "[[0.57474934 0.72357269 0.35033499]\n",
      " [0.72357269 0.92541236 0.49302715]\n",
      " [0.35033499 0.49302715 0.54129317]]\n"
     ]
    }
   ],
   "source": [
    "ex = np.array([[0.57474934, 0.72357269, 0.35033499],\n",
    "               [0.72357269, 0.92541236, 0.49302715], \n",
    "               [0.35033499, 0.49302715, 0.54129317]])\n",
    "evalues, evectors = np.linalg.eigh(ex)\n",
    "# Ensuring square root matrix exists\n",
    "assert (evalues >= 0).all()\n",
    "sqrt_matrix = evectors * np.sqrt(evalues) @ evectors.T\n",
    "print(sqrt_matrix)\n",
    "\n",
    "print(np.dot(sqrt_matrix, sqrt_matrix))\n"
   ]
  },
  {
   "cell_type": "code",
   "execution_count": 108,
   "metadata": {},
   "outputs": [],
   "source": [
    "for c in range(clusters):\n",
    "    if not np.array_equal(responsibility[:, c], np.zeros(gmm_data.shape[0])):\n",
    "        N = np.sum(responsibility[:,c])\n",
    "        new_mean = np.zeros(dimensions)\n",
    "        new_pi = N/gmm_data.shape[0]\n",
    "        new_covar = np.zeros((dimensions, dimensions))\n",
    "        for i in range(gmm_data.shape[0]):\n",
    "            new_mean += (responsibility[i,c] * gmm_data[i])/N\n",
    "        for i in range(gmm_data.shape[0]):\n",
    "            new_covar += (responsibility[i,c] * np.dot((gmm_data[i] - new_mean), (gmm_data[i] - new_mean).T))/N\n",
    "        covar[c] = new_covar\n",
    "        mean = new_mean\n",
    "        pi[c] = new_pi\n",
    "\n"
   ]
  },
  {
   "cell_type": "code",
   "execution_count": null,
   "metadata": {},
   "outputs": [],
   "source": [
    "class GMM:\n",
    "    "
   ]
  }
 ],
 "metadata": {
  "kernelspec": {
   "display_name": "Python 3",
   "language": "python",
   "name": "python3"
  },
  "language_info": {
   "codemirror_mode": {
    "name": "ipython",
    "version": 3
   },
   "file_extension": ".py",
   "mimetype": "text/x-python",
   "name": "python",
   "nbconvert_exporter": "python",
   "pygments_lexer": "ipython3",
   "version": "3.11.4"
  }
 },
 "nbformat": 4,
 "nbformat_minor": 2
}
