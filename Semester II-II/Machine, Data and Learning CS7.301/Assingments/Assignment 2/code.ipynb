{
  "nbformat": 4,
  "nbformat_minor": 0,
  "metadata": {
    "colab": {
      "provenance": []
    },
    "kernelspec": {
      "name": "python3",
      "display_name": "Python 3"
    },
    "language_info": {
      "name": "python"
    }
  },
  "cells": [
    {
      "cell_type": "markdown",
      "source": [
        "## Task 1\n",
        "\n",
        "The `LinearRegression().fit()` method is a function in the scikit-learn library for Python that performs linear regression on a given dataset. Linear regression is a statistical method that models the relationship between a dependent variable and one or more independent variables by fitting a linear equation to the data.\n",
        "\n",
        "The `.fit()` method is used to train the model on a given training dataset, i.e., it computes the coefficients of the linear equation that best fits the data. The input to the `.fit()` method is typically a set of input features and corresponding output values (or target variable). The method uses an optimization algorithm to find the parameters of the linear equation that minimize the sum of squared errors between the predicted output values and the actual output values in the training dataset.\n",
        "\n",
        "Once the model is trained using the `.fit()` method, it can be used to make predictions on new, unseen data by calling the `.predict()` method. The model can also be evaluated using various metrics, such as mean squared error or R-squared, to measure the accuracy of the predictions."
      ],
      "metadata": {
        "id": "xf6C7ZPCciHo"
      }
    },
    {
      "cell_type": "markdown",
      "source": [
        "## Task 2\n",
        "\n",
        "Gradient descent is an iterative optimization algorithm used to minimize the cost function of a model. In the case of linear regression with one independent variable and one dependent variable, the goal of gradient descent is to find the values of the coefficients (slope and intercept) that minimize the difference between the predicted values and the actual values of the dependent variable.\n",
        "\n",
        "Here's a step-by-step explanation of how gradient descent works:\n",
        "\n",
        "1.   Initialize the coefficients: We start by initializing the values of the coefficients to some arbitrary values. These values can be zero, random, or any other value.\n",
        "2.   Compute the cost function: We then compute the cost function, which is a measure of how well the current model fits the data. In the case of linear regression, the cost function is typically the mean squared error (MSE), which is the average of the squared differences between the predicted values and the actual values of the dependent variable.\n",
        "\n",
        "$$MSE =  \\frac{1}{N} \\sum_{i=1}^{n} (y_i - (m x_i + b))^2$$\n",
        "\n",
        "3.   Compute the gradients: We then compute the gradients of the cost function with respect to each of the coefficients. The gradients tell us the direction in which we need to update the coefficients to minimize the cost function.\n",
        "\n",
        "$$\\begin{split}\\begin{align}\n",
        "f'(m,b) =\n",
        "  \\begin{bmatrix}\n",
        "    \\frac{df}{dm}\\\\\n",
        "    \\frac{df}{db}\\\\\n",
        "  \\end{bmatrix}\n",
        "&=\n",
        "  \\begin{bmatrix}\n",
        "    \\frac{1}{N} \\sum -x_i \\cdot 2(y_i - (mx_i + b)) \\\\\n",
        "    \\frac{1}{N} \\sum -1 \\cdot 2(y_i - (mx_i + b)) \\\\\n",
        "  \\end{bmatrix}\\\\\n",
        "&=\n",
        "  \\begin{bmatrix}\n",
        "     \\frac{1}{N} \\sum -2x_i(y_i - (mx_i + b)) \\\\\n",
        "     \\frac{1}{N} \\sum -2(y_i - (mx_i + b)) \\\\\n",
        "  \\end{bmatrix}\n",
        "\\end{align}\\end{split}$$\n",
        "\n",
        "4.   Update the coefficients: We then update the values of the coefficients using the gradients and a learning rate. The learning rate is a hyperparameter that determines the size of the step we take in the direction of the gradients. We want to take a step small enough that we don't overshoot the minimum, but large enough that we converge to the minimum quickly.\n",
        "\n",
        "5.   Repeat steps 2-4: We repeat steps 2-4 until the cost function converges to a minimum. Convergence is achieved when the change in the cost function between iterations falls below a certain threshold, or when a maximum number of iterations is reached.\n",
        "\n",
        "6.   Return the coefficients: Once convergence is achieved, we return the values of the coefficients as the optimal values that minimize the cost function and represent the best fit of the linear regression model to the data.\n",
        "\n",
        "In summary, gradient descent is an iterative algorithm that finds the values of the coefficients in a linear regression model that minimize the cost function by updating the coefficients in the direction of the gradients of the cost function with respect to each coefficient."
      ],
      "metadata": {
        "id": "D6gd3CzLePuA"
      }
    },
    {
      "cell_type": "markdown",
      "source": [
        "# Task 3, 4, 5\n"
      ],
      "metadata": {
        "id": "ElQQ0nRxCV3k"
      }
    },
    {
      "cell_type": "code",
      "execution_count": 2,
      "metadata": {
        "id": "zm2Pv0k5ZlXP"
      },
      "outputs": [],
      "source": [
        "import pickle\n",
        "import numpy as np\n",
        "import pandas as pd\n",
        "import matplotlib.pyplot as plt\n",
        "from sklearn.preprocessing import PolynomialFeatures\n",
        "from sklearn.linear_model import LinearRegression"
      ]
    },
    {
      "cell_type": "code",
      "source": [
        "data = pd.read_pickle('/content/drive/MyDrive/Assignment2/train_dataset.pickle')"
      ],
      "metadata": {
        "id": "4rI3-gUkamdk"
      },
      "execution_count": 3,
      "outputs": []
    },
    {
      "cell_type": "code",
      "source": [
        "np.random.shuffle(data)\n",
        "dataSplit = np.split(data, 20)\n",
        "np.shape(dataSplit)"
      ],
      "metadata": {
        "colab": {
          "base_uri": "https://localhost:8080/"
        },
        "id": "JvzmoPHVa8sS",
        "outputId": "622ad579-8677-4340-df2e-786fe43c1252"
      },
      "execution_count": 4,
      "outputs": [
        {
          "output_type": "execute_result",
          "data": {
            "text/plain": [
              "(20, 40, 2)"
            ]
          },
          "metadata": {},
          "execution_count": 4
        }
      ]
    },
    {
      "cell_type": "code",
      "source": [
        "test_data = pd.read_pickle('/content/drive/MyDrive/Assignment2/test_dataset.pickle')\n",
        "np.shape(test_data)\n",
        "x_test = test_data[:, 0].reshape(-1, 1)\n",
        "y_test = test_data[:, 1]"
      ],
      "metadata": {
        "colab": {
          "base_uri": "https://localhost:8080/"
        },
        "id": "04kMyO5-cPt5",
        "outputId": "a11e6004-6152-4bbd-9e88-8ce962562c24"
      },
      "execution_count": 5,
      "outputs": [
        {
          "output_type": "execute_result",
          "data": {
            "text/plain": [
              "(200,)"
            ]
          },
          "metadata": {},
          "execution_count": 5
        }
      ]
    },
    {
      "cell_type": "code",
      "source": [
        "model = LinearRegression()\n",
        "bias, variance, irreducible_error, mse = [], [], [], []\n",
        "for deg in range(1, 16):\n",
        "  poly = PolynomialFeatures(deg)\n",
        "  predicted = []\n",
        "  for dataset in dataSplit:\n",
        "    x_train = dataset[:, 0].reshape(-1, 1)\n",
        "    y_train = dataset[:, 1]\n",
        "    x_train_transformed = poly.fit_transform(x_train)\n",
        "    x_test_transformed = poly.fit_transform(x_test)\n",
        "    model.fit(x_train_transformed, y_train)\n",
        "    # The predicted array below contains the 200 predicted values of y for each\n",
        "    # of the 20 model that we've trained\n",
        "    predicted.append(model.predict(x_test_transformed))\n",
        "  \n",
        "  # The mean array will contain the mean of the predicted y's across the twenty models\n",
        "  mean = []\n",
        "  for i in range(200):\n",
        "    avg = 0\n",
        "    for j in range(20):\n",
        "      avg += predicted[j][i]\n",
        "    avg = avg/20\n",
        "    mean.append(avg)\n",
        "  # bias will be the absolute value between the difference of predicted value of\n",
        "  # y and actual value of y\n",
        "  # bias_degree will contain the mean of the biases ACROSS ELEMENTS\n",
        "  bias_element = np.absolute(mean-y_test)\n",
        "  bias_degree = np.mean(bias_element)\n",
        "  #bias_degree += np.mean(bias_element)\n",
        "  # Now, we append this bias_degree to the bias array\n",
        "  bias.append(bias_degree)\n",
        "  # Now that we are done with calculating the bias of a specific degree, we will\n",
        "  # now go on to calculate variance of this degree\n",
        "  # To calculate the variance, we will calculate the delta. Delta is the\n",
        "  # difference of between the mean of the predicted values, and the predicted \n",
        "  # values, and the square it\n",
        "  delta_element = []\n",
        "  for i in range(200):\n",
        "    delta = 0\n",
        "    for j in range(20):\n",
        "      delta += np.square((mean[i]-predicted[j][i]))\n",
        "    delta = delta/20\n",
        "    delta_element.append(delta)\n",
        "  variance_degree = np.mean(delta_element)\n",
        "  variance.append(variance_degree)\n",
        "  # Now, we will calculate the MSE of a specific degree, which will just be the\n",
        "  # mean of [ square of all the errors of elements ] ACROSS the elements\n",
        "  mse_element = []\n",
        "  for i in range(200):\n",
        "    MSE = 0\n",
        "    for j in range(20):\n",
        "      MSE += np.square((y_test[i]-predicted[j][i]))\n",
        "    MSE = MSE/20\n",
        "    mse_element.append(MSE)\n",
        "  mse_degree = np.mean(mse_element)\n",
        "  mse.append(mse_degree)\n",
        "\n",
        "  # Now we calculate irreducible error, which is defined as the difference\n",
        "  # between [ MSE ] and [bias^2+variance] i.e. irreducible_error = MSE - (bias^2+variance)\n",
        "  irreducible_error_element = mse_element - (np.square(bias_element)+delta_element)\n",
        "  irreducible_error_degree = np.mean(irreducible_error_element)\n",
        "  irreducible_error.append(irreducible_error_degree)\n",
        "\n",
        "plt.plot(np.square(bias)[:10],'r--',label=\"bias^2\")\n",
        "plt.xlabel(\"Degree\")\n",
        "plt.title(\"Errors per degree\")\n",
        "plt.plot(variance[:10],'b--',label=\"variance\")\n",
        "plt.plot(mse[:10],'g--',label=\"mse\")\n",
        "plt.legend()\n",
        "plt.show()\n"
      ],
      "metadata": {
        "colab": {
          "base_uri": "https://localhost:8080/",
          "height": 295
        },
        "id": "4j5wcokwiZvL",
        "outputId": "7561f95b-c01f-45c0-b2b9-ff8f578f8c25"
      },
      "execution_count": 25,
      "outputs": [
        {
          "output_type": "display_data",
          "data": {
            "text/plain": [
              "<Figure size 432x288 with 1 Axes>"
            ],
            "image/png": "[encoded data removed]"
          },
          "metadata": {
            "needs_background": "light"
          }
        }
      ]
    },
    {
      "cell_type": "code",
      "source": [
        "deg = [1,2,3,4,5,6,7,8,9,10,11,12,13,14,15]\n",
        "data = {'degree':deg,'irreducible_error':irreducible_error}\n",
        "\n",
        "information = pd.DataFrame(data)\n",
        "# information = information.reset_index(drop=True)\n",
        "information"
      ],
      "metadata": {
        "id": "R4DzyRkTYn4Y",
        "colab": {
          "base_uri": "https://localhost:8080/",
          "height": 514
        },
        "outputId": "46692814-c2ef-46df-83ef-4ec2b1357cc3"
      },
      "execution_count": 23,
      "outputs": [
        {
          "output_type": "execute_result",
          "data": {
            "text/plain": [
              "    degree  irreducible_error\n",
              "0        1      -4.194128e-17\n",
              "1        2      -3.728029e-18\n",
              "2        3      -1.887867e-18\n",
              "3        4       2.969359e-18\n",
              "4        5       1.462318e-18\n",
              "5        6       9.550330e-18\n",
              "6        7       3.554828e-18\n",
              "7        8      -2.614282e-18\n",
              "8        9      -1.351756e-17\n",
              "9       10       1.048966e-18\n",
              "10      11      -5.976990e-17\n",
              "11      12       7.648287e-17\n",
              "12      13       7.094095e-16\n",
              "13      14      -6.594009e-17\n",
              "14      15       6.298058e-14"
            ],
            "text/html": [
              "\n",
              "  <div id=\"df-9fb23acf-8d36-4dab-88bf-cdd766378642\">\n",
              "    <div class=\"colab-df-container\">\n",
              "      <div>\n",
              "<style scoped>\n",
              "    .dataframe tbody tr th:only-of-type {\n",
              "        vertical-align: middle;\n",
              "    }\n",
              "\n",
              "    .dataframe tbody tr th {\n",
              "        vertical-align: top;\n",
              "    }\n",
              "\n",
              "    .dataframe thead th {\n",
              "        text-align: right;\n",
              "    }\n",
              "</style>\n",
              "<table border=\"1\" class=\"dataframe\">\n",
              "  <thead>\n",
              "    <tr style=\"text-align: right;\">\n",
              "      <th></th>\n",
              "      <th>degree</th>\n",
              "      <th>irreducible_error</th>\n",
              "    </tr>\n",
              "  </thead>\n",
              "  <tbody>\n",
              "    <tr>\n",
              "      <th>0</th>\n",
              "      <td>1</td>\n",
              "      <td>-4.194128e-17</td>\n",
              "    </tr>\n",
              "    <tr>\n",
              "      <th>1</th>\n",
              "      <td>2</td>\n",
              "      <td>-3.728029e-18</td>\n",
              "    </tr>\n",
              "    <tr>\n",
              "      <th>2</th>\n",
              "      <td>3</td>\n",
              "      <td>-1.887867e-18</td>\n",
              "    </tr>\n",
              "    <tr>\n",
              "      <th>3</th>\n",
              "      <td>4</td>\n",
              "      <td>2.969359e-18</td>\n",
              "    </tr>\n",
              "    <tr>\n",
              "      <th>4</th>\n",
              "      <td>5</td>\n",
              "      <td>1.462318e-18</td>\n",
              "    </tr>\n",
              "    <tr>\n",
              "      <th>5</th>\n",
              "      <td>6</td>\n",
              "      <td>9.550330e-18</td>\n",
              "    </tr>\n",
              "    <tr>\n",
              "      <th>6</th>\n",
              "      <td>7</td>\n",
              "      <td>3.554828e-18</td>\n",
              "    </tr>\n",
              "    <tr>\n",
              "      <th>7</th>\n",
              "      <td>8</td>\n",
              "      <td>-2.614282e-18</td>\n",
              "    </tr>\n",
              "    <tr>\n",
              "      <th>8</th>\n",
              "      <td>9</td>\n",
              "      <td>-1.351756e-17</td>\n",
              "    </tr>\n",
              "    <tr>\n",
              "      <th>9</th>\n",
              "      <td>10</td>\n",
              "      <td>1.048966e-18</td>\n",
              "    </tr>\n",
              "    <tr>\n",
              "      <th>10</th>\n",
              "      <td>11</td>\n",
              "      <td>-5.976990e-17</td>\n",
              "    </tr>\n",
              "    <tr>\n",
              "      <th>11</th>\n",
              "      <td>12</td>\n",
              "      <td>7.648287e-17</td>\n",
              "    </tr>\n",
              "    <tr>\n",
              "      <th>12</th>\n",
              "      <td>13</td>\n",
              "      <td>7.094095e-16</td>\n",
              "    </tr>\n",
              "    <tr>\n",
              "      <th>13</th>\n",
              "      <td>14</td>\n",
              "      <td>-6.594009e-17</td>\n",
              "    </tr>\n",
              "    <tr>\n",
              "      <th>14</th>\n",
              "      <td>15</td>\n",
              "      <td>6.298058e-14</td>\n",
              "    </tr>\n",
              "  </tbody>\n",
              "</table>\n",
              "</div>\n",
              "      <button class=\"colab-df-convert\" onclick=\"convertToInteractive('df-9fb23acf-8d36-4dab-88bf-cdd766378642')\"\n",
              "              title=\"Convert this dataframe to an interactive table.\"\n",
              "              style=\"display:none;\">\n",
              "        \n",
              "  <svg xmlns=\"http://www.w3.org/2000/svg\" height=\"24px\"viewBox=\"0 0 24 24\"\n",
              "       width=\"24px\">\n",
              "    <path d=\"M0 0h24v24H0V0z\" fill=\"none\"/>\n",
              "    <path d=\"M18.56 5.44l.94 2.06.94-2.06 2.06-.94-2.06-.94-.94-2.06-.94 2.06-2.06.94zm-11 1L8.5 8.5l.94-2.06 2.06-.94-2.06-.94L8.5 2.5l-.94 2.06-2.06.94zm10 10l.94 2.06.94-2.06 2.06-.94-2.06-.94-.94-2.06-.94 2.06-2.06.94z\"/><path d=\"M17.41 7.96l-1.37-1.37c-.4-.4-.92-.59-1.43-.59-.52 0-1.04.2-1.43.59L10.3 9.45l-7.72 7.72c-.78.78-.78 2.05 0 2.83L4 21.41c.39.39.9.59 1.41.59.51 0 1.02-.2 1.41-.59l7.78-7.78 2.81-2.81c.8-.78.8-2.07 0-2.86zM5.41 20L4 18.59l7.72-7.72 1.47 1.35L5.41 20z\"/>\n",
              "  </svg>\n",
              "      </button>\n",
              "      \n",
              "  <style>\n",
              "    .colab-df-container {\n",
              "      display:flex;\n",
              "      flex-wrap:wrap;\n",
              "      gap: 12px;\n",
              "    }\n",
              "\n",
              "    .colab-df-convert {\n",
              "      background-color: #E8F0FE;\n",
              "      border: none;\n",
              "      border-radius: 50%;\n",
              "      cursor: pointer;\n",
              "      display: none;\n",
              "      fill: #1967D2;\n",
              "      height: 32px;\n",
              "      padding: 0 0 0 0;\n",
              "      width: 32px;\n",
              "    }\n",
              "\n",
              "    .colab-df-convert:hover {\n",
              "      background-color: #E2EBFA;\n",
              "      box-shadow: 0px 1px 2px rgba(60, 64, 67, 0.3), 0px 1px 3px 1px rgba(60, 64, 67, 0.15);\n",
              "      fill: #174EA6;\n",
              "    }\n",
              "\n",
              "    [theme=dark] .colab-df-convert {\n",
              "      background-color: #3B4455;\n",
              "      fill: #D2E3FC;\n",
              "    }\n",
              "\n",
              "    [theme=dark] .colab-df-convert:hover {\n",
              "      background-color: #434B5C;\n",
              "      box-shadow: 0px 1px 3px 1px rgba(0, 0, 0, 0.15);\n",
              "      filter: drop-shadow(0px 1px 2px rgba(0, 0, 0, 0.3));\n",
              "      fill: #FFFFFF;\n",
              "    }\n",
              "  </style>\n",
              "\n",
              "      <script>\n",
              "        const buttonEl =\n",
              "          document.querySelector('#df-9fb23acf-8d36-4dab-88bf-cdd766378642 button.colab-df-convert');\n",
              "        buttonEl.style.display =\n",
              "          google.colab.kernel.accessAllowed ? 'block' : 'none';\n",
              "\n",
              "        async function convertToInteractive(key) {\n",
              "          const element = document.querySelector('#df-9fb23acf-8d36-4dab-88bf-cdd766378642');\n",
              "          const dataTable =\n",
              "            await google.colab.kernel.invokeFunction('convertToInteractive',\n",
              "                                                     [key], {});\n",
              "          if (!dataTable) return;\n",
              "\n",
              "          const docLinkHtml = 'Like what you see? Visit the ' +\n",
              "            '<a target=\"_blank\" href=https://colab.research.google.com/notebooks/data_table.ipynb>data table notebook</a>'\n",
              "            + ' to learn more about interactive tables.';\n",
              "          element.innerHTML = '';\n",
              "          dataTable['output_type'] = 'display_data';\n",
              "          await google.colab.output.renderOutput(dataTable, element);\n",
              "          const docLink = document.createElement('div');\n",
              "          docLink.innerHTML = docLinkHtml;\n",
              "          element.appendChild(docLink);\n",
              "        }\n",
              "      </script>\n",
              "    </div>\n",
              "  </div>\n",
              "  "
            ]
          },
          "metadata": {},
          "execution_count": 23
        }
      ]
    },
    {
      "cell_type": "code",
      "source": [],
      "metadata": {
        "id": "CvqJaZVapSjr"
      },
      "execution_count": null,
      "outputs": []
    }
  ]
}