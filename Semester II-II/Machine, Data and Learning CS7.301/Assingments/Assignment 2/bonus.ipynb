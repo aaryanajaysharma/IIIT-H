{
  "nbformat": 4,
  "nbformat_minor": 0,
  "metadata": {
    "colab": {
      "provenance": []
    },
    "kernelspec": {
      "name": "python3",
      "display_name": "Python 3"
    },
    "language_info": {
      "name": "python"
    }
  },
  "cells": [
    {
      "cell_type": "code",
      "execution_count": null,
      "metadata": {
        "id": "thOxHiqKPwU-"
      },
      "outputs": [],
      "source": [
        "import pickle\n",
        "import numpy as np\n",
        "import pandas as pd\n",
        "import matplotlib.pyplot as plt\n",
        "from sklearn.preprocessing import PolynomialFeatures\n",
        "from sklearn.linear_model import LinearRegression"
      ]
    },
    {
      "cell_type": "code",
      "source": [
        "data = pd.read_pickle('/content/drive/MyDrive/Assignment2/capacitor_dataset.pickle')"
      ],
      "metadata": {
        "id": "RFr7x-64P0KY"
      },
      "execution_count": null,
      "outputs": []
    },
    {
      "cell_type": "code",
      "source": [
        "time = data[:, 0].reshape(-1, 1)\n",
        "charge = data[:, 1]\n",
        "log_charge = np.log(charge)\n",
        "model = LinearRegression()\n",
        "model.fit(time, log_charge)\n",
        "intercept = model.intercept_\n",
        "slope = model.coef_\n",
        "print(intercept, slope)\n",
        "capacitance = np.exp(intercept)*0.2\n",
        "resistance = -1/(slope*capacitance)\n",
        "print(capacitance, resistance)"
      ],
      "metadata": {
        "colab": {
          "base_uri": "https://localhost:8080/"
        },
        "id": "Mr-Gar8URAjn",
        "outputId": "091424f0-0b93-428e-9d6d-2879b47e2348"
      },
      "execution_count": null,
      "outputs": [
        {
          "output_type": "stream",
          "name": "stdout",
          "text": [
            "-8.294049640102102 [-0.2]\n",
            "4.9999999999996275e-05 [100000.00000001]\n"
          ]
        }
      ]
    },
    {
      "cell_type": "markdown",
      "source": [
        "$\\therefore$\n",
        "$$ C = 5 \\times 10^{-5} $$\n",
        "and\n",
        "$$ R = 10^{5} $$"
      ],
      "metadata": {
        "id": "vts1kkXOXiwa"
      }
    }
  ]
}