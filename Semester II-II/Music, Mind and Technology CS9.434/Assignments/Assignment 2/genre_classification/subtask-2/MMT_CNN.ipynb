{
  "nbformat": 4,
  "nbformat_minor": 0,
  "metadata": {
    "colab": {
      "provenance": []
    },
    "kernelspec": {
      "name": "python3",
      "display_name": "Python 3"
    },
    "language_info": {
      "name": "python"
    },
    "accelerator": "GPU",
    "gpuClass": "standard",
    "widgets": {
      "application/vnd.jupyter.widget-state+json": {
        "4eb2320a430147b1b8aa8533593d0771": {
          "model_module": "@jupyter-widgets/controls",
          "model_name": "HBoxModel",
          "model_module_version": "1.5.0",
          "state": {
            "_dom_classes": [],
            "_model_module": "@jupyter-widgets/controls",
            "_model_module_version": "1.5.0",
            "_model_name": "HBoxModel",
            "_view_count": null,
            "_view_module": "@jupyter-widgets/controls",
            "_view_module_version": "1.5.0",
            "_view_name": "HBoxView",
            "box_style": "",
            "children": [
              "IPY_MODEL_7f36a8f025694f85a54f809878be4e86",
              "IPY_MODEL_d601f9a5fa2240769d6f839b7c03d218",
              "IPY_MODEL_72fd52bfb24d443682ea9d4e935d6956"
            ],
            "layout": "IPY_MODEL_e1ecb3b16e91400e82fa994e557dc006"
          }
        },
        "7f36a8f025694f85a54f809878be4e86": {
          "model_module": "@jupyter-widgets/controls",
          "model_name": "HTMLModel",
          "model_module_version": "1.5.0",
          "state": {
            "_dom_classes": [],
            "_model_module": "@jupyter-widgets/controls",
            "_model_module_version": "1.5.0",
            "_model_name": "HTMLModel",
            "_view_count": null,
            "_view_module": "@jupyter-widgets/controls",
            "_view_module_version": "1.5.0",
            "_view_name": "HTMLView",
            "description": "",
            "description_tooltip": null,
            "layout": "IPY_MODEL_90a02486663a40dbb5aecf3d62deed4e",
            "placeholder": "​",
            "style": "IPY_MODEL_b3f348c3db504a08832a490de8114946",
            "value": "100%"
          }
        },
        "d601f9a5fa2240769d6f839b7c03d218": {
          "model_module": "@jupyter-widgets/controls",
          "model_name": "FloatProgressModel",
          "model_module_version": "1.5.0",
          "state": {
            "_dom_classes": [],
            "_model_module": "@jupyter-widgets/controls",
            "_model_module_version": "1.5.0",
            "_model_name": "FloatProgressModel",
            "_view_count": null,
            "_view_module": "@jupyter-widgets/controls",
            "_view_module_version": "1.5.0",
            "_view_name": "ProgressView",
            "bar_style": "success",
            "description": "",
            "description_tooltip": null,
            "layout": "IPY_MODEL_4aad2776fafc46c78c5bdc2be331bd13",
            "max": 10,
            "min": 0,
            "orientation": "horizontal",
            "style": "IPY_MODEL_c5dd56c463bc4b42ab798afa833da905",
            "value": 10
          }
        },
        "72fd52bfb24d443682ea9d4e935d6956": {
          "model_module": "@jupyter-widgets/controls",
          "model_name": "HTMLModel",
          "model_module_version": "1.5.0",
          "state": {
            "_dom_classes": [],
            "_model_module": "@jupyter-widgets/controls",
            "_model_module_version": "1.5.0",
            "_model_name": "HTMLModel",
            "_view_count": null,
            "_view_module": "@jupyter-widgets/controls",
            "_view_module_version": "1.5.0",
            "_view_name": "HTMLView",
            "description": "",
            "description_tooltip": null,
            "layout": "IPY_MODEL_7e012d8b37d94821909c018d21b34201",
            "placeholder": "​",
            "style": "IPY_MODEL_d268d4edb2054a22bc21d4e67dd14893",
            "value": " 10/10 [00:01&lt;00:00,  2.63it/s]"
          }
        },
        "e1ecb3b16e91400e82fa994e557dc006": {
          "model_module": "@jupyter-widgets/base",
          "model_name": "LayoutModel",
          "model_module_version": "1.2.0",
          "state": {
            "_model_module": "@jupyter-widgets/base",
            "_model_module_version": "1.2.0",
            "_model_name": "LayoutModel",
            "_view_count": null,
            "_view_module": "@jupyter-widgets/base",
            "_view_module_version": "1.2.0",
            "_view_name": "LayoutView",
            "align_content": null,
            "align_items": null,
            "align_self": null,
            "border": null,
            "bottom": null,
            "display": null,
            "flex": null,
            "flex_flow": null,
            "grid_area": null,
            "grid_auto_columns": null,
            "grid_auto_flow": null,
            "grid_auto_rows": null,
            "grid_column": null,
            "grid_gap": null,
            "grid_row": null,
            "grid_template_areas": null,
            "grid_template_columns": null,
            "grid_template_rows": null,
            "height": null,
            "justify_content": null,
            "justify_items": null,
            "left": null,
            "margin": null,
            "max_height": null,
            "max_width": null,
            "min_height": null,
            "min_width": null,
            "object_fit": null,
            "object_position": null,
            "order": null,
            "overflow": null,
            "overflow_x": null,
            "overflow_y": null,
            "padding": null,
            "right": null,
            "top": null,
            "visibility": null,
            "width": null
          }
        },
        "90a02486663a40dbb5aecf3d62deed4e": {
          "model_module": "@jupyter-widgets/base",
          "model_name": "LayoutModel",
          "model_module_version": "1.2.0",
          "state": {
            "_model_module": "@jupyter-widgets/base",
            "_model_module_version": "1.2.0",
            "_model_name": "LayoutModel",
            "_view_count": null,
            "_view_module": "@jupyter-widgets/base",
            "_view_module_version": "1.2.0",
            "_view_name": "LayoutView",
            "align_content": null,
            "align_items": null,
            "align_self": null,
            "border": null,
            "bottom": null,
            "display": null,
            "flex": null,
            "flex_flow": null,
            "grid_area": null,
            "grid_auto_columns": null,
            "grid_auto_flow": null,
            "grid_auto_rows": null,
            "grid_column": null,
            "grid_gap": null,
            "grid_row": null,
            "grid_template_areas": null,
            "grid_template_columns": null,
            "grid_template_rows": null,
            "height": null,
            "justify_content": null,
            "justify_items": null,
            "left": null,
            "margin": null,
            "max_height": null,
            "max_width": null,
            "min_height": null,
            "min_width": null,
            "object_fit": null,
            "object_position": null,
            "order": null,
            "overflow": null,
            "overflow_x": null,
            "overflow_y": null,
            "padding": null,
            "right": null,
            "top": null,
            "visibility": null,
            "width": null
          }
        },
        "b3f348c3db504a08832a490de8114946": {
          "model_module": "@jupyter-widgets/controls",
          "model_name": "DescriptionStyleModel",
          "model_module_version": "1.5.0",
          "state": {
            "_model_module": "@jupyter-widgets/controls",
            "_model_module_version": "1.5.0",
            "_model_name": "DescriptionStyleModel",
            "_view_count": null,
            "_view_module": "@jupyter-widgets/base",
            "_view_module_version": "1.2.0",
            "_view_name": "StyleView",
            "description_width": ""
          }
        },
        "4aad2776fafc46c78c5bdc2be331bd13": {
          "model_module": "@jupyter-widgets/base",
          "model_name": "LayoutModel",
          "model_module_version": "1.2.0",
          "state": {
            "_model_module": "@jupyter-widgets/base",
            "_model_module_version": "1.2.0",
            "_model_name": "LayoutModel",
            "_view_count": null,
            "_view_module": "@jupyter-widgets/base",
            "_view_module_version": "1.2.0",
            "_view_name": "LayoutView",
            "align_content": null,
            "align_items": null,
            "align_self": null,
            "border": null,
            "bottom": null,
            "display": null,
            "flex": null,
            "flex_flow": null,
            "grid_area": null,
            "grid_auto_columns": null,
            "grid_auto_flow": null,
            "grid_auto_rows": null,
            "grid_column": null,
            "grid_gap": null,
            "grid_row": null,
            "grid_template_areas": null,
            "grid_template_columns": null,
            "grid_template_rows": null,
            "height": null,
            "justify_content": null,
            "justify_items": null,
            "left": null,
            "margin": null,
            "max_height": null,
            "max_width": null,
            "min_height": null,
            "min_width": null,
            "object_fit": null,
            "object_position": null,
            "order": null,
            "overflow": null,
            "overflow_x": null,
            "overflow_y": null,
            "padding": null,
            "right": null,
            "top": null,
            "visibility": null,
            "width": null
          }
        },
        "c5dd56c463bc4b42ab798afa833da905": {
          "model_module": "@jupyter-widgets/controls",
          "model_name": "ProgressStyleModel",
          "model_module_version": "1.5.0",
          "state": {
            "_model_module": "@jupyter-widgets/controls",
            "_model_module_version": "1.5.0",
            "_model_name": "ProgressStyleModel",
            "_view_count": null,
            "_view_module": "@jupyter-widgets/base",
            "_view_module_version": "1.2.0",
            "_view_name": "StyleView",
            "bar_color": null,
            "description_width": ""
          }
        },
        "7e012d8b37d94821909c018d21b34201": {
          "model_module": "@jupyter-widgets/base",
          "model_name": "LayoutModel",
          "model_module_version": "1.2.0",
          "state": {
            "_model_module": "@jupyter-widgets/base",
            "_model_module_version": "1.2.0",
            "_model_name": "LayoutModel",
            "_view_count": null,
            "_view_module": "@jupyter-widgets/base",
            "_view_module_version": "1.2.0",
            "_view_name": "LayoutView",
            "align_content": null,
            "align_items": null,
            "align_self": null,
            "border": null,
            "bottom": null,
            "display": null,
            "flex": null,
            "flex_flow": null,
            "grid_area": null,
            "grid_auto_columns": null,
            "grid_auto_flow": null,
            "grid_auto_rows": null,
            "grid_column": null,
            "grid_gap": null,
            "grid_row": null,
            "grid_template_areas": null,
            "grid_template_columns": null,
            "grid_template_rows": null,
            "height": null,
            "justify_content": null,
            "justify_items": null,
            "left": null,
            "margin": null,
            "max_height": null,
            "max_width": null,
            "min_height": null,
            "min_width": null,
            "object_fit": null,
            "object_position": null,
            "order": null,
            "overflow": null,
            "overflow_x": null,
            "overflow_y": null,
            "padding": null,
            "right": null,
            "top": null,
            "visibility": null,
            "width": null
          }
        },
        "d268d4edb2054a22bc21d4e67dd14893": {
          "model_module": "@jupyter-widgets/controls",
          "model_name": "DescriptionStyleModel",
          "model_module_version": "1.5.0",
          "state": {
            "_model_module": "@jupyter-widgets/controls",
            "_model_module_version": "1.5.0",
            "_model_name": "DescriptionStyleModel",
            "_view_count": null,
            "_view_module": "@jupyter-widgets/base",
            "_view_module_version": "1.2.0",
            "_view_name": "StyleView",
            "description_width": ""
          }
        },
        "c2a4e96289084d2892c6ee22e8cd4e11": {
          "model_module": "@jupyter-widgets/controls",
          "model_name": "HBoxModel",
          "model_module_version": "1.5.0",
          "state": {
            "_dom_classes": [],
            "_model_module": "@jupyter-widgets/controls",
            "_model_module_version": "1.5.0",
            "_model_name": "HBoxModel",
            "_view_count": null,
            "_view_module": "@jupyter-widgets/controls",
            "_view_module_version": "1.5.0",
            "_view_name": "HBoxView",
            "box_style": "",
            "children": [
              "IPY_MODEL_8c46cfdb76124f00ae6eae8d93d4a654",
              "IPY_MODEL_3a5af01498cc435aa80200a0ed09aa58",
              "IPY_MODEL_f676a9c20a864451abd52c26fd140354"
            ],
            "layout": "IPY_MODEL_34570aa500564b629c8251272aecbca2"
          }
        },
        "8c46cfdb76124f00ae6eae8d93d4a654": {
          "model_module": "@jupyter-widgets/controls",
          "model_name": "HTMLModel",
          "model_module_version": "1.5.0",
          "state": {
            "_dom_classes": [],
            "_model_module": "@jupyter-widgets/controls",
            "_model_module_version": "1.5.0",
            "_model_name": "HTMLModel",
            "_view_count": null,
            "_view_module": "@jupyter-widgets/controls",
            "_view_module_version": "1.5.0",
            "_view_name": "HTMLView",
            "description": "",
            "description_tooltip": null,
            "layout": "IPY_MODEL_df608a5a56e74eee92af8a359ba8124f",
            "placeholder": "​",
            "style": "IPY_MODEL_f7b62e654bd747de9b845e297ace83a8",
            "value": "100%"
          }
        },
        "3a5af01498cc435aa80200a0ed09aa58": {
          "model_module": "@jupyter-widgets/controls",
          "model_name": "FloatProgressModel",
          "model_module_version": "1.5.0",
          "state": {
            "_dom_classes": [],
            "_model_module": "@jupyter-widgets/controls",
            "_model_module_version": "1.5.0",
            "_model_name": "FloatProgressModel",
            "_view_count": null,
            "_view_module": "@jupyter-widgets/controls",
            "_view_module_version": "1.5.0",
            "_view_name": "ProgressView",
            "bar_style": "success",
            "description": "",
            "description_tooltip": null,
            "layout": "IPY_MODEL_36185e92191d46f3812658b6932110c6",
            "max": 1018,
            "min": 0,
            "orientation": "horizontal",
            "style": "IPY_MODEL_3f81c0d0da2a496eb6251d135551ef7a",
            "value": 1018
          }
        },
        "f676a9c20a864451abd52c26fd140354": {
          "model_module": "@jupyter-widgets/controls",
          "model_name": "HTMLModel",
          "model_module_version": "1.5.0",
          "state": {
            "_dom_classes": [],
            "_model_module": "@jupyter-widgets/controls",
            "_model_module_version": "1.5.0",
            "_model_name": "HTMLModel",
            "_view_count": null,
            "_view_module": "@jupyter-widgets/controls",
            "_view_module_version": "1.5.0",
            "_view_name": "HTMLView",
            "description": "",
            "description_tooltip": null,
            "layout": "IPY_MODEL_c963a27f0eae432bbfac2432d248904d",
            "placeholder": "​",
            "style": "IPY_MODEL_bd886ba2e4c84e1fa53edb55ff2ac257",
            "value": " 1018/1018 [03:19&lt;00:00,  4.41it/s]"
          }
        },
        "34570aa500564b629c8251272aecbca2": {
          "model_module": "@jupyter-widgets/base",
          "model_name": "LayoutModel",
          "model_module_version": "1.2.0",
          "state": {
            "_model_module": "@jupyter-widgets/base",
            "_model_module_version": "1.2.0",
            "_model_name": "LayoutModel",
            "_view_count": null,
            "_view_module": "@jupyter-widgets/base",
            "_view_module_version": "1.2.0",
            "_view_name": "LayoutView",
            "align_content": null,
            "align_items": null,
            "align_self": null,
            "border": null,
            "bottom": null,
            "display": null,
            "flex": null,
            "flex_flow": null,
            "grid_area": null,
            "grid_auto_columns": null,
            "grid_auto_flow": null,
            "grid_auto_rows": null,
            "grid_column": null,
            "grid_gap": null,
            "grid_row": null,
            "grid_template_areas": null,
            "grid_template_columns": null,
            "grid_template_rows": null,
            "height": null,
            "justify_content": null,
            "justify_items": null,
            "left": null,
            "margin": null,
            "max_height": null,
            "max_width": null,
            "min_height": null,
            "min_width": null,
            "object_fit": null,
            "object_position": null,
            "order": null,
            "overflow": null,
            "overflow_x": null,
            "overflow_y": null,
            "padding": null,
            "right": null,
            "top": null,
            "visibility": null,
            "width": null
          }
        },
        "df608a5a56e74eee92af8a359ba8124f": {
          "model_module": "@jupyter-widgets/base",
          "model_name": "LayoutModel",
          "model_module_version": "1.2.0",
          "state": {
            "_model_module": "@jupyter-widgets/base",
            "_model_module_version": "1.2.0",
            "_model_name": "LayoutModel",
            "_view_count": null,
            "_view_module": "@jupyter-widgets/base",
            "_view_module_version": "1.2.0",
            "_view_name": "LayoutView",
            "align_content": null,
            "align_items": null,
            "align_self": null,
            "border": null,
            "bottom": null,
            "display": null,
            "flex": null,
            "flex_flow": null,
            "grid_area": null,
            "grid_auto_columns": null,
            "grid_auto_flow": null,
            "grid_auto_rows": null,
            "grid_column": null,
            "grid_gap": null,
            "grid_row": null,
            "grid_template_areas": null,
            "grid_template_columns": null,
            "grid_template_rows": null,
            "height": null,
            "justify_content": null,
            "justify_items": null,
            "left": null,
            "margin": null,
            "max_height": null,
            "max_width": null,
            "min_height": null,
            "min_width": null,
            "object_fit": null,
            "object_position": null,
            "order": null,
            "overflow": null,
            "overflow_x": null,
            "overflow_y": null,
            "padding": null,
            "right": null,
            "top": null,
            "visibility": null,
            "width": null
          }
        },
        "f7b62e654bd747de9b845e297ace83a8": {
          "model_module": "@jupyter-widgets/controls",
          "model_name": "DescriptionStyleModel",
          "model_module_version": "1.5.0",
          "state": {
            "_model_module": "@jupyter-widgets/controls",
            "_model_module_version": "1.5.0",
            "_model_name": "DescriptionStyleModel",
            "_view_count": null,
            "_view_module": "@jupyter-widgets/base",
            "_view_module_version": "1.2.0",
            "_view_name": "StyleView",
            "description_width": ""
          }
        },
        "36185e92191d46f3812658b6932110c6": {
          "model_module": "@jupyter-widgets/base",
          "model_name": "LayoutModel",
          "model_module_version": "1.2.0",
          "state": {
            "_model_module": "@jupyter-widgets/base",
            "_model_module_version": "1.2.0",
            "_model_name": "LayoutModel",
            "_view_count": null,
            "_view_module": "@jupyter-widgets/base",
            "_view_module_version": "1.2.0",
            "_view_name": "LayoutView",
            "align_content": null,
            "align_items": null,
            "align_self": null,
            "border": null,
            "bottom": null,
            "display": null,
            "flex": null,
            "flex_flow": null,
            "grid_area": null,
            "grid_auto_columns": null,
            "grid_auto_flow": null,
            "grid_auto_rows": null,
            "grid_column": null,
            "grid_gap": null,
            "grid_row": null,
            "grid_template_areas": null,
            "grid_template_columns": null,
            "grid_template_rows": null,
            "height": null,
            "justify_content": null,
            "justify_items": null,
            "left": null,
            "margin": null,
            "max_height": null,
            "max_width": null,
            "min_height": null,
            "min_width": null,
            "object_fit": null,
            "object_position": null,
            "order": null,
            "overflow": null,
            "overflow_x": null,
            "overflow_y": null,
            "padding": null,
            "right": null,
            "top": null,
            "visibility": null,
            "width": null
          }
        },
        "3f81c0d0da2a496eb6251d135551ef7a": {
          "model_module": "@jupyter-widgets/controls",
          "model_name": "ProgressStyleModel",
          "model_module_version": "1.5.0",
          "state": {
            "_model_module": "@jupyter-widgets/controls",
            "_model_module_version": "1.5.0",
            "_model_name": "ProgressStyleModel",
            "_view_count": null,
            "_view_module": "@jupyter-widgets/base",
            "_view_module_version": "1.2.0",
            "_view_name": "StyleView",
            "bar_color": null,
            "description_width": ""
          }
        },
        "c963a27f0eae432bbfac2432d248904d": {
          "model_module": "@jupyter-widgets/base",
          "model_name": "LayoutModel",
          "model_module_version": "1.2.0",
          "state": {
            "_model_module": "@jupyter-widgets/base",
            "_model_module_version": "1.2.0",
            "_model_name": "LayoutModel",
            "_view_count": null,
            "_view_module": "@jupyter-widgets/base",
            "_view_module_version": "1.2.0",
            "_view_name": "LayoutView",
            "align_content": null,
            "align_items": null,
            "align_self": null,
            "border": null,
            "bottom": null,
            "display": null,
            "flex": null,
            "flex_flow": null,
            "grid_area": null,
            "grid_auto_columns": null,
            "grid_auto_flow": null,
            "grid_auto_rows": null,
            "grid_column": null,
            "grid_gap": null,
            "grid_row": null,
            "grid_template_areas": null,
            "grid_template_columns": null,
            "grid_template_rows": null,
            "height": null,
            "justify_content": null,
            "justify_items": null,
            "left": null,
            "margin": null,
            "max_height": null,
            "max_width": null,
            "min_height": null,
            "min_width": null,
            "object_fit": null,
            "object_position": null,
            "order": null,
            "overflow": null,
            "overflow_x": null,
            "overflow_y": null,
            "padding": null,
            "right": null,
            "top": null,
            "visibility": null,
            "width": null
          }
        },
        "bd886ba2e4c84e1fa53edb55ff2ac257": {
          "model_module": "@jupyter-widgets/controls",
          "model_name": "DescriptionStyleModel",
          "model_module_version": "1.5.0",
          "state": {
            "_model_module": "@jupyter-widgets/controls",
            "_model_module_version": "1.5.0",
            "_model_name": "DescriptionStyleModel",
            "_view_count": null,
            "_view_module": "@jupyter-widgets/base",
            "_view_module_version": "1.2.0",
            "_view_name": "StyleView",
            "description_width": ""
          }
        }
      }
    }
  },
  "cells": [
    {
      "cell_type": "code",
      "source": [
        "import os \n",
        "import numpy as np\n",
        "import pandas as pd\n",
        "import matplotlib.pyplot as plt\n",
        "from tqdm.notebook import tqdm\n",
        "import seaborn as sea\n",
        "import cv2 as op\n",
        "import tensorflow as tf\n",
        "from keras.applications.mobilenet import preprocess_input\n",
        "from tensorflow.keras.utils import to_categorical\n",
        "\n",
        "np.__version__"
      ],
      "metadata": {
        "colab": {
          "base_uri": "https://localhost:8080/",
          "height": 35
        },
        "id": "SwoL2hnv9ab2",
        "outputId": "dec77964-ce08-4365-d0b7-5e9a05dd61d7"
      },
      "execution_count": null,
      "outputs": [
        {
          "output_type": "execute_result",
          "data": {
            "text/plain": [
              "'1.22.4'"
            ],
            "application/vnd.google.colaboratory.intrinsic+json": {
              "type": "string"
            }
          },
          "metadata": {},
          "execution_count": 1
        }
      ]
    },
    {
      "cell_type": "code",
      "source": [
        "from google.colab import drive\n",
        "drive.mount('/content/drive')"
      ],
      "metadata": {
        "colab": {
          "base_uri": "https://localhost:8080/"
        },
        "id": "3I3QSz5wMA3B",
        "outputId": "c36b5f83-495e-4956-e7ee-7319decdfbd5"
      },
      "execution_count": null,
      "outputs": [
        {
          "output_type": "stream",
          "name": "stdout",
          "text": [
            "Mounted at /content/drive\n"
          ]
        }
      ]
    },
    {
      "cell_type": "code",
      "source": [
        "PATH = '/content/drive/MyDrive/images'\n",
        "\n",
        "label_id = 0\n",
        "filepath, outcome = [], []\n",
        "labels = {}\n",
        "\n",
        "for label in tqdm(os.listdir(PATH)):\n",
        "  labels[label] = label_id\n",
        "  for path in os.listdir(PATH + \"/\" + label):\n",
        "    filepath.append(PATH + \"/\" + label + \"/\" + path)\n",
        "    outcome.append(label_id)\n",
        "  label_id += 1\n"
      ],
      "metadata": {
        "colab": {
          "base_uri": "https://localhost:8080/",
          "height": 49,
          "referenced_widgets": [
            "4eb2320a430147b1b8aa8533593d0771",
            "7f36a8f025694f85a54f809878be4e86",
            "d601f9a5fa2240769d6f839b7c03d218",
            "72fd52bfb24d443682ea9d4e935d6956",
            "e1ecb3b16e91400e82fa994e557dc006",
            "90a02486663a40dbb5aecf3d62deed4e",
            "b3f348c3db504a08832a490de8114946",
            "4aad2776fafc46c78c5bdc2be331bd13",
            "c5dd56c463bc4b42ab798afa833da905",
            "7e012d8b37d94821909c018d21b34201",
            "d268d4edb2054a22bc21d4e67dd14893"
          ]
        },
        "id": "pBapVTSO9WhD",
        "outputId": "b74a7679-f83d-42f4-bc98-86fd3ffdb86c"
      },
      "execution_count": null,
      "outputs": [
        {
          "output_type": "display_data",
          "data": {
            "text/plain": [
              "  0%|          | 0/10 [00:00<?, ?it/s]"
            ],
            "application/vnd.jupyter.widget-view+json": {
              "version_major": 2,
              "version_minor": 0,
              "model_id": "4eb2320a430147b1b8aa8533593d0771"
            }
          },
          "metadata": {}
        }
      ]
    },
    {
      "cell_type": "code",
      "source": [
        "df = pd.DataFrame({\n",
        "    \"filepath\" : filepath,\n",
        "    \"outcome\" : outcome\n",
        "})\n",
        "\n",
        "df"
      ],
      "metadata": {
        "colab": {
          "base_uri": "https://localhost:8080/",
          "height": 419
        },
        "id": "RJMN7--6-2vb",
        "outputId": "804a8b4b-b75a-4eb3-c25d-4424ffb7442a"
      },
      "execution_count": null,
      "outputs": [
        {
          "output_type": "execute_result",
          "data": {
            "text/plain": [
              "                                            filepath  outcome\n",
              "0     /content/drive/MyDrive/images/metal/metal0.png        0\n",
              "1     /content/drive/MyDrive/images/metal/metal1.png        0\n",
              "2     /content/drive/MyDrive/images/metal/metal2.png        0\n",
              "3     /content/drive/MyDrive/images/metal/metal3.png        0\n",
              "4     /content/drive/MyDrive/images/metal/metal4.png        0\n",
              "...                                              ...      ...\n",
              "1013   /content/drive/MyDrive/images/jazz/jazz95.png        9\n",
              "1014   /content/drive/MyDrive/images/jazz/jazz97.png        9\n",
              "1015   /content/drive/MyDrive/images/jazz/jazz96.png        9\n",
              "1016   /content/drive/MyDrive/images/jazz/jazz98.png        9\n",
              "1017   /content/drive/MyDrive/images/jazz/jazz99.png        9\n",
              "\n",
              "[1018 rows x 2 columns]"
            ],
            "text/html": [
              "\n",
              "  <div id=\"df-3c14f704-8061-4c45-a8cd-578ce985bf8f\">\n",
              "    <div class=\"colab-df-container\">\n",
              "      <div>\n",
              "<style scoped>\n",
              "    .dataframe tbody tr th:only-of-type {\n",
              "        vertical-align: middle;\n",
              "    }\n",
              "\n",
              "    .dataframe tbody tr th {\n",
              "        vertical-align: top;\n",
              "    }\n",
              "\n",
              "    .dataframe thead th {\n",
              "        text-align: right;\n",
              "    }\n",
              "</style>\n",
              "<table border=\"1\" class=\"dataframe\">\n",
              "  <thead>\n",
              "    <tr style=\"text-align: right;\">\n",
              "      <th></th>\n",
              "      <th>filepath</th>\n",
              "      <th>outcome</th>\n",
              "    </tr>\n",
              "  </thead>\n",
              "  <tbody>\n",
              "    <tr>\n",
              "      <th>0</th>\n",
              "      <td>/content/drive/MyDrive/images/metal/metal0.png</td>\n",
              "      <td>0</td>\n",
              "    </tr>\n",
              "    <tr>\n",
              "      <th>1</th>\n",
              "      <td>/content/drive/MyDrive/images/metal/metal1.png</td>\n",
              "      <td>0</td>\n",
              "    </tr>\n",
              "    <tr>\n",
              "      <th>2</th>\n",
              "      <td>/content/drive/MyDrive/images/metal/metal2.png</td>\n",
              "      <td>0</td>\n",
              "    </tr>\n",
              "    <tr>\n",
              "      <th>3</th>\n",
              "      <td>/content/drive/MyDrive/images/metal/metal3.png</td>\n",
              "      <td>0</td>\n",
              "    </tr>\n",
              "    <tr>\n",
              "      <th>4</th>\n",
              "      <td>/content/drive/MyDrive/images/metal/metal4.png</td>\n",
              "      <td>0</td>\n",
              "    </tr>\n",
              "    <tr>\n",
              "      <th>...</th>\n",
              "      <td>...</td>\n",
              "      <td>...</td>\n",
              "    </tr>\n",
              "    <tr>\n",
              "      <th>1013</th>\n",
              "      <td>/content/drive/MyDrive/images/jazz/jazz95.png</td>\n",
              "      <td>9</td>\n",
              "    </tr>\n",
              "    <tr>\n",
              "      <th>1014</th>\n",
              "      <td>/content/drive/MyDrive/images/jazz/jazz97.png</td>\n",
              "      <td>9</td>\n",
              "    </tr>\n",
              "    <tr>\n",
              "      <th>1015</th>\n",
              "      <td>/content/drive/MyDrive/images/jazz/jazz96.png</td>\n",
              "      <td>9</td>\n",
              "    </tr>\n",
              "    <tr>\n",
              "      <th>1016</th>\n",
              "      <td>/content/drive/MyDrive/images/jazz/jazz98.png</td>\n",
              "      <td>9</td>\n",
              "    </tr>\n",
              "    <tr>\n",
              "      <th>1017</th>\n",
              "      <td>/content/drive/MyDrive/images/jazz/jazz99.png</td>\n",
              "      <td>9</td>\n",
              "    </tr>\n",
              "  </tbody>\n",
              "</table>\n",
              "<p>1018 rows × 2 columns</p>\n",
              "</div>\n",
              "      <button class=\"colab-df-convert\" onclick=\"convertToInteractive('df-3c14f704-8061-4c45-a8cd-578ce985bf8f')\"\n",
              "              title=\"Convert this dataframe to an interactive table.\"\n",
              "              style=\"display:none;\">\n",
              "        \n",
              "  <svg xmlns=\"http://www.w3.org/2000/svg\" height=\"24px\"viewBox=\"0 0 24 24\"\n",
              "       width=\"24px\">\n",
              "    <path d=\"M0 0h24v24H0V0z\" fill=\"none\"/>\n",
              "    <path d=\"M18.56 5.44l.94 2.06.94-2.06 2.06-.94-2.06-.94-.94-2.06-.94 2.06-2.06.94zm-11 1L8.5 8.5l.94-2.06 2.06-.94-2.06-.94L8.5 2.5l-.94 2.06-2.06.94zm10 10l.94 2.06.94-2.06 2.06-.94-2.06-.94-.94-2.06-.94 2.06-2.06.94z\"/><path d=\"M17.41 7.96l-1.37-1.37c-.4-.4-.92-.59-1.43-.59-.52 0-1.04.2-1.43.59L10.3 9.45l-7.72 7.72c-.78.78-.78 2.05 0 2.83L4 21.41c.39.39.9.59 1.41.59.51 0 1.02-.2 1.41-.59l7.78-7.78 2.81-2.81c.8-.78.8-2.07 0-2.86zM5.41 20L4 18.59l7.72-7.72 1.47 1.35L5.41 20z\"/>\n",
              "  </svg>\n",
              "      </button>\n",
              "      \n",
              "  <style>\n",
              "    .colab-df-container {\n",
              "      display:flex;\n",
              "      flex-wrap:wrap;\n",
              "      gap: 12px;\n",
              "    }\n",
              "\n",
              "    .colab-df-convert {\n",
              "      background-color: #E8F0FE;\n",
              "      border: none;\n",
              "      border-radius: 50%;\n",
              "      cursor: pointer;\n",
              "      display: none;\n",
              "      fill: #1967D2;\n",
              "      height: 32px;\n",
              "      padding: 0 0 0 0;\n",
              "      width: 32px;\n",
              "    }\n",
              "\n",
              "    .colab-df-convert:hover {\n",
              "      background-color: #E2EBFA;\n",
              "      box-shadow: 0px 1px 2px rgba(60, 64, 67, 0.3), 0px 1px 3px 1px rgba(60, 64, 67, 0.15);\n",
              "      fill: #174EA6;\n",
              "    }\n",
              "\n",
              "    [theme=dark] .colab-df-convert {\n",
              "      background-color: #3B4455;\n",
              "      fill: #D2E3FC;\n",
              "    }\n",
              "\n",
              "    [theme=dark] .colab-df-convert:hover {\n",
              "      background-color: #434B5C;\n",
              "      box-shadow: 0px 1px 3px 1px rgba(0, 0, 0, 0.15);\n",
              "      filter: drop-shadow(0px 1px 2px rgba(0, 0, 0, 0.3));\n",
              "      fill: #FFFFFF;\n",
              "    }\n",
              "  </style>\n",
              "\n",
              "      <script>\n",
              "        const buttonEl =\n",
              "          document.querySelector('#df-3c14f704-8061-4c45-a8cd-578ce985bf8f button.colab-df-convert');\n",
              "        buttonEl.style.display =\n",
              "          google.colab.kernel.accessAllowed ? 'block' : 'none';\n",
              "\n",
              "        async function convertToInteractive(key) {\n",
              "          const element = document.querySelector('#df-3c14f704-8061-4c45-a8cd-578ce985bf8f');\n",
              "          const dataTable =\n",
              "            await google.colab.kernel.invokeFunction('convertToInteractive',\n",
              "                                                     [key], {});\n",
              "          if (!dataTable) return;\n",
              "\n",
              "          const docLinkHtml = 'Like what you see? Visit the ' +\n",
              "            '<a target=\"_blank\" href=https://colab.research.google.com/notebooks/data_table.ipynb>data table notebook</a>'\n",
              "            + ' to learn more about interactive tables.';\n",
              "          element.innerHTML = '';\n",
              "          dataTable['output_type'] = 'display_data';\n",
              "          await google.colab.output.renderOutput(dataTable, element);\n",
              "          const docLink = document.createElement('div');\n",
              "          docLink.innerHTML = docLinkHtml;\n",
              "          element.appendChild(docLink);\n",
              "        }\n",
              "      </script>\n",
              "    </div>\n",
              "  </div>\n",
              "  "
            ]
          },
          "metadata": {},
          "execution_count": 4
        }
      ]
    },
    {
      "cell_type": "code",
      "source": [
        "X, y = [], []\n",
        "\n",
        "def load_image(path):\n",
        "  img = op.imread(path)\n",
        "  img = op.resize(img, (224, 224))\n",
        "  img = op.cvtColor(img, op.COLOR_BGR2RGB)\n",
        "  img = img/255\n",
        "  return img\n",
        "\n",
        "# img = load_image(df.iloc[0,0])\n",
        "for i in tqdm(range(len(df))):\n",
        "  X.append(load_image(df.iloc[i, 0]))\n",
        "  y.append(df.iloc[i, 1])"
      ],
      "metadata": {
        "colab": {
          "base_uri": "https://localhost:8080/",
          "height": 49,
          "referenced_widgets": [
            "c2a4e96289084d2892c6ee22e8cd4e11",
            "8c46cfdb76124f00ae6eae8d93d4a654",
            "3a5af01498cc435aa80200a0ed09aa58",
            "f676a9c20a864451abd52c26fd140354",
            "34570aa500564b629c8251272aecbca2",
            "df608a5a56e74eee92af8a359ba8124f",
            "f7b62e654bd747de9b845e297ace83a8",
            "36185e92191d46f3812658b6932110c6",
            "3f81c0d0da2a496eb6251d135551ef7a",
            "c963a27f0eae432bbfac2432d248904d",
            "bd886ba2e4c84e1fa53edb55ff2ac257"
          ]
        },
        "id": "an-ADgCu-2tI",
        "outputId": "660d3861-26e8-495e-cb9a-95873ed851d5"
      },
      "execution_count": null,
      "outputs": [
        {
          "output_type": "display_data",
          "data": {
            "text/plain": [
              "  0%|          | 0/1018 [00:00<?, ?it/s]"
            ],
            "application/vnd.jupyter.widget-view+json": {
              "version_major": 2,
              "version_minor": 0,
              "model_id": "c2a4e96289084d2892c6ee22e8cd4e11"
            }
          },
          "metadata": {}
        }
      ]
    },
    {
      "cell_type": "code",
      "source": [
        "X = np.array(X)\n",
        "y = np.array(y)"
      ],
      "metadata": {
        "id": "1I2UnwFXAhVm"
      },
      "execution_count": null,
      "outputs": []
    },
    {
      "cell_type": "code",
      "source": [
        "from sklearn.model_selection import train_test_split\n",
        "\n",
        "X_train, X_test, y_train, y_test = train_test_split(X, y, test_size = 0.2)\n",
        "X_train.shape, X_test.shape, y_train.shape, y_test.shape"
      ],
      "metadata": {
        "colab": {
          "base_uri": "https://localhost:8080/"
        },
        "id": "sRN8qyyp-2rA",
        "outputId": "90fce8ac-4561-4b14-e6af-e4509835efb6"
      },
      "execution_count": null,
      "outputs": [
        {
          "output_type": "execute_result",
          "data": {
            "text/plain": [
              "((814, 224, 224, 3), (204, 224, 224, 3), (814,), (204,))"
            ]
          },
          "metadata": {},
          "execution_count": 9
        }
      ]
    },
    {
      "cell_type": "code",
      "source": [
        "y_train = y_train.reshape(-1, 1)\n",
        "y_test = y_test.reshape(-1, 1)"
      ],
      "metadata": {
        "id": "x1IpScGzC6_I"
      },
      "execution_count": null,
      "outputs": []
    },
    {
      "cell_type": "code",
      "source": [
        "\n",
        "import tensorflow\n",
        "from tensorflow import keras\n",
        "from keras.layers import Dense, Conv2D, MaxPool2D, Flatten, Dropout, Input\n",
        "from keras.models import Model\n",
        "\n",
        "def make_model():\n",
        "  inp = Input(shape = (224, 224, 3))\n",
        "  x = Conv2D(16, (3,3), activation = 'relu')(inp)\n",
        "  x = MaxPool2D(2)(x)\n",
        "  x = Dropout(0.2)(x)\n",
        "\n",
        "  x = Conv2D(32, (3,3), activation = 'relu')(x)\n",
        "  x = MaxPool2D(2)(x)\n",
        "  x = Dropout(0.2)(x)\n",
        "\n",
        "  x = Conv2D(64, (3,3), activation = 'relu')(x)\n",
        "  x = MaxPool2D(2)(x)\n",
        "  x = Dropout(0.2)(x)\n",
        "\n",
        "  x = Conv2D(32, (3,3), activation = 'relu')(x)\n",
        "  x = MaxPool2D(2)(x)\n",
        "  x = Dropout(0.2)(x)\n",
        "\n",
        "  x = Conv2D(64, (3,3), activation = 'relu')(x)\n",
        "  x = MaxPool2D(2)(x)\n",
        "  x = Dropout(0.2)(x)\n",
        "\n",
        "  x = Flatten()(x)\n",
        "  x = Dense(512, activation = 'relu')(x)\n",
        "  x = Dropout(0.2)(x)\n",
        "  out = Dense(10, activation = 'softmax')(x)\n",
        "  \n",
        "  model = Model(inputs = inp, outputs = out)\n",
        "\n",
        "  return model\n",
        "\n"
      ],
      "metadata": {
        "id": "4AyygL4M-2oT"
      },
      "execution_count": null,
      "outputs": []
    },
    {
      "cell_type": "code",
      "source": [
        "model = make_model()\n",
        "model.summary()"
      ],
      "metadata": {
        "colab": {
          "base_uri": "https://localhost:8080/"
        },
        "id": "AdLfviw8-2gQ",
        "outputId": "03f636c8-e559-4f52-c7bc-00e5c6ba800c"
      },
      "execution_count": null,
      "outputs": [
        {
          "output_type": "stream",
          "name": "stdout",
          "text": [
            "Model: \"model\"\n",
            "_________________________________________________________________\n",
            " Layer (type)                Output Shape              Param #   \n",
            "=================================================================\n",
            " input_1 (InputLayer)        [(None, 224, 224, 3)]     0         \n",
            "                                                                 \n",
            " conv2d (Conv2D)             (None, 222, 222, 16)      448       \n",
            "                                                                 \n",
            " max_pooling2d (MaxPooling2D  (None, 111, 111, 16)     0         \n",
            " )                                                               \n",
            "                                                                 \n",
            " dropout (Dropout)           (None, 111, 111, 16)      0         \n",
            "                                                                 \n",
            " conv2d_1 (Conv2D)           (None, 109, 109, 32)      4640      \n",
            "                                                                 \n",
            " max_pooling2d_1 (MaxPooling  (None, 54, 54, 32)       0         \n",
            " 2D)                                                             \n",
            "                                                                 \n",
            " dropout_1 (Dropout)         (None, 54, 54, 32)        0         \n",
            "                                                                 \n",
            " conv2d_2 (Conv2D)           (None, 52, 52, 64)        18496     \n",
            "                                                                 \n",
            " max_pooling2d_2 (MaxPooling  (None, 26, 26, 64)       0         \n",
            " 2D)                                                             \n",
            "                                                                 \n",
            " dropout_2 (Dropout)         (None, 26, 26, 64)        0         \n",
            "                                                                 \n",
            " conv2d_3 (Conv2D)           (None, 24, 24, 32)        18464     \n",
            "                                                                 \n",
            " max_pooling2d_3 (MaxPooling  (None, 12, 12, 32)       0         \n",
            " 2D)                                                             \n",
            "                                                                 \n",
            " dropout_3 (Dropout)         (None, 12, 12, 32)        0         \n",
            "                                                                 \n",
            " conv2d_4 (Conv2D)           (None, 10, 10, 64)        18496     \n",
            "                                                                 \n",
            " max_pooling2d_4 (MaxPooling  (None, 5, 5, 64)         0         \n",
            " 2D)                                                             \n",
            "                                                                 \n",
            " dropout_4 (Dropout)         (None, 5, 5, 64)          0         \n",
            "                                                                 \n",
            " flatten (Flatten)           (None, 1600)              0         \n",
            "                                                                 \n",
            " dense (Dense)               (None, 512)               819712    \n",
            "                                                                 \n",
            " dropout_5 (Dropout)         (None, 512)               0         \n",
            "                                                                 \n",
            " dense_1 (Dense)             (None, 10)                5130      \n",
            "                                                                 \n",
            "=================================================================\n",
            "Total params: 885,386\n",
            "Trainable params: 885,386\n",
            "Non-trainable params: 0\n",
            "_________________________________________________________________\n"
          ]
        }
      ]
    },
    {
      "cell_type": "code",
      "source": [
        "model.compile(\n",
        "    loss = keras.losses.SparseCategoricalCrossentropy(),\n",
        "    optimizer = keras.optimizers.Adam(),\n",
        "    metrics = ['accuracy']\n",
        ")"
      ],
      "metadata": {
        "id": "F53kCySOCgnN"
      },
      "execution_count": null,
      "outputs": []
    },
    {
      "cell_type": "code",
      "source": [
        "model.fit(X_train, y_train, epochs = 30, batch_size = 32, validation_data = (X_test, y_test))"
      ],
      "metadata": {
        "colab": {
          "base_uri": "https://localhost:8080/"
        },
        "id": "8o_3KLkyCsGA",
        "outputId": "8cc6c991-13f3-4bc4-afe7-a258f769e88a"
      },
      "execution_count": null,
      "outputs": [
        {
          "output_type": "stream",
          "name": "stdout",
          "text": [
            "Epoch 1/30\n",
            "26/26 [==============================] - 15s 100ms/step - loss: 2.2091 - accuracy: 0.1634 - val_loss: 2.0971 - val_accuracy: 0.2108\n",
            "Epoch 2/30\n",
            "26/26 [==============================] - 1s 52ms/step - loss: 1.9753 - accuracy: 0.2076 - val_loss: 2.0318 - val_accuracy: 0.2549\n",
            "Epoch 3/30\n",
            "26/26 [==============================] - 1s 47ms/step - loss: 1.8650 - accuracy: 0.2789 - val_loss: 1.9858 - val_accuracy: 0.2108\n",
            "Epoch 4/30\n",
            "26/26 [==============================] - 1s 49ms/step - loss: 1.8517 - accuracy: 0.2936 - val_loss: 1.9412 - val_accuracy: 0.2451\n",
            "Epoch 5/30\n",
            "26/26 [==============================] - 1s 49ms/step - loss: 1.8473 - accuracy: 0.2899 - val_loss: 1.9481 - val_accuracy: 0.2451\n",
            "Epoch 6/30\n",
            "26/26 [==============================] - 1s 49ms/step - loss: 1.7700 - accuracy: 0.3231 - val_loss: 1.9483 - val_accuracy: 0.2794\n",
            "Epoch 7/30\n",
            "26/26 [==============================] - 1s 48ms/step - loss: 1.7122 - accuracy: 0.3489 - val_loss: 1.8153 - val_accuracy: 0.2696\n",
            "Epoch 8/30\n",
            "26/26 [==============================] - 1s 48ms/step - loss: 1.7251 - accuracy: 0.3489 - val_loss: 1.7938 - val_accuracy: 0.3382\n",
            "Epoch 9/30\n",
            "26/26 [==============================] - 1s 47ms/step - loss: 1.6461 - accuracy: 0.3784 - val_loss: 1.8016 - val_accuracy: 0.3088\n",
            "Epoch 10/30\n",
            "26/26 [==============================] - 1s 53ms/step - loss: 1.6166 - accuracy: 0.3968 - val_loss: 1.7400 - val_accuracy: 0.3922\n",
            "Epoch 11/30\n",
            "26/26 [==============================] - 1s 52ms/step - loss: 1.6419 - accuracy: 0.3796 - val_loss: 1.7694 - val_accuracy: 0.3971\n",
            "Epoch 12/30\n",
            "26/26 [==============================] - 1s 54ms/step - loss: 1.6404 - accuracy: 0.4214 - val_loss: 1.7484 - val_accuracy: 0.3725\n",
            "Epoch 13/30\n",
            "26/26 [==============================] - 1s 48ms/step - loss: 1.5093 - accuracy: 0.4570 - val_loss: 1.7718 - val_accuracy: 0.3235\n",
            "Epoch 14/30\n",
            "26/26 [==============================] - 1s 48ms/step - loss: 1.4912 - accuracy: 0.4459 - val_loss: 1.6311 - val_accuracy: 0.4118\n",
            "Epoch 15/30\n",
            "26/26 [==============================] - 1s 47ms/step - loss: 1.4811 - accuracy: 0.4570 - val_loss: 1.7088 - val_accuracy: 0.3333\n",
            "Epoch 16/30\n",
            "26/26 [==============================] - 1s 49ms/step - loss: 1.4250 - accuracy: 0.5037 - val_loss: 1.6591 - val_accuracy: 0.4069\n",
            "Epoch 17/30\n",
            "26/26 [==============================] - 1s 50ms/step - loss: 1.3969 - accuracy: 0.4828 - val_loss: 1.6170 - val_accuracy: 0.3824\n",
            "Epoch 18/30\n",
            "26/26 [==============================] - 1s 48ms/step - loss: 1.3458 - accuracy: 0.5270 - val_loss: 1.5321 - val_accuracy: 0.4755\n",
            "Epoch 19/30\n",
            "26/26 [==============================] - 1s 48ms/step - loss: 1.2874 - accuracy: 0.5307 - val_loss: 1.5722 - val_accuracy: 0.4755\n",
            "Epoch 20/30\n",
            "26/26 [==============================] - 1s 51ms/step - loss: 1.2473 - accuracy: 0.5590 - val_loss: 1.6189 - val_accuracy: 0.4167\n",
            "Epoch 21/30\n",
            "26/26 [==============================] - 1s 52ms/step - loss: 1.1511 - accuracy: 0.5614 - val_loss: 1.5688 - val_accuracy: 0.4804\n",
            "Epoch 22/30\n",
            "26/26 [==============================] - 2s 59ms/step - loss: 1.0825 - accuracy: 0.6130 - val_loss: 1.5569 - val_accuracy: 0.4853\n",
            "Epoch 23/30\n",
            "26/26 [==============================] - 1s 49ms/step - loss: 1.0374 - accuracy: 0.6400 - val_loss: 1.6423 - val_accuracy: 0.4265\n",
            "Epoch 24/30\n",
            "26/26 [==============================] - 1s 47ms/step - loss: 0.9472 - accuracy: 0.6597 - val_loss: 1.6029 - val_accuracy: 0.5049\n",
            "Epoch 25/30\n",
            "26/26 [==============================] - 1s 48ms/step - loss: 0.8949 - accuracy: 0.6597 - val_loss: 1.5787 - val_accuracy: 0.4755\n",
            "Epoch 26/30\n",
            "26/26 [==============================] - 1s 47ms/step - loss: 0.8601 - accuracy: 0.6904 - val_loss: 1.6651 - val_accuracy: 0.4951\n",
            "Epoch 27/30\n",
            "26/26 [==============================] - 1s 47ms/step - loss: 0.7748 - accuracy: 0.7174 - val_loss: 1.6227 - val_accuracy: 0.5392\n",
            "Epoch 28/30\n",
            "26/26 [==============================] - 1s 48ms/step - loss: 0.7368 - accuracy: 0.7420 - val_loss: 1.5796 - val_accuracy: 0.4853\n",
            "Epoch 29/30\n",
            "26/26 [==============================] - 1s 47ms/step - loss: 0.6371 - accuracy: 0.7641 - val_loss: 1.5414 - val_accuracy: 0.5196\n",
            "Epoch 30/30\n",
            "26/26 [==============================] - 1s 48ms/step - loss: 0.6128 - accuracy: 0.7776 - val_loss: 1.5686 - val_accuracy: 0.5343\n"
          ]
        },
        {
          "output_type": "execute_result",
          "data": {
            "text/plain": [
              "<keras.callbacks.History at 0x7f6654044820>"
            ]
          },
          "metadata": {},
          "execution_count": 14
        }
      ]
    },
    {
      "cell_type": "code",
      "source": [],
      "metadata": {
        "id": "_P17o9ZNVRdp"
      },
      "execution_count": null,
      "outputs": []
    }
  ]
}