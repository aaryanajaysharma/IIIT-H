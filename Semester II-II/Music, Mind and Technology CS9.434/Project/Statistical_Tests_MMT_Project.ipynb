{
 "cells": [
  {
   "cell_type": "code",
   "execution_count": 109,
   "id": "b01601d8",
   "metadata": {},
   "outputs": [],
   "source": [
    "import pandas as pd\n",
    "import numpy as np\n",
    "import matplotlib.pyplot as plt\n",
    "import seaborn as sns\n",
    "from scipy.stats import shapiro\n",
    "from scipy.stats import friedmanchisquare\n",
    "from statsmodels.stats.anova import AnovaRM"
   ]
  },
  {
   "cell_type": "code",
   "execution_count": 110,
   "id": "59a761e7",
   "metadata": {},
   "outputs": [],
   "source": [
    "no_music = pd.read_csv('No_music_MMT.csv', sep='|')\n",
    "white_noise = pd.read_csv('White_noise_MMT.csv', sep='|')\n",
    "original_song = pd.read_csv('Music_original_MMT.csv', sep='|')\n",
    "increased_tempo = pd.read_csv('Increased_tempo_MMT.csv', sep='|')"
   ]
  },
  {
   "cell_type": "markdown",
   "id": "9b88b049",
   "metadata": {},
   "source": [
    "## Shapiro-wilke test\n",
    "The Shapiro-Wilks test for normality is one of three general normality tests designed to detect all departures from normality.  It is comparable in power to the other two tests.\n",
    "\n",
    "The test rejects the hypothesis of normality when the p-value is less than or equal to 0.05.  Failing the normality test allows you to state with 95% confidence the data does not fit the normal distribution.  Passing the normality test only allows you to state no significant departure from normality was found."
   ]
  },
  {
   "cell_type": "markdown",
   "id": "4f5f1bb1",
   "metadata": {},
   "source": [
    "### WPM"
   ]
  },
  {
   "cell_type": "code",
   "execution_count": 111,
   "id": "980501db",
   "metadata": {},
   "outputs": [
    {
     "data": {
      "text/plain": [
       "ShapiroResult(statistic=0.9036610722541809, pvalue=0.010334021411836147)"
      ]
     },
     "execution_count": 111,
     "metadata": {},
     "output_type": "execute_result"
    }
   ],
   "source": [
    "shapiro(no_music['wpm'])"
   ]
  },
  {
   "cell_type": "code",
   "execution_count": 112,
   "id": "6fd0bd04",
   "metadata": {},
   "outputs": [
    {
     "data": {
      "text/plain": [
       "ShapiroResult(statistic=0.9265190958976746, pvalue=0.03971865028142929)"
      ]
     },
     "execution_count": 112,
     "metadata": {},
     "output_type": "execute_result"
    }
   ],
   "source": [
    "shapiro(white_noise['wpm'])"
   ]
  },
  {
   "cell_type": "code",
   "execution_count": 113,
   "id": "78a643d2",
   "metadata": {},
   "outputs": [
    {
     "data": {
      "text/plain": [
       "ShapiroResult(statistic=0.9260627031326294, pvalue=0.03863387554883957)"
      ]
     },
     "execution_count": 113,
     "metadata": {},
     "output_type": "execute_result"
    }
   ],
   "source": [
    "shapiro(original_song['wpm'])"
   ]
  },
  {
   "cell_type": "code",
   "execution_count": 114,
   "id": "c47c16bd",
   "metadata": {},
   "outputs": [
    {
     "data": {
      "text/plain": [
       "ShapiroResult(statistic=0.9313593506813049, pvalue=0.05336510390043259)"
      ]
     },
     "execution_count": 114,
     "metadata": {},
     "output_type": "execute_result"
    }
   ],
   "source": [
    "shapiro(increased_tempo['wpm'])  # Normal"
   ]
  },
  {
   "cell_type": "markdown",
   "id": "e8564eef",
   "metadata": {},
   "source": [
    "### Raw WPM"
   ]
  },
  {
   "cell_type": "code",
   "execution_count": 115,
   "id": "249544a5",
   "metadata": {
    "scrolled": true
   },
   "outputs": [
    {
     "data": {
      "text/plain": [
       "ShapiroResult(statistic=0.9165592789649963, pvalue=0.02185877040028572)"
      ]
     },
     "execution_count": 115,
     "metadata": {},
     "output_type": "execute_result"
    }
   ],
   "source": [
    "shapiro(no_music['rawWpm'])"
   ]
  },
  {
   "cell_type": "code",
   "execution_count": 116,
   "id": "d660e533",
   "metadata": {},
   "outputs": [
    {
     "data": {
      "text/plain": [
       "ShapiroResult(statistic=0.9251465797424316, pvalue=0.03654834255576134)"
      ]
     },
     "execution_count": 116,
     "metadata": {},
     "output_type": "execute_result"
    }
   ],
   "source": [
    "shapiro(white_noise['rawWpm'])"
   ]
  },
  {
   "cell_type": "code",
   "execution_count": 117,
   "id": "15ac8af7",
   "metadata": {},
   "outputs": [
    {
     "data": {
      "text/plain": [
       "ShapiroResult(statistic=0.9230154156684875, pvalue=0.03213706240057945)"
      ]
     },
     "execution_count": 117,
     "metadata": {},
     "output_type": "execute_result"
    }
   ],
   "source": [
    "shapiro(original_song['rawWpm'])"
   ]
  },
  {
   "cell_type": "code",
   "execution_count": 118,
   "id": "bcc15d40",
   "metadata": {},
   "outputs": [
    {
     "data": {
      "text/plain": [
       "ShapiroResult(statistic=0.9285898804664612, pvalue=0.04505167156457901)"
      ]
     },
     "execution_count": 118,
     "metadata": {},
     "output_type": "execute_result"
    }
   ],
   "source": [
    "shapiro(increased_tempo['rawWpm'])  # Close to Normal cutoff"
   ]
  },
  {
   "cell_type": "markdown",
   "id": "86f061b6",
   "metadata": {},
   "source": [
    "### Accuracy"
   ]
  },
  {
   "cell_type": "code",
   "execution_count": 119,
   "id": "6b8ec1c3",
   "metadata": {
    "scrolled": false
   },
   "outputs": [
    {
     "data": {
      "text/plain": [
       "ShapiroResult(statistic=0.8958992958068848, pvalue=0.00667648296803236)"
      ]
     },
     "execution_count": 119,
     "metadata": {},
     "output_type": "execute_result"
    }
   ],
   "source": [
    "shapiro(no_music['acc'])"
   ]
  },
  {
   "cell_type": "code",
   "execution_count": 120,
   "id": "ee4baee6",
   "metadata": {
    "scrolled": true
   },
   "outputs": [
    {
     "data": {
      "text/plain": [
       "ShapiroResult(statistic=0.8647165298461914, pvalue=0.0012807386228814721)"
      ]
     },
     "execution_count": 120,
     "metadata": {},
     "output_type": "execute_result"
    }
   ],
   "source": [
    "shapiro(white_noise['acc'])"
   ]
  },
  {
   "cell_type": "code",
   "execution_count": 121,
   "id": "88326050",
   "metadata": {},
   "outputs": [
    {
     "data": {
      "text/plain": [
       "ShapiroResult(statistic=0.9341609477996826, pvalue=0.06339281797409058)"
      ]
     },
     "execution_count": 121,
     "metadata": {},
     "output_type": "execute_result"
    }
   ],
   "source": [
    "shapiro(original_song['acc']) # Normal"
   ]
  },
  {
   "cell_type": "code",
   "execution_count": 122,
   "id": "a5d66a85",
   "metadata": {
    "scrolled": true
   },
   "outputs": [
    {
     "data": {
      "text/plain": [
       "ShapiroResult(statistic=0.9341609477996826, pvalue=0.06339281797409058)"
      ]
     },
     "execution_count": 122,
     "metadata": {},
     "output_type": "execute_result"
    }
   ],
   "source": [
    "shapiro(original_song['acc']) # Normal"
   ]
  },
  {
   "cell_type": "markdown",
   "id": "3590eabe",
   "metadata": {},
   "source": [
    "### Consistency"
   ]
  },
  {
   "cell_type": "code",
   "execution_count": 123,
   "id": "5d3e4aed",
   "metadata": {
    "scrolled": false
   },
   "outputs": [
    {
     "data": {
      "text/plain": [
       "ShapiroResult(statistic=0.9174963235855103, pvalue=0.023106733337044716)"
      ]
     },
     "execution_count": 123,
     "metadata": {},
     "output_type": "execute_result"
    }
   ],
   "source": [
    "shapiro(no_music['consistency'])"
   ]
  },
  {
   "cell_type": "code",
   "execution_count": 124,
   "id": "e71202d7",
   "metadata": {
    "scrolled": true
   },
   "outputs": [
    {
     "data": {
      "text/plain": [
       "ShapiroResult(statistic=0.9211335778236389, pvalue=0.028702804818749428)"
      ]
     },
     "execution_count": 124,
     "metadata": {},
     "output_type": "execute_result"
    }
   ],
   "source": [
    "shapiro(white_noise['consistency'])"
   ]
  },
  {
   "cell_type": "code",
   "execution_count": 125,
   "id": "42704c75",
   "metadata": {},
   "outputs": [
    {
     "data": {
      "text/plain": [
       "ShapiroResult(statistic=0.9680474996566772, pvalue=0.487227201461792)"
      ]
     },
     "execution_count": 125,
     "metadata": {},
     "output_type": "execute_result"
    }
   ],
   "source": [
    "shapiro(original_song['consistency']) # Normal"
   ]
  },
  {
   "cell_type": "code",
   "execution_count": 126,
   "id": "ef140353",
   "metadata": {
    "scrolled": true
   },
   "outputs": [
    {
     "data": {
      "text/plain": [
       "ShapiroResult(statistic=0.9680474996566772, pvalue=0.487227201461792)"
      ]
     },
     "execution_count": 126,
     "metadata": {},
     "output_type": "execute_result"
    }
   ],
   "source": [
    "shapiro(original_song['consistency']) # Normal"
   ]
  },
  {
   "cell_type": "markdown",
   "id": "60087f17",
   "metadata": {},
   "source": [
    "Thus the data does not seem to follow a normal distribution for the most part."
   ]
  },
  {
   "cell_type": "markdown",
   "id": "04110144",
   "metadata": {},
   "source": [
    "## Friedman Test\n",
    "The Friedman Test is a non-parametric alternative to the Repeated Measures ANOVA. It is used to determine whether or not there is a statistically significant difference between the means of three or more groups in which the same subjects show up in each group.\n",
    "\n",
    "The Friedman Test uses the following null and alternative hypotheses:\n",
    "- The null hypothesis (H0): The mean for each population is equal.\n",
    "- The alternative hypothesis: (Ha): At least one population mean is different from the rest.\n",
    "\n",
    "If the p-value of the test is less than 0.05, we can reject the null hypothesis."
   ]
  },
  {
   "cell_type": "markdown",
   "id": "90a54e1a",
   "metadata": {},
   "source": [
    "### WPM"
   ]
  },
  {
   "cell_type": "code",
   "execution_count": 127,
   "id": "5de41aff",
   "metadata": {},
   "outputs": [
    {
     "data": {
      "text/plain": [
       "FriedmanchisquareResult(statistic=1.1739130434782767, pvalue=0.7592675978639353)"
      ]
     },
     "execution_count": 127,
     "metadata": {},
     "output_type": "execute_result"
    }
   ],
   "source": [
    "friedmanchisquare(no_music['wpm'], white_noise['wpm'], original_song['wpm'], increased_tempo['wpm'])"
   ]
  },
  {
   "cell_type": "markdown",
   "id": "2a37b86a",
   "metadata": {},
   "source": [
    "Since p-value > 0.05, we cannot reject the null hyothesis and it is likely that the mean of each population is equal"
   ]
  },
  {
   "cell_type": "markdown",
   "id": "94a6c28d",
   "metadata": {},
   "source": [
    "### Raw WPM"
   ]
  },
  {
   "cell_type": "code",
   "execution_count": 128,
   "id": "6dfdd87c",
   "metadata": {
    "scrolled": true
   },
   "outputs": [
    {
     "data": {
      "text/plain": [
       "FriedmanchisquareResult(statistic=2.1371237458193932, pvalue=0.5444389623985886)"
      ]
     },
     "execution_count": 128,
     "metadata": {},
     "output_type": "execute_result"
    }
   ],
   "source": [
    "friedmanchisquare(no_music['rawWpm'], white_noise['rawWpm'], original_song['rawWpm'], increased_tempo['rawWpm'])"
   ]
  },
  {
   "cell_type": "markdown",
   "id": "88a4e1f6",
   "metadata": {},
   "source": [
    "Since p-value > 0.05, we cannot reject the null hyothesis and it is likely that the mean of each population is equal"
   ]
  },
  {
   "cell_type": "markdown",
   "id": "46b252e7",
   "metadata": {},
   "source": [
    "### Accuracy"
   ]
  },
  {
   "cell_type": "code",
   "execution_count": 129,
   "id": "fea68adc",
   "metadata": {},
   "outputs": [
    {
     "data": {
      "text/plain": [
       "FriedmanchisquareResult(statistic=0.39130434782607326, pvalue=0.9420328972474744)"
      ]
     },
     "execution_count": 129,
     "metadata": {},
     "output_type": "execute_result"
    }
   ],
   "source": [
    "friedmanchisquare(no_music['acc'], white_noise['acc'], original_song['acc'], increased_tempo['acc'])"
   ]
  },
  {
   "cell_type": "markdown",
   "id": "9cf44f43",
   "metadata": {},
   "source": [
    "Since p-value > 0.05, we cannot reject the null hyothesis and it is likely that the mean of each population is equal"
   ]
  },
  {
   "cell_type": "markdown",
   "id": "0f36e5f9",
   "metadata": {},
   "source": [
    "Hence the test shows that the type of environment does not seem to influence the typing abilities of the participants."
   ]
  },
  {
   "cell_type": "markdown",
   "id": "2e68bf55",
   "metadata": {},
   "source": [
    "### Consistency"
   ]
  },
  {
   "cell_type": "code",
   "execution_count": 130,
   "id": "03a534f3",
   "metadata": {},
   "outputs": [
    {
     "data": {
      "text/plain": [
       "FriedmanchisquareResult(statistic=1.9600000000000364, pvalue=0.5807502222476202)"
      ]
     },
     "execution_count": 130,
     "metadata": {},
     "output_type": "execute_result"
    }
   ],
   "source": [
    "friedmanchisquare(no_music['consistency'], white_noise['consistency'], original_song['consistency'], increased_tempo['consistency'])"
   ]
  },
  {
   "cell_type": "markdown",
   "id": "0818d763",
   "metadata": {},
   "source": [
    "Here, we can see that since p-value > 0.05 in all cases, so according to the test, the means in the different groups o not differ significantly in all the conditions."
   ]
  },
  {
   "cell_type": "markdown",
   "id": "49b22955",
   "metadata": {},
   "source": [
    "## Creating two groups based on the distribution of data\n",
    "Based on the histogram, it seems that there are two peaks. To find out if the distribution is bimodal, we split the dataset into two groups, one with participants with wpm >= 60 in the no music condition of the test and other with wpm < 60."
   ]
  },
  {
   "cell_type": "code",
   "execution_count": 131,
   "id": "911544ca",
   "metadata": {},
   "outputs": [
    {
     "data": {
      "text/html": [
       "<div>\n",
       "<style scoped>\n",
       "    .dataframe tbody tr th:only-of-type {\n",
       "        vertical-align: middle;\n",
       "    }\n",
       "\n",
       "    .dataframe tbody tr th {\n",
       "        vertical-align: top;\n",
       "    }\n",
       "\n",
       "    .dataframe thead th {\n",
       "        text-align: right;\n",
       "    }\n",
       "</style>\n",
       "<table border=\"1\" class=\"dataframe\">\n",
       "  <thead>\n",
       "    <tr style=\"text-align: right;\">\n",
       "      <th></th>\n",
       "      <th>_id</th>\n",
       "      <th>isPb</th>\n",
       "      <th>wpm</th>\n",
       "      <th>acc</th>\n",
       "      <th>rawWpm</th>\n",
       "      <th>consistency</th>\n",
       "      <th>charStats</th>\n",
       "      <th>mode</th>\n",
       "      <th>mode2</th>\n",
       "      <th>quoteLength</th>\n",
       "      <th>...</th>\n",
       "      <th>punctuation</th>\n",
       "      <th>numbers</th>\n",
       "      <th>language</th>\n",
       "      <th>funbox</th>\n",
       "      <th>difficulty</th>\n",
       "      <th>lazyMode</th>\n",
       "      <th>blindMode</th>\n",
       "      <th>bailedOut</th>\n",
       "      <th>tags</th>\n",
       "      <th>timestamp</th>\n",
       "    </tr>\n",
       "  </thead>\n",
       "  <tbody>\n",
       "    <tr>\n",
       "      <th>0</th>\n",
       "      <td>643bff54b32f409c529023e8</td>\n",
       "      <td>NaN</td>\n",
       "      <td>55.13</td>\n",
       "      <td>96.49</td>\n",
       "      <td>57.86</td>\n",
       "      <td>70.42</td>\n",
       "      <td>827,11,2,0</td>\n",
       "      <td>time</td>\n",
       "      <td>180</td>\n",
       "      <td>-1</td>\n",
       "      <td>...</td>\n",
       "      <td>False</td>\n",
       "      <td>False</td>\n",
       "      <td>english</td>\n",
       "      <td>none</td>\n",
       "      <td>normal</td>\n",
       "      <td>False</td>\n",
       "      <td>False</td>\n",
       "      <td>False</td>\n",
       "      <td>NaN</td>\n",
       "      <td>1681653588000</td>\n",
       "    </tr>\n",
       "    <tr>\n",
       "      <th>1</th>\n",
       "      <td>643bf72fb32f409c5283d176</td>\n",
       "      <td>NaN</td>\n",
       "      <td>47.60</td>\n",
       "      <td>88.57</td>\n",
       "      <td>56.00</td>\n",
       "      <td>63.04</td>\n",
       "      <td>714,42,7,7</td>\n",
       "      <td>time</td>\n",
       "      <td>180</td>\n",
       "      <td>-1</td>\n",
       "      <td>...</td>\n",
       "      <td>False</td>\n",
       "      <td>False</td>\n",
       "      <td>english</td>\n",
       "      <td>none</td>\n",
       "      <td>normal</td>\n",
       "      <td>False</td>\n",
       "      <td>False</td>\n",
       "      <td>False</td>\n",
       "      <td>NaN</td>\n",
       "      <td>1681651503000</td>\n",
       "    </tr>\n",
       "    <tr>\n",
       "      <th>3</th>\n",
       "      <td>643bf04ab32f409c52778b57</td>\n",
       "      <td>NaN</td>\n",
       "      <td>55.86</td>\n",
       "      <td>94.63</td>\n",
       "      <td>56.20</td>\n",
       "      <td>70.22</td>\n",
       "      <td>838,0,0,1</td>\n",
       "      <td>time</td>\n",
       "      <td>180</td>\n",
       "      <td>-1</td>\n",
       "      <td>...</td>\n",
       "      <td>False</td>\n",
       "      <td>False</td>\n",
       "      <td>english</td>\n",
       "      <td>none</td>\n",
       "      <td>normal</td>\n",
       "      <td>False</td>\n",
       "      <td>False</td>\n",
       "      <td>False</td>\n",
       "      <td>NaN</td>\n",
       "      <td>1681649738000</td>\n",
       "    </tr>\n",
       "    <tr>\n",
       "      <th>5</th>\n",
       "      <td>643bdaabb32f409c5252b8e5</td>\n",
       "      <td>NaN</td>\n",
       "      <td>33.93</td>\n",
       "      <td>94.08</td>\n",
       "      <td>35.40</td>\n",
       "      <td>45.41</td>\n",
       "      <td>509,4,2,2</td>\n",
       "      <td>time</td>\n",
       "      <td>180</td>\n",
       "      <td>-1</td>\n",
       "      <td>...</td>\n",
       "      <td>False</td>\n",
       "      <td>False</td>\n",
       "      <td>english</td>\n",
       "      <td>none</td>\n",
       "      <td>normal</td>\n",
       "      <td>False</td>\n",
       "      <td>False</td>\n",
       "      <td>False</td>\n",
       "      <td>NaN</td>\n",
       "      <td>1681644203000</td>\n",
       "    </tr>\n",
       "    <tr>\n",
       "      <th>7</th>\n",
       "      <td>643af1b7b32f409c52bf4f26</td>\n",
       "      <td>NaN</td>\n",
       "      <td>41.40</td>\n",
       "      <td>94.85</td>\n",
       "      <td>43.80</td>\n",
       "      <td>58.93</td>\n",
       "      <td>621,10,3,4</td>\n",
       "      <td>time</td>\n",
       "      <td>180</td>\n",
       "      <td>-1</td>\n",
       "      <td>...</td>\n",
       "      <td>False</td>\n",
       "      <td>False</td>\n",
       "      <td>english</td>\n",
       "      <td>none</td>\n",
       "      <td>normal</td>\n",
       "      <td>False</td>\n",
       "      <td>False</td>\n",
       "      <td>False</td>\n",
       "      <td>NaN</td>\n",
       "      <td>1681584567000</td>\n",
       "    </tr>\n",
       "    <tr>\n",
       "      <th>9</th>\n",
       "      <td>643aee3db32f409c52b92f12</td>\n",
       "      <td>NaN</td>\n",
       "      <td>36.06</td>\n",
       "      <td>86.03</td>\n",
       "      <td>40.20</td>\n",
       "      <td>65.02</td>\n",
       "      <td>541,15,3,0</td>\n",
       "      <td>time</td>\n",
       "      <td>180</td>\n",
       "      <td>-1</td>\n",
       "      <td>...</td>\n",
       "      <td>False</td>\n",
       "      <td>False</td>\n",
       "      <td>english</td>\n",
       "      <td>none</td>\n",
       "      <td>normal</td>\n",
       "      <td>False</td>\n",
       "      <td>False</td>\n",
       "      <td>False</td>\n",
       "      <td>NaN</td>\n",
       "      <td>1681583677000</td>\n",
       "    </tr>\n",
       "    <tr>\n",
       "      <th>10</th>\n",
       "      <td>643aea7fb32f409c52b30b30</td>\n",
       "      <td>NaN</td>\n",
       "      <td>51.33</td>\n",
       "      <td>91.91</td>\n",
       "      <td>56.26</td>\n",
       "      <td>69.60</td>\n",
       "      <td>770,29,10,3</td>\n",
       "      <td>time</td>\n",
       "      <td>180</td>\n",
       "      <td>-1</td>\n",
       "      <td>...</td>\n",
       "      <td>False</td>\n",
       "      <td>False</td>\n",
       "      <td>english</td>\n",
       "      <td>none</td>\n",
       "      <td>normal</td>\n",
       "      <td>False</td>\n",
       "      <td>False</td>\n",
       "      <td>False</td>\n",
       "      <td>NaN</td>\n",
       "      <td>1681582719000</td>\n",
       "    </tr>\n",
       "    <tr>\n",
       "      <th>11</th>\n",
       "      <td>643ae174b32f409c52a0afc4</td>\n",
       "      <td>NaN</td>\n",
       "      <td>45.73</td>\n",
       "      <td>97.59</td>\n",
       "      <td>45.73</td>\n",
       "      <td>62.73</td>\n",
       "      <td>686,0,0,0</td>\n",
       "      <td>time</td>\n",
       "      <td>180</td>\n",
       "      <td>-1</td>\n",
       "      <td>...</td>\n",
       "      <td>False</td>\n",
       "      <td>False</td>\n",
       "      <td>english</td>\n",
       "      <td>none</td>\n",
       "      <td>normal</td>\n",
       "      <td>False</td>\n",
       "      <td>False</td>\n",
       "      <td>False</td>\n",
       "      <td>NaN</td>\n",
       "      <td>1681580404000</td>\n",
       "    </tr>\n",
       "    <tr>\n",
       "      <th>13</th>\n",
       "      <td>643ad23eb32f409c52881857</td>\n",
       "      <td>NaN</td>\n",
       "      <td>45.00</td>\n",
       "      <td>92.89</td>\n",
       "      <td>45.26</td>\n",
       "      <td>64.22</td>\n",
       "      <td>675,3,0,1</td>\n",
       "      <td>time</td>\n",
       "      <td>180</td>\n",
       "      <td>-1</td>\n",
       "      <td>...</td>\n",
       "      <td>False</td>\n",
       "      <td>False</td>\n",
       "      <td>english</td>\n",
       "      <td>none</td>\n",
       "      <td>normal</td>\n",
       "      <td>False</td>\n",
       "      <td>False</td>\n",
       "      <td>False</td>\n",
       "      <td>NaN</td>\n",
       "      <td>1681576510000</td>\n",
       "    </tr>\n",
       "    <tr>\n",
       "      <th>15</th>\n",
       "      <td>643abf4fb32f409c52634e6b</td>\n",
       "      <td>NaN</td>\n",
       "      <td>32.87</td>\n",
       "      <td>99.00</td>\n",
       "      <td>32.87</td>\n",
       "      <td>60.23</td>\n",
       "      <td>493,0,0,0</td>\n",
       "      <td>time</td>\n",
       "      <td>180</td>\n",
       "      <td>-1</td>\n",
       "      <td>...</td>\n",
       "      <td>False</td>\n",
       "      <td>False</td>\n",
       "      <td>english</td>\n",
       "      <td>none</td>\n",
       "      <td>normal</td>\n",
       "      <td>False</td>\n",
       "      <td>False</td>\n",
       "      <td>False</td>\n",
       "      <td>NaN</td>\n",
       "      <td>1681571663000</td>\n",
       "    </tr>\n",
       "    <tr>\n",
       "      <th>17</th>\n",
       "      <td>643a9c77b32f409c522bf697</td>\n",
       "      <td>NaN</td>\n",
       "      <td>42.40</td>\n",
       "      <td>92.40</td>\n",
       "      <td>48.47</td>\n",
       "      <td>67.17</td>\n",
       "      <td>636,19,11,2</td>\n",
       "      <td>time</td>\n",
       "      <td>180</td>\n",
       "      <td>-1</td>\n",
       "      <td>...</td>\n",
       "      <td>False</td>\n",
       "      <td>False</td>\n",
       "      <td>english</td>\n",
       "      <td>none</td>\n",
       "      <td>normal</td>\n",
       "      <td>False</td>\n",
       "      <td>False</td>\n",
       "      <td>False</td>\n",
       "      <td>NaN</td>\n",
       "      <td>1681562743000</td>\n",
       "    </tr>\n",
       "    <tr>\n",
       "      <th>20</th>\n",
       "      <td>643a8d6eb32f409c520d6743</td>\n",
       "      <td>NaN</td>\n",
       "      <td>49.13</td>\n",
       "      <td>92.42</td>\n",
       "      <td>49.66</td>\n",
       "      <td>61.33</td>\n",
       "      <td>737,3,1,2</td>\n",
       "      <td>time</td>\n",
       "      <td>180</td>\n",
       "      <td>-1</td>\n",
       "      <td>...</td>\n",
       "      <td>False</td>\n",
       "      <td>False</td>\n",
       "      <td>english</td>\n",
       "      <td>none</td>\n",
       "      <td>normal</td>\n",
       "      <td>False</td>\n",
       "      <td>False</td>\n",
       "      <td>False</td>\n",
       "      <td>NaN</td>\n",
       "      <td>1681558894000</td>\n",
       "    </tr>\n",
       "    <tr>\n",
       "      <th>22</th>\n",
       "      <td>6439b116b32f409c529271c6</td>\n",
       "      <td>NaN</td>\n",
       "      <td>49.40</td>\n",
       "      <td>83.23</td>\n",
       "      <td>51.33</td>\n",
       "      <td>54.28</td>\n",
       "      <td>741,4,2,3</td>\n",
       "      <td>time</td>\n",
       "      <td>180</td>\n",
       "      <td>-1</td>\n",
       "      <td>...</td>\n",
       "      <td>False</td>\n",
       "      <td>False</td>\n",
       "      <td>english</td>\n",
       "      <td>none</td>\n",
       "      <td>normal</td>\n",
       "      <td>False</td>\n",
       "      <td>False</td>\n",
       "      <td>False</td>\n",
       "      <td>NaN</td>\n",
       "      <td>1681502486000</td>\n",
       "    </tr>\n",
       "    <tr>\n",
       "      <th>23</th>\n",
       "      <td>6439acd6b32f409c528639f2</td>\n",
       "      <td>NaN</td>\n",
       "      <td>32.86</td>\n",
       "      <td>89.93</td>\n",
       "      <td>35.13</td>\n",
       "      <td>61.27</td>\n",
       "      <td>493,7,0,1</td>\n",
       "      <td>time</td>\n",
       "      <td>180</td>\n",
       "      <td>-1</td>\n",
       "      <td>...</td>\n",
       "      <td>False</td>\n",
       "      <td>False</td>\n",
       "      <td>english</td>\n",
       "      <td>none</td>\n",
       "      <td>normal</td>\n",
       "      <td>False</td>\n",
       "      <td>False</td>\n",
       "      <td>False</td>\n",
       "      <td>NaN</td>\n",
       "      <td>1681501398000</td>\n",
       "    </tr>\n",
       "    <tr>\n",
       "      <th>26</th>\n",
       "      <td>64399799b32f409c52612adf</td>\n",
       "      <td>NaN</td>\n",
       "      <td>32.40</td>\n",
       "      <td>96.07</td>\n",
       "      <td>35.66</td>\n",
       "      <td>57.71</td>\n",
       "      <td>486,11,1,0</td>\n",
       "      <td>time</td>\n",
       "      <td>180</td>\n",
       "      <td>-1</td>\n",
       "      <td>...</td>\n",
       "      <td>False</td>\n",
       "      <td>False</td>\n",
       "      <td>english</td>\n",
       "      <td>none</td>\n",
       "      <td>normal</td>\n",
       "      <td>False</td>\n",
       "      <td>False</td>\n",
       "      <td>False</td>\n",
       "      <td>NaN</td>\n",
       "      <td>1681495961000</td>\n",
       "    </tr>\n",
       "    <tr>\n",
       "      <th>28</th>\n",
       "      <td>64398e29b32f409c5254a7df</td>\n",
       "      <td>True</td>\n",
       "      <td>43.86</td>\n",
       "      <td>92.37</td>\n",
       "      <td>43.86</td>\n",
       "      <td>60.42</td>\n",
       "      <td>658,0,0,0</td>\n",
       "      <td>time</td>\n",
       "      <td>180</td>\n",
       "      <td>-1</td>\n",
       "      <td>...</td>\n",
       "      <td>False</td>\n",
       "      <td>False</td>\n",
       "      <td>english</td>\n",
       "      <td>none</td>\n",
       "      <td>normal</td>\n",
       "      <td>False</td>\n",
       "      <td>False</td>\n",
       "      <td>False</td>\n",
       "      <td>NaN</td>\n",
       "      <td>1681493545000</td>\n",
       "    </tr>\n",
       "    <tr>\n",
       "      <th>29</th>\n",
       "      <td>64398759b32f409c52484283</td>\n",
       "      <td>True</td>\n",
       "      <td>42.46</td>\n",
       "      <td>82.88</td>\n",
       "      <td>42.93</td>\n",
       "      <td>58.32</td>\n",
       "      <td>637,0,0,1</td>\n",
       "      <td>time</td>\n",
       "      <td>180</td>\n",
       "      <td>-1</td>\n",
       "      <td>...</td>\n",
       "      <td>False</td>\n",
       "      <td>False</td>\n",
       "      <td>english</td>\n",
       "      <td>none</td>\n",
       "      <td>normal</td>\n",
       "      <td>False</td>\n",
       "      <td>False</td>\n",
       "      <td>False</td>\n",
       "      <td>NaN</td>\n",
       "      <td>1681491801000</td>\n",
       "    </tr>\n",
       "  </tbody>\n",
       "</table>\n",
       "<p>17 rows × 24 columns</p>\n",
       "</div>"
      ],
      "text/plain": [
       "                         _id  isPb    wpm    acc  rawWpm  consistency  \\\n",
       "0   643bff54b32f409c529023e8   NaN  55.13  96.49   57.86        70.42   \n",
       "1   643bf72fb32f409c5283d176   NaN  47.60  88.57   56.00        63.04   \n",
       "3   643bf04ab32f409c52778b57   NaN  55.86  94.63   56.20        70.22   \n",
       "5   643bdaabb32f409c5252b8e5   NaN  33.93  94.08   35.40        45.41   \n",
       "7   643af1b7b32f409c52bf4f26   NaN  41.40  94.85   43.80        58.93   \n",
       "9   643aee3db32f409c52b92f12   NaN  36.06  86.03   40.20        65.02   \n",
       "10  643aea7fb32f409c52b30b30   NaN  51.33  91.91   56.26        69.60   \n",
       "11  643ae174b32f409c52a0afc4   NaN  45.73  97.59   45.73        62.73   \n",
       "13  643ad23eb32f409c52881857   NaN  45.00  92.89   45.26        64.22   \n",
       "15  643abf4fb32f409c52634e6b   NaN  32.87  99.00   32.87        60.23   \n",
       "17  643a9c77b32f409c522bf697   NaN  42.40  92.40   48.47        67.17   \n",
       "20  643a8d6eb32f409c520d6743   NaN  49.13  92.42   49.66        61.33   \n",
       "22  6439b116b32f409c529271c6   NaN  49.40  83.23   51.33        54.28   \n",
       "23  6439acd6b32f409c528639f2   NaN  32.86  89.93   35.13        61.27   \n",
       "26  64399799b32f409c52612adf   NaN  32.40  96.07   35.66        57.71   \n",
       "28  64398e29b32f409c5254a7df  True  43.86  92.37   43.86        60.42   \n",
       "29  64398759b32f409c52484283  True  42.46  82.88   42.93        58.32   \n",
       "\n",
       "      charStats  mode  mode2  quoteLength  ...  punctuation  numbers  \\\n",
       "0    827,11,2,0  time    180           -1  ...        False    False   \n",
       "1    714,42,7,7  time    180           -1  ...        False    False   \n",
       "3     838,0,0,1  time    180           -1  ...        False    False   \n",
       "5     509,4,2,2  time    180           -1  ...        False    False   \n",
       "7    621,10,3,4  time    180           -1  ...        False    False   \n",
       "9    541,15,3,0  time    180           -1  ...        False    False   \n",
       "10  770,29,10,3  time    180           -1  ...        False    False   \n",
       "11    686,0,0,0  time    180           -1  ...        False    False   \n",
       "13    675,3,0,1  time    180           -1  ...        False    False   \n",
       "15    493,0,0,0  time    180           -1  ...        False    False   \n",
       "17  636,19,11,2  time    180           -1  ...        False    False   \n",
       "20    737,3,1,2  time    180           -1  ...        False    False   \n",
       "22    741,4,2,3  time    180           -1  ...        False    False   \n",
       "23    493,7,0,1  time    180           -1  ...        False    False   \n",
       "26   486,11,1,0  time    180           -1  ...        False    False   \n",
       "28    658,0,0,0  time    180           -1  ...        False    False   \n",
       "29    637,0,0,1  time    180           -1  ...        False    False   \n",
       "\n",
       "    language  funbox  difficulty  lazyMode blindMode bailedOut tags  \\\n",
       "0    english    none      normal     False     False     False  NaN   \n",
       "1    english    none      normal     False     False     False  NaN   \n",
       "3    english    none      normal     False     False     False  NaN   \n",
       "5    english    none      normal     False     False     False  NaN   \n",
       "7    english    none      normal     False     False     False  NaN   \n",
       "9    english    none      normal     False     False     False  NaN   \n",
       "10   english    none      normal     False     False     False  NaN   \n",
       "11   english    none      normal     False     False     False  NaN   \n",
       "13   english    none      normal     False     False     False  NaN   \n",
       "15   english    none      normal     False     False     False  NaN   \n",
       "17   english    none      normal     False     False     False  NaN   \n",
       "20   english    none      normal     False     False     False  NaN   \n",
       "22   english    none      normal     False     False     False  NaN   \n",
       "23   english    none      normal     False     False     False  NaN   \n",
       "26   english    none      normal     False     False     False  NaN   \n",
       "28   english    none      normal     False     False     False  NaN   \n",
       "29   english    none      normal     False     False     False  NaN   \n",
       "\n",
       "        timestamp  \n",
       "0   1681653588000  \n",
       "1   1681651503000  \n",
       "3   1681649738000  \n",
       "5   1681644203000  \n",
       "7   1681584567000  \n",
       "9   1681583677000  \n",
       "10  1681582719000  \n",
       "11  1681580404000  \n",
       "13  1681576510000  \n",
       "15  1681571663000  \n",
       "17  1681562743000  \n",
       "20  1681558894000  \n",
       "22  1681502486000  \n",
       "23  1681501398000  \n",
       "26  1681495961000  \n",
       "28  1681493545000  \n",
       "29  1681491801000  \n",
       "\n",
       "[17 rows x 24 columns]"
      ]
     },
     "execution_count": 131,
     "metadata": {},
     "output_type": "execute_result"
    }
   ],
   "source": [
    "no_music_noobs = no_music[(no_music['wpm']<60)]\n",
    "no_music_noobs"
   ]
  },
  {
   "cell_type": "code",
   "execution_count": 132,
   "id": "96e80fa1",
   "metadata": {},
   "outputs": [
    {
     "data": {
      "text/html": [
       "<div>\n",
       "<style scoped>\n",
       "    .dataframe tbody tr th:only-of-type {\n",
       "        vertical-align: middle;\n",
       "    }\n",
       "\n",
       "    .dataframe tbody tr th {\n",
       "        vertical-align: top;\n",
       "    }\n",
       "\n",
       "    .dataframe thead th {\n",
       "        text-align: right;\n",
       "    }\n",
       "</style>\n",
       "<table border=\"1\" class=\"dataframe\">\n",
       "  <thead>\n",
       "    <tr style=\"text-align: right;\">\n",
       "      <th></th>\n",
       "      <th>_id</th>\n",
       "      <th>isPb</th>\n",
       "      <th>wpm</th>\n",
       "      <th>acc</th>\n",
       "      <th>rawWpm</th>\n",
       "      <th>consistency</th>\n",
       "      <th>charStats</th>\n",
       "      <th>mode</th>\n",
       "      <th>mode2</th>\n",
       "      <th>quoteLength</th>\n",
       "      <th>...</th>\n",
       "      <th>punctuation</th>\n",
       "      <th>numbers</th>\n",
       "      <th>language</th>\n",
       "      <th>funbox</th>\n",
       "      <th>difficulty</th>\n",
       "      <th>lazyMode</th>\n",
       "      <th>blindMode</th>\n",
       "      <th>bailedOut</th>\n",
       "      <th>tags</th>\n",
       "      <th>timestamp</th>\n",
       "    </tr>\n",
       "  </thead>\n",
       "  <tbody>\n",
       "    <tr>\n",
       "      <th>2</th>\n",
       "      <td>643bf578b32f409c5283c493</td>\n",
       "      <td>NaN</td>\n",
       "      <td>65.33</td>\n",
       "      <td>94.64</td>\n",
       "      <td>65.33</td>\n",
       "      <td>69.14</td>\n",
       "      <td>980,0,0,0</td>\n",
       "      <td>time</td>\n",
       "      <td>180</td>\n",
       "      <td>-1</td>\n",
       "      <td>...</td>\n",
       "      <td>False</td>\n",
       "      <td>False</td>\n",
       "      <td>english</td>\n",
       "      <td>none</td>\n",
       "      <td>normal</td>\n",
       "      <td>False</td>\n",
       "      <td>False</td>\n",
       "      <td>False</td>\n",
       "      <td>NaN</td>\n",
       "      <td>1681651064000</td>\n",
       "    </tr>\n",
       "    <tr>\n",
       "      <th>4</th>\n",
       "      <td>643bdca5b32f409c5258ced9</td>\n",
       "      <td>NaN</td>\n",
       "      <td>76.53</td>\n",
       "      <td>91.80</td>\n",
       "      <td>76.80</td>\n",
       "      <td>60.79</td>\n",
       "      <td>1148,2,0,1</td>\n",
       "      <td>time</td>\n",
       "      <td>180</td>\n",
       "      <td>-1</td>\n",
       "      <td>...</td>\n",
       "      <td>False</td>\n",
       "      <td>False</td>\n",
       "      <td>english</td>\n",
       "      <td>none</td>\n",
       "      <td>normal</td>\n",
       "      <td>False</td>\n",
       "      <td>False</td>\n",
       "      <td>False</td>\n",
       "      <td>NaN</td>\n",
       "      <td>1681644709000</td>\n",
       "    </tr>\n",
       "    <tr>\n",
       "      <th>6</th>\n",
       "      <td>643afd83b32f409c52d1b5f7</td>\n",
       "      <td>NaN</td>\n",
       "      <td>76.20</td>\n",
       "      <td>96.00</td>\n",
       "      <td>76.20</td>\n",
       "      <td>70.59</td>\n",
       "      <td>1143,0,0,0</td>\n",
       "      <td>time</td>\n",
       "      <td>180</td>\n",
       "      <td>-1</td>\n",
       "      <td>...</td>\n",
       "      <td>False</td>\n",
       "      <td>False</td>\n",
       "      <td>english</td>\n",
       "      <td>none</td>\n",
       "      <td>normal</td>\n",
       "      <td>False</td>\n",
       "      <td>False</td>\n",
       "      <td>False</td>\n",
       "      <td>NaN</td>\n",
       "      <td>1681587587000</td>\n",
       "    </tr>\n",
       "    <tr>\n",
       "      <th>8</th>\n",
       "      <td>643af025b32f409c52b93bc9</td>\n",
       "      <td>NaN</td>\n",
       "      <td>72.27</td>\n",
       "      <td>93.81</td>\n",
       "      <td>72.27</td>\n",
       "      <td>64.06</td>\n",
       "      <td>1084,0,0,0</td>\n",
       "      <td>time</td>\n",
       "      <td>180</td>\n",
       "      <td>-1</td>\n",
       "      <td>...</td>\n",
       "      <td>False</td>\n",
       "      <td>False</td>\n",
       "      <td>english</td>\n",
       "      <td>none</td>\n",
       "      <td>normal</td>\n",
       "      <td>False</td>\n",
       "      <td>False</td>\n",
       "      <td>False</td>\n",
       "      <td>NaN</td>\n",
       "      <td>1681584165000</td>\n",
       "    </tr>\n",
       "    <tr>\n",
       "      <th>12</th>\n",
       "      <td>643ad449b32f409c52882751</td>\n",
       "      <td>NaN</td>\n",
       "      <td>83.33</td>\n",
       "      <td>94.31</td>\n",
       "      <td>87.13</td>\n",
       "      <td>69.58</td>\n",
       "      <td>1250,23,5,1</td>\n",
       "      <td>time</td>\n",
       "      <td>180</td>\n",
       "      <td>-1</td>\n",
       "      <td>...</td>\n",
       "      <td>False</td>\n",
       "      <td>False</td>\n",
       "      <td>english</td>\n",
       "      <td>none</td>\n",
       "      <td>normal</td>\n",
       "      <td>False</td>\n",
       "      <td>False</td>\n",
       "      <td>False</td>\n",
       "      <td>NaN</td>\n",
       "      <td>1681577033000</td>\n",
       "    </tr>\n",
       "    <tr>\n",
       "      <th>14</th>\n",
       "      <td>643ac832b32f409c5275b18f</td>\n",
       "      <td>NaN</td>\n",
       "      <td>78.40</td>\n",
       "      <td>94.13</td>\n",
       "      <td>78.40</td>\n",
       "      <td>70.00</td>\n",
       "      <td>1176,0,0,0</td>\n",
       "      <td>time</td>\n",
       "      <td>180</td>\n",
       "      <td>-1</td>\n",
       "      <td>...</td>\n",
       "      <td>False</td>\n",
       "      <td>False</td>\n",
       "      <td>english</td>\n",
       "      <td>none</td>\n",
       "      <td>normal</td>\n",
       "      <td>False</td>\n",
       "      <td>False</td>\n",
       "      <td>False</td>\n",
       "      <td>NaN</td>\n",
       "      <td>1681573938000</td>\n",
       "    </tr>\n",
       "    <tr>\n",
       "      <th>16</th>\n",
       "      <td>643ab8a4b32f409c525d105c</td>\n",
       "      <td>NaN</td>\n",
       "      <td>64.80</td>\n",
       "      <td>93.72</td>\n",
       "      <td>74.46</td>\n",
       "      <td>71.55</td>\n",
       "      <td>972,30,2,8</td>\n",
       "      <td>time</td>\n",
       "      <td>180</td>\n",
       "      <td>-1</td>\n",
       "      <td>...</td>\n",
       "      <td>False</td>\n",
       "      <td>False</td>\n",
       "      <td>english</td>\n",
       "      <td>none</td>\n",
       "      <td>normal</td>\n",
       "      <td>False</td>\n",
       "      <td>False</td>\n",
       "      <td>False</td>\n",
       "      <td>NaN</td>\n",
       "      <td>1681569956000</td>\n",
       "    </tr>\n",
       "    <tr>\n",
       "      <th>18</th>\n",
       "      <td>643a97bab32f409c521fc3cf</td>\n",
       "      <td>True</td>\n",
       "      <td>83.53</td>\n",
       "      <td>94.47</td>\n",
       "      <td>86.00</td>\n",
       "      <td>68.63</td>\n",
       "      <td>1253,7,1,5</td>\n",
       "      <td>time</td>\n",
       "      <td>180</td>\n",
       "      <td>-1</td>\n",
       "      <td>...</td>\n",
       "      <td>False</td>\n",
       "      <td>False</td>\n",
       "      <td>english</td>\n",
       "      <td>none</td>\n",
       "      <td>normal</td>\n",
       "      <td>False</td>\n",
       "      <td>False</td>\n",
       "      <td>False</td>\n",
       "      <td>NaN</td>\n",
       "      <td>1681561530000</td>\n",
       "    </tr>\n",
       "    <tr>\n",
       "      <th>19</th>\n",
       "      <td>643a9062b32f409c52138305</td>\n",
       "      <td>NaN</td>\n",
       "      <td>78.47</td>\n",
       "      <td>90.74</td>\n",
       "      <td>86.67</td>\n",
       "      <td>72.04</td>\n",
       "      <td>1177,42,10,3</td>\n",
       "      <td>time</td>\n",
       "      <td>180</td>\n",
       "      <td>-1</td>\n",
       "      <td>...</td>\n",
       "      <td>False</td>\n",
       "      <td>False</td>\n",
       "      <td>english</td>\n",
       "      <td>none</td>\n",
       "      <td>normal</td>\n",
       "      <td>False</td>\n",
       "      <td>False</td>\n",
       "      <td>False</td>\n",
       "      <td>NaN</td>\n",
       "      <td>1681559650000</td>\n",
       "    </tr>\n",
       "    <tr>\n",
       "      <th>21</th>\n",
       "      <td>643a859bb32f409c52012534</td>\n",
       "      <td>NaN</td>\n",
       "      <td>80.27</td>\n",
       "      <td>95.45</td>\n",
       "      <td>82.67</td>\n",
       "      <td>75.06</td>\n",
       "      <td>1204,16,2,1</td>\n",
       "      <td>time</td>\n",
       "      <td>180</td>\n",
       "      <td>-1</td>\n",
       "      <td>...</td>\n",
       "      <td>False</td>\n",
       "      <td>False</td>\n",
       "      <td>english</td>\n",
       "      <td>none</td>\n",
       "      <td>normal</td>\n",
       "      <td>False</td>\n",
       "      <td>False</td>\n",
       "      <td>False</td>\n",
       "      <td>NaN</td>\n",
       "      <td>1681556891000</td>\n",
       "    </tr>\n",
       "    <tr>\n",
       "      <th>24</th>\n",
       "      <td>6439a433b32f409c5279d7ad</td>\n",
       "      <td>NaN</td>\n",
       "      <td>60.26</td>\n",
       "      <td>91.58</td>\n",
       "      <td>66.06</td>\n",
       "      <td>69.36</td>\n",
       "      <td>904,29,11,1</td>\n",
       "      <td>time</td>\n",
       "      <td>180</td>\n",
       "      <td>-1</td>\n",
       "      <td>...</td>\n",
       "      <td>False</td>\n",
       "      <td>False</td>\n",
       "      <td>english</td>\n",
       "      <td>none</td>\n",
       "      <td>normal</td>\n",
       "      <td>False</td>\n",
       "      <td>False</td>\n",
       "      <td>False</td>\n",
       "      <td>NaN</td>\n",
       "      <td>1681499187000</td>\n",
       "    </tr>\n",
       "    <tr>\n",
       "      <th>25</th>\n",
       "      <td>6439a0afb32f409c5273aa34</td>\n",
       "      <td>NaN</td>\n",
       "      <td>76.73</td>\n",
       "      <td>92.83</td>\n",
       "      <td>81.86</td>\n",
       "      <td>69.62</td>\n",
       "      <td>1151,22,6,0</td>\n",
       "      <td>time</td>\n",
       "      <td>180</td>\n",
       "      <td>-1</td>\n",
       "      <td>...</td>\n",
       "      <td>False</td>\n",
       "      <td>False</td>\n",
       "      <td>english</td>\n",
       "      <td>none</td>\n",
       "      <td>normal</td>\n",
       "      <td>False</td>\n",
       "      <td>False</td>\n",
       "      <td>False</td>\n",
       "      <td>NaN</td>\n",
       "      <td>1681498287000</td>\n",
       "    </tr>\n",
       "    <tr>\n",
       "      <th>27</th>\n",
       "      <td>643992d2b32f409c525ae88c</td>\n",
       "      <td>True</td>\n",
       "      <td>81.79</td>\n",
       "      <td>92.60</td>\n",
       "      <td>83.59</td>\n",
       "      <td>68.53</td>\n",
       "      <td>1227,7,3,0</td>\n",
       "      <td>time</td>\n",
       "      <td>180</td>\n",
       "      <td>-1</td>\n",
       "      <td>...</td>\n",
       "      <td>False</td>\n",
       "      <td>False</td>\n",
       "      <td>english</td>\n",
       "      <td>none</td>\n",
       "      <td>normal</td>\n",
       "      <td>False</td>\n",
       "      <td>False</td>\n",
       "      <td>False</td>\n",
       "      <td>NaN</td>\n",
       "      <td>1681494738000</td>\n",
       "    </tr>\n",
       "  </tbody>\n",
       "</table>\n",
       "<p>13 rows × 24 columns</p>\n",
       "</div>"
      ],
      "text/plain": [
       "                         _id  isPb    wpm    acc  rawWpm  consistency  \\\n",
       "2   643bf578b32f409c5283c493   NaN  65.33  94.64   65.33        69.14   \n",
       "4   643bdca5b32f409c5258ced9   NaN  76.53  91.80   76.80        60.79   \n",
       "6   643afd83b32f409c52d1b5f7   NaN  76.20  96.00   76.20        70.59   \n",
       "8   643af025b32f409c52b93bc9   NaN  72.27  93.81   72.27        64.06   \n",
       "12  643ad449b32f409c52882751   NaN  83.33  94.31   87.13        69.58   \n",
       "14  643ac832b32f409c5275b18f   NaN  78.40  94.13   78.40        70.00   \n",
       "16  643ab8a4b32f409c525d105c   NaN  64.80  93.72   74.46        71.55   \n",
       "18  643a97bab32f409c521fc3cf  True  83.53  94.47   86.00        68.63   \n",
       "19  643a9062b32f409c52138305   NaN  78.47  90.74   86.67        72.04   \n",
       "21  643a859bb32f409c52012534   NaN  80.27  95.45   82.67        75.06   \n",
       "24  6439a433b32f409c5279d7ad   NaN  60.26  91.58   66.06        69.36   \n",
       "25  6439a0afb32f409c5273aa34   NaN  76.73  92.83   81.86        69.62   \n",
       "27  643992d2b32f409c525ae88c  True  81.79  92.60   83.59        68.53   \n",
       "\n",
       "       charStats  mode  mode2  quoteLength  ...  punctuation  numbers  \\\n",
       "2      980,0,0,0  time    180           -1  ...        False    False   \n",
       "4     1148,2,0,1  time    180           -1  ...        False    False   \n",
       "6     1143,0,0,0  time    180           -1  ...        False    False   \n",
       "8     1084,0,0,0  time    180           -1  ...        False    False   \n",
       "12   1250,23,5,1  time    180           -1  ...        False    False   \n",
       "14    1176,0,0,0  time    180           -1  ...        False    False   \n",
       "16    972,30,2,8  time    180           -1  ...        False    False   \n",
       "18    1253,7,1,5  time    180           -1  ...        False    False   \n",
       "19  1177,42,10,3  time    180           -1  ...        False    False   \n",
       "21   1204,16,2,1  time    180           -1  ...        False    False   \n",
       "24   904,29,11,1  time    180           -1  ...        False    False   \n",
       "25   1151,22,6,0  time    180           -1  ...        False    False   \n",
       "27    1227,7,3,0  time    180           -1  ...        False    False   \n",
       "\n",
       "    language  funbox  difficulty  lazyMode blindMode bailedOut tags  \\\n",
       "2    english    none      normal     False     False     False  NaN   \n",
       "4    english    none      normal     False     False     False  NaN   \n",
       "6    english    none      normal     False     False     False  NaN   \n",
       "8    english    none      normal     False     False     False  NaN   \n",
       "12   english    none      normal     False     False     False  NaN   \n",
       "14   english    none      normal     False     False     False  NaN   \n",
       "16   english    none      normal     False     False     False  NaN   \n",
       "18   english    none      normal     False     False     False  NaN   \n",
       "19   english    none      normal     False     False     False  NaN   \n",
       "21   english    none      normal     False     False     False  NaN   \n",
       "24   english    none      normal     False     False     False  NaN   \n",
       "25   english    none      normal     False     False     False  NaN   \n",
       "27   english    none      normal     False     False     False  NaN   \n",
       "\n",
       "        timestamp  \n",
       "2   1681651064000  \n",
       "4   1681644709000  \n",
       "6   1681587587000  \n",
       "8   1681584165000  \n",
       "12  1681577033000  \n",
       "14  1681573938000  \n",
       "16  1681569956000  \n",
       "18  1681561530000  \n",
       "19  1681559650000  \n",
       "21  1681556891000  \n",
       "24  1681499187000  \n",
       "25  1681498287000  \n",
       "27  1681494738000  \n",
       "\n",
       "[13 rows x 24 columns]"
      ]
     },
     "execution_count": 132,
     "metadata": {},
     "output_type": "execute_result"
    }
   ],
   "source": [
    "no_music_pros = no_music[(no_music['wpm']>=60)]\n",
    "no_music_pros"
   ]
  },
  {
   "cell_type": "code",
   "execution_count": 133,
   "id": "c2eec67d",
   "metadata": {},
   "outputs": [],
   "source": [
    "white_noise_noobs = white_noise.iloc[[0, 1, 3, 5, 7, 9, 10, 11, 13, 15, 17, 20, 22, 23, 26, 28, 29]]\n",
    "white_noise_pros = white_noise.iloc[[2, 4, 6, 8, 12, 14, 16, 18, 19, 21, 24, 25, 27]]"
   ]
  },
  {
   "cell_type": "code",
   "execution_count": 134,
   "id": "2ce268ba",
   "metadata": {},
   "outputs": [],
   "source": [
    "original_song_noobs = original_song.iloc[[0, 1, 3, 5, 7, 9, 10, 11, 13, 15, 17, 20, 22, 23, 26, 28, 29]]\n",
    "original_song_pros = original_song.iloc[[2, 4, 6, 8, 12, 14, 16, 18, 19, 21, 24, 25, 27]]"
   ]
  },
  {
   "cell_type": "code",
   "execution_count": 135,
   "id": "24957010",
   "metadata": {},
   "outputs": [],
   "source": [
    "increased_tempo_noobs = increased_tempo.iloc[[0, 1, 3, 5, 7, 9, 10, 11, 13, 15, 17, 20, 22, 23, 26, 28, 29]]\n",
    "increased_tempo_pros = increased_tempo.iloc[[2, 4, 6, 8, 12, 14, 16, 18, 19, 21, 24, 25, 27]]"
   ]
  },
  {
   "cell_type": "markdown",
   "id": "4c6e67c1",
   "metadata": {},
   "source": [
    "## Shapiro Wilke Test for Normality"
   ]
  },
  {
   "cell_type": "markdown",
   "id": "e1ae4c39",
   "metadata": {},
   "source": [
    "### No Music"
   ]
  },
  {
   "cell_type": "markdown",
   "id": "8ba73975",
   "metadata": {},
   "source": [
    "#### WPM"
   ]
  },
  {
   "cell_type": "code",
   "execution_count": 136,
   "id": "366b1709",
   "metadata": {},
   "outputs": [
    {
     "data": {
      "text/plain": [
       "ShapiroResult(statistic=0.9366968274116516, pvalue=0.28107625246047974)"
      ]
     },
     "execution_count": 136,
     "metadata": {},
     "output_type": "execute_result"
    }
   ],
   "source": [
    "shapiro(no_music_noobs['wpm']) # Likely Normal"
   ]
  },
  {
   "cell_type": "code",
   "execution_count": 137,
   "id": "5567c785",
   "metadata": {},
   "outputs": [
    {
     "data": {
      "text/plain": [
       "ShapiroResult(statistic=0.8850112557411194, pvalue=0.08340338617563248)"
      ]
     },
     "execution_count": 137,
     "metadata": {},
     "output_type": "execute_result"
    }
   ],
   "source": [
    "shapiro(no_music_pros['wpm']) # Likely Normal"
   ]
  },
  {
   "cell_type": "markdown",
   "id": "09873eac",
   "metadata": {},
   "source": [
    "#### Raw WPM"
   ]
  },
  {
   "cell_type": "code",
   "execution_count": 138,
   "id": "03b076c2",
   "metadata": {},
   "outputs": [
    {
     "data": {
      "text/plain": [
       "ShapiroResult(statistic=0.9369029998779297, pvalue=0.2832740247249603)"
      ]
     },
     "execution_count": 138,
     "metadata": {},
     "output_type": "execute_result"
    }
   ],
   "source": [
    "shapiro(no_music_noobs['rawWpm']) # Likely Normal"
   ]
  },
  {
   "cell_type": "code",
   "execution_count": 139,
   "id": "adfbf707",
   "metadata": {},
   "outputs": [
    {
     "data": {
      "text/plain": [
       "ShapiroResult(statistic=0.9252970218658447, pvalue=0.29542604088783264)"
      ]
     },
     "execution_count": 139,
     "metadata": {},
     "output_type": "execute_result"
    }
   ],
   "source": [
    "shapiro(no_music_pros['rawWpm']) # Likely Normal"
   ]
  },
  {
   "cell_type": "markdown",
   "id": "6e1f0ff4",
   "metadata": {},
   "source": [
    "#### Accuracy"
   ]
  },
  {
   "cell_type": "code",
   "execution_count": 140,
   "id": "e7f62941",
   "metadata": {},
   "outputs": [
    {
     "data": {
      "text/plain": [
       "ShapiroResult(statistic=0.932573676109314, pvalue=0.24025627970695496)"
      ]
     },
     "execution_count": 140,
     "metadata": {},
     "output_type": "execute_result"
    }
   ],
   "source": [
    "shapiro(no_music_noobs['acc']) # Likely Normal"
   ]
  },
  {
   "cell_type": "code",
   "execution_count": 141,
   "id": "3a20694d",
   "metadata": {},
   "outputs": [
    {
     "data": {
      "text/plain": [
       "ShapiroResult(statistic=0.9693293571472168, pvalue=0.8861507773399353)"
      ]
     },
     "execution_count": 141,
     "metadata": {},
     "output_type": "execute_result"
    }
   ],
   "source": [
    "shapiro(no_music_pros['acc']) # Likely Normal"
   ]
  },
  {
   "cell_type": "markdown",
   "id": "01f06ae3",
   "metadata": {},
   "source": [
    "#### Consistency"
   ]
  },
  {
   "cell_type": "code",
   "execution_count": 142,
   "id": "34bb9c66",
   "metadata": {},
   "outputs": [
    {
     "data": {
      "text/plain": [
       "ShapiroResult(statistic=0.930667519569397, pvalue=0.22330710291862488)"
      ]
     },
     "execution_count": 142,
     "metadata": {},
     "output_type": "execute_result"
    }
   ],
   "source": [
    "shapiro(no_music_noobs['consistency'])"
   ]
  },
  {
   "cell_type": "code",
   "execution_count": 143,
   "id": "c291fe8d",
   "metadata": {},
   "outputs": [
    {
     "data": {
      "text/plain": [
       "ShapiroResult(statistic=0.8847492933273315, pvalue=0.08272150158882141)"
      ]
     },
     "execution_count": 143,
     "metadata": {},
     "output_type": "execute_result"
    }
   ],
   "source": [
    "shapiro(no_music_pros['consistency'])"
   ]
  },
  {
   "cell_type": "markdown",
   "id": "f470dcc5",
   "metadata": {},
   "source": [
    "### White Noise"
   ]
  },
  {
   "cell_type": "markdown",
   "id": "848c671a",
   "metadata": {},
   "source": [
    "#### WPM"
   ]
  },
  {
   "cell_type": "code",
   "execution_count": 144,
   "id": "d5508485",
   "metadata": {
    "scrolled": true
   },
   "outputs": [
    {
     "data": {
      "text/plain": [
       "ShapiroResult(statistic=0.9297194480895996, pvalue=0.2153029441833496)"
      ]
     },
     "execution_count": 144,
     "metadata": {},
     "output_type": "execute_result"
    }
   ],
   "source": [
    "shapiro(white_noise_noobs['wpm'])"
   ]
  },
  {
   "cell_type": "code",
   "execution_count": 145,
   "id": "bdfa318d",
   "metadata": {},
   "outputs": [
    {
     "data": {
      "text/plain": [
       "ShapiroResult(statistic=0.9302359223365784, pvalue=0.3432513475418091)"
      ]
     },
     "execution_count": 145,
     "metadata": {},
     "output_type": "execute_result"
    }
   ],
   "source": [
    "shapiro(white_noise_pros['wpm'])"
   ]
  },
  {
   "cell_type": "markdown",
   "id": "e88d8a53",
   "metadata": {},
   "source": [
    "#### Raw WPM"
   ]
  },
  {
   "cell_type": "code",
   "execution_count": 146,
   "id": "9036e2ad",
   "metadata": {},
   "outputs": [
    {
     "data": {
      "text/plain": [
       "ShapiroResult(statistic=0.9456130862236023, pvalue=0.39092326164245605)"
      ]
     },
     "execution_count": 146,
     "metadata": {},
     "output_type": "execute_result"
    }
   ],
   "source": [
    "shapiro(white_noise_noobs['rawWpm'])"
   ]
  },
  {
   "cell_type": "code",
   "execution_count": 147,
   "id": "bda00709",
   "metadata": {},
   "outputs": [
    {
     "data": {
      "text/plain": [
       "ShapiroResult(statistic=0.9518665075302124, pvalue=0.6268232464790344)"
      ]
     },
     "execution_count": 147,
     "metadata": {},
     "output_type": "execute_result"
    }
   ],
   "source": [
    "shapiro(white_noise_pros['rawWpm'])"
   ]
  },
  {
   "cell_type": "markdown",
   "id": "450c18af",
   "metadata": {},
   "source": [
    "#### Accuracy"
   ]
  },
  {
   "cell_type": "code",
   "execution_count": 148,
   "id": "178853b1",
   "metadata": {
    "scrolled": true
   },
   "outputs": [
    {
     "data": {
      "text/plain": [
       "ShapiroResult(statistic=0.9217035174369812, pvalue=0.15780098736286163)"
      ]
     },
     "execution_count": 148,
     "metadata": {},
     "output_type": "execute_result"
    }
   ],
   "source": [
    "shapiro(white_noise_noobs['acc'])"
   ]
  },
  {
   "cell_type": "code",
   "execution_count": 149,
   "id": "e7b4cec1",
   "metadata": {
    "scrolled": true
   },
   "outputs": [
    {
     "data": {
      "text/plain": [
       "ShapiroResult(statistic=0.9408875107765198, pvalue=0.4684975743293762)"
      ]
     },
     "execution_count": 149,
     "metadata": {},
     "output_type": "execute_result"
    }
   ],
   "source": [
    "shapiro(white_noise_pros['acc'])"
   ]
  },
  {
   "cell_type": "markdown",
   "id": "97645631",
   "metadata": {},
   "source": [
    "#### Consistency"
   ]
  },
  {
   "cell_type": "code",
   "execution_count": 150,
   "id": "b767255c",
   "metadata": {},
   "outputs": [
    {
     "data": {
      "text/plain": [
       "ShapiroResult(statistic=0.9023666381835938, pvalue=0.07441490143537521)"
      ]
     },
     "execution_count": 150,
     "metadata": {},
     "output_type": "execute_result"
    }
   ],
   "source": [
    "shapiro(white_noise_noobs['consistency'])"
   ]
  },
  {
   "cell_type": "code",
   "execution_count": 151,
   "id": "5bdefe5c",
   "metadata": {},
   "outputs": [
    {
     "data": {
      "text/plain": [
       "ShapiroResult(statistic=0.9015231132507324, pvalue=0.14032259583473206)"
      ]
     },
     "execution_count": 151,
     "metadata": {},
     "output_type": "execute_result"
    }
   ],
   "source": [
    "shapiro(white_noise_pros['consistency'])"
   ]
  },
  {
   "cell_type": "markdown",
   "id": "ef46da65",
   "metadata": {},
   "source": [
    "### Original Song"
   ]
  },
  {
   "cell_type": "markdown",
   "id": "46c8aa6e",
   "metadata": {},
   "source": [
    "#### WPM"
   ]
  },
  {
   "cell_type": "code",
   "execution_count": 152,
   "id": "bde939bc",
   "metadata": {
    "scrolled": true
   },
   "outputs": [
    {
     "data": {
      "text/plain": [
       "ShapiroResult(statistic=0.9304911494255066, pvalue=0.22179722785949707)"
      ]
     },
     "execution_count": 152,
     "metadata": {},
     "output_type": "execute_result"
    }
   ],
   "source": [
    "shapiro(original_song_noobs['wpm'])"
   ]
  },
  {
   "cell_type": "code",
   "execution_count": 153,
   "id": "fd938df9",
   "metadata": {
    "scrolled": true
   },
   "outputs": [
    {
     "data": {
      "text/plain": [
       "ShapiroResult(statistic=0.9134922623634338, pvalue=0.20468266308307648)"
      ]
     },
     "execution_count": 153,
     "metadata": {},
     "output_type": "execute_result"
    }
   ],
   "source": [
    "shapiro(original_song_pros['wpm'])"
   ]
  },
  {
   "cell_type": "markdown",
   "id": "422bd299",
   "metadata": {},
   "source": [
    "#### Raw WPM"
   ]
  },
  {
   "cell_type": "code",
   "execution_count": 154,
   "id": "5de94885",
   "metadata": {
    "scrolled": true
   },
   "outputs": [
    {
     "data": {
      "text/plain": [
       "ShapiroResult(statistic=0.9291055798530579, pvalue=0.2102663516998291)"
      ]
     },
     "execution_count": 154,
     "metadata": {},
     "output_type": "execute_result"
    }
   ],
   "source": [
    "shapiro(original_song_noobs['rawWpm'])"
   ]
  },
  {
   "cell_type": "code",
   "execution_count": 155,
   "id": "2c2a4da4",
   "metadata": {},
   "outputs": [
    {
     "data": {
      "text/plain": [
       "ShapiroResult(statistic=0.9532748460769653, pvalue=0.648629903793335)"
      ]
     },
     "execution_count": 155,
     "metadata": {},
     "output_type": "execute_result"
    }
   ],
   "source": [
    "shapiro(original_song_pros['rawWpm'])"
   ]
  },
  {
   "cell_type": "markdown",
   "id": "2c570d65",
   "metadata": {},
   "source": [
    "#### Accuracy"
   ]
  },
  {
   "cell_type": "code",
   "execution_count": 156,
   "id": "ad2e2d2e",
   "metadata": {
    "scrolled": true
   },
   "outputs": [
    {
     "data": {
      "text/plain": [
       "ShapiroResult(statistic=0.9076155424118042, pvalue=0.09118703007698059)"
      ]
     },
     "execution_count": 156,
     "metadata": {},
     "output_type": "execute_result"
    }
   ],
   "source": [
    "shapiro(original_song_noobs['acc'])"
   ]
  },
  {
   "cell_type": "code",
   "execution_count": 157,
   "id": "6d0e909b",
   "metadata": {},
   "outputs": [
    {
     "data": {
      "text/plain": [
       "ShapiroResult(statistic=0.9614588022232056, pvalue=0.7760248184204102)"
      ]
     },
     "execution_count": 157,
     "metadata": {},
     "output_type": "execute_result"
    }
   ],
   "source": [
    "shapiro(original_song_pros['acc'])"
   ]
  },
  {
   "cell_type": "markdown",
   "id": "ec915312",
   "metadata": {},
   "source": [
    "#### Consistency"
   ]
  },
  {
   "cell_type": "code",
   "execution_count": 158,
   "id": "51e3cf13",
   "metadata": {},
   "outputs": [
    {
     "data": {
      "text/plain": [
       "ShapiroResult(statistic=0.9707475304603577, pvalue=0.8314161896705627)"
      ]
     },
     "execution_count": 158,
     "metadata": {},
     "output_type": "execute_result"
    }
   ],
   "source": [
    "shapiro(original_song_noobs['consistency'])"
   ]
  },
  {
   "cell_type": "code",
   "execution_count": 159,
   "id": "44ce9847",
   "metadata": {},
   "outputs": [
    {
     "data": {
      "text/plain": [
       "ShapiroResult(statistic=0.921271800994873, pvalue=0.26095280051231384)"
      ]
     },
     "execution_count": 159,
     "metadata": {},
     "output_type": "execute_result"
    }
   ],
   "source": [
    "shapiro(original_song_pros['consistency'])"
   ]
  },
  {
   "cell_type": "markdown",
   "id": "2af48f49",
   "metadata": {},
   "source": [
    "### Increased Tempo"
   ]
  },
  {
   "cell_type": "markdown",
   "id": "ddf983ef",
   "metadata": {},
   "source": [
    "#### WPM"
   ]
  },
  {
   "cell_type": "code",
   "execution_count": 160,
   "id": "71a0e784",
   "metadata": {},
   "outputs": [
    {
     "data": {
      "text/plain": [
       "ShapiroResult(statistic=0.9438107013702393, pvalue=0.3662026524543762)"
      ]
     },
     "execution_count": 160,
     "metadata": {},
     "output_type": "execute_result"
    }
   ],
   "source": [
    "shapiro(increased_tempo_noobs['wpm'])"
   ]
  },
  {
   "cell_type": "code",
   "execution_count": 161,
   "id": "d43a128f",
   "metadata": {},
   "outputs": [
    {
     "data": {
      "text/plain": [
       "ShapiroResult(statistic=0.9163994193077087, pvalue=0.2242116630077362)"
      ]
     },
     "execution_count": 161,
     "metadata": {},
     "output_type": "execute_result"
    }
   ],
   "source": [
    "shapiro(increased_tempo_pros['wpm'])"
   ]
  },
  {
   "cell_type": "markdown",
   "id": "25a3bfb5",
   "metadata": {},
   "source": [
    "#### Raw WPM"
   ]
  },
  {
   "cell_type": "code",
   "execution_count": 162,
   "id": "a4e8721d",
   "metadata": {},
   "outputs": [
    {
     "data": {
      "text/plain": [
       "ShapiroResult(statistic=0.9706130623817444, pvalue=0.8291032910346985)"
      ]
     },
     "execution_count": 162,
     "metadata": {},
     "output_type": "execute_result"
    }
   ],
   "source": [
    "shapiro(increased_tempo_noobs['rawWpm'])"
   ]
  },
  {
   "cell_type": "code",
   "execution_count": 163,
   "id": "5b900deb",
   "metadata": {},
   "outputs": [
    {
     "data": {
      "text/plain": [
       "ShapiroResult(statistic=0.9453966021537781, pvalue=0.5304455757141113)"
      ]
     },
     "execution_count": 163,
     "metadata": {},
     "output_type": "execute_result"
    }
   ],
   "source": [
    "shapiro(increased_tempo_pros['rawWpm'])"
   ]
  },
  {
   "cell_type": "markdown",
   "id": "25574856",
   "metadata": {},
   "source": [
    "#### Accuracy"
   ]
  },
  {
   "cell_type": "code",
   "execution_count": 164,
   "id": "e9fc6149",
   "metadata": {},
   "outputs": [
    {
     "data": {
      "text/plain": [
       "ShapiroResult(statistic=0.7971222400665283, pvalue=0.0018529738299548626)"
      ]
     },
     "execution_count": 164,
     "metadata": {},
     "output_type": "execute_result"
    }
   ],
   "source": [
    "shapiro(increased_tempo_noobs['acc']) # Not Normal"
   ]
  },
  {
   "cell_type": "code",
   "execution_count": 165,
   "id": "4fec97b6",
   "metadata": {
    "scrolled": true
   },
   "outputs": [
    {
     "data": {
      "text/plain": [
       "ShapiroResult(statistic=0.9423033595085144, pvalue=0.48741334676742554)"
      ]
     },
     "execution_count": 165,
     "metadata": {},
     "output_type": "execute_result"
    }
   ],
   "source": [
    "shapiro(increased_tempo_pros['acc'])"
   ]
  },
  {
   "cell_type": "markdown",
   "id": "001f3f00",
   "metadata": {},
   "source": [
    "#### Consistency"
   ]
  },
  {
   "cell_type": "code",
   "execution_count": 166,
   "id": "d45e32f4",
   "metadata": {},
   "outputs": [
    {
     "data": {
      "text/plain": [
       "ShapiroResult(statistic=0.8418154716491699, pvalue=0.008065497502684593)"
      ]
     },
     "execution_count": 166,
     "metadata": {},
     "output_type": "execute_result"
    }
   ],
   "source": [
    "shapiro(increased_tempo_noobs['consistency']) # Not Normal"
   ]
  },
  {
   "cell_type": "code",
   "execution_count": 167,
   "id": "8c1b7e4e",
   "metadata": {
    "scrolled": true
   },
   "outputs": [
    {
     "data": {
      "text/plain": [
       "ShapiroResult(statistic=0.9276624321937561, pvalue=0.317547082901001)"
      ]
     },
     "execution_count": 167,
     "metadata": {},
     "output_type": "execute_result"
    }
   ],
   "source": [
    "shapiro(increased_tempo_pros['consistency'])"
   ]
  },
  {
   "cell_type": "markdown",
   "id": "6f1c9c06",
   "metadata": {},
   "source": [
    "## Inference\n",
    "The distribution seems to be bimodal and it can be distinguished into two groups: Noobs and Pros :P  \n",
    "Further, we see a normal distribution in the wpm within these groups"
   ]
  },
  {
   "cell_type": "markdown",
   "id": "76a64782",
   "metadata": {},
   "source": [
    "## Friedman Test"
   ]
  },
  {
   "cell_type": "markdown",
   "id": "f379060e",
   "metadata": {},
   "source": [
    "### WPM"
   ]
  },
  {
   "cell_type": "code",
   "execution_count": 168,
   "id": "a5955f33",
   "metadata": {},
   "outputs": [
    {
     "data": {
      "text/plain": [
       "FriedmanchisquareResult(statistic=2.3647058823529505, pvalue=0.5002384238846356)"
      ]
     },
     "execution_count": 168,
     "metadata": {},
     "output_type": "execute_result"
    }
   ],
   "source": [
    "friedmanchisquare(no_music_noobs['wpm'], white_noise_noobs['wpm'], original_song_noobs['wpm'], increased_tempo_noobs['wpm'])"
   ]
  },
  {
   "cell_type": "code",
   "execution_count": 169,
   "id": "1f6d6284",
   "metadata": {},
   "outputs": [
    {
     "data": {
      "text/plain": [
       "FriedmanchisquareResult(statistic=0.06976744186048098, pvalue=0.9952001655448262)"
      ]
     },
     "execution_count": 169,
     "metadata": {},
     "output_type": "execute_result"
    }
   ],
   "source": [
    "friedmanchisquare(no_music_pros['wpm'], white_noise_pros['wpm'], original_song_pros['wpm'], increased_tempo_pros['wpm'])"
   ]
  },
  {
   "cell_type": "markdown",
   "id": "07bd6464",
   "metadata": {},
   "source": [
    "### Raw WPM"
   ]
  },
  {
   "cell_type": "code",
   "execution_count": 170,
   "id": "85219fa5",
   "metadata": {},
   "outputs": [
    {
     "data": {
      "text/plain": [
       "FriedmanchisquareResult(statistic=2.680473372781086, pvalue=0.4435558458290235)"
      ]
     },
     "execution_count": 170,
     "metadata": {},
     "output_type": "execute_result"
    }
   ],
   "source": [
    "friedmanchisquare(no_music_noobs['rawWpm'], white_noise_noobs['rawWpm'], original_song_noobs['rawWpm'], increased_tempo_noobs['rawWpm'])"
   ]
  },
  {
   "cell_type": "code",
   "execution_count": 171,
   "id": "eb4ee4f7",
   "metadata": {
    "scrolled": true
   },
   "outputs": [
    {
     "data": {
      "text/plain": [
       "FriedmanchisquareResult(statistic=0.41538461538462457, pvalue=0.9370463747909614)"
      ]
     },
     "execution_count": 171,
     "metadata": {},
     "output_type": "execute_result"
    }
   ],
   "source": [
    "friedmanchisquare(no_music_pros['rawWpm'], white_noise_pros['rawWpm'], original_song_pros['rawWpm'], increased_tempo_pros['rawWpm'])"
   ]
  },
  {
   "cell_type": "markdown",
   "id": "70a7ae78",
   "metadata": {},
   "source": [
    "### Accuracy"
   ]
  },
  {
   "cell_type": "code",
   "execution_count": 172,
   "id": "f7bfdd0b",
   "metadata": {
    "scrolled": true
   },
   "outputs": [
    {
     "data": {
      "text/plain": [
       "FriedmanchisquareResult(statistic=0.5999999999999943, pvalue=0.8964323733419127)"
      ]
     },
     "execution_count": 172,
     "metadata": {},
     "output_type": "execute_result"
    }
   ],
   "source": [
    "friedmanchisquare(no_music_noobs['acc'], white_noise_noobs['acc'], original_song_noobs['acc'], increased_tempo_noobs['acc'])"
   ]
  },
  {
   "cell_type": "code",
   "execution_count": 173,
   "id": "68a4a8d2",
   "metadata": {},
   "outputs": [
    {
     "data": {
      "text/plain": [
       "FriedmanchisquareResult(statistic=0.3023255813953603, pvalue=0.9595905094733584)"
      ]
     },
     "execution_count": 173,
     "metadata": {},
     "output_type": "execute_result"
    }
   ],
   "source": [
    "friedmanchisquare(no_music_pros['acc'], white_noise_pros['acc'], original_song_pros['acc'], increased_tempo_pros['acc'])"
   ]
  },
  {
   "cell_type": "markdown",
   "id": "18722bb5",
   "metadata": {},
   "source": [
    "### Consistency"
   ]
  },
  {
   "cell_type": "code",
   "execution_count": 174,
   "id": "196f68b1",
   "metadata": {
    "scrolled": true
   },
   "outputs": [
    {
     "data": {
      "text/plain": [
       "FriedmanchisquareResult(statistic=2.435294117647061, pvalue=0.48709845080519)"
      ]
     },
     "execution_count": 174,
     "metadata": {},
     "output_type": "execute_result"
    }
   ],
   "source": [
    "friedmanchisquare(no_music_noobs['consistency'], white_noise_noobs['consistency'], original_song_noobs['consistency'], increased_tempo_noobs['consistency'])"
   ]
  },
  {
   "cell_type": "code",
   "execution_count": 175,
   "id": "9ce6c38e",
   "metadata": {},
   "outputs": [
    {
     "data": {
      "text/plain": [
       "FriedmanchisquareResult(statistic=0.23076923076925482, pvalue=0.972475589675686)"
      ]
     },
     "execution_count": 175,
     "metadata": {},
     "output_type": "execute_result"
    }
   ],
   "source": [
    "friedmanchisquare(no_music_pros['consistency'], white_noise_pros['consistency'], original_song_pros['consistency'], increased_tempo_pros['consistency'])"
   ]
  },
  {
   "cell_type": "markdown",
   "id": "0f442e37",
   "metadata": {},
   "source": [
    "Here also we see that despite dividing the participants into two groups, the friedman test still concludes that there is no significant difference in the means with respect to the different conditions when comared within the group."
   ]
  },
  {
   "cell_type": "markdown",
   "id": "f333af70",
   "metadata": {},
   "source": [
    "## Repeated Measures ANOVA\n",
    "Repeated measures ANOVA in Python is used to find whether there is a statistically significant difference exists between the means of three or more groups in which the same subjects displayed in each group. \n",
    "Hypothesis:\n",
    "\n",
    "A repeated-measures ANOVA has the following null and alternative hypotheses involved:\n",
    "- The null hypothesis (H0): µ1 = µ2 = µ3 (In other words, population means are equal)\n",
    "- The alternative hypothesis: (Ha): According to it, at least one population mean differs from the rest"
   ]
  },
  {
   "cell_type": "code",
   "execution_count": 176,
   "id": "316b6db9",
   "metadata": {},
   "outputs": [
    {
     "name": "stderr",
     "output_type": "stream",
     "text": [
      "/tmp/ipykernel_32078/422158739.py:1: SettingWithCopyWarning: \n",
      "A value is trying to be set on a copy of a slice from a DataFrame.\n",
      "Try using .loc[row_indexer,col_indexer] = value instead\n",
      "\n",
      "See the caveats in the documentation: https://pandas.pydata.org/pandas-docs/stable/user_guide/indexing.html#returning-a-view-versus-a-copy\n",
      "  no_music_noobs['condition'] = 0\n",
      "/tmp/ipykernel_32078/422158739.py:2: SettingWithCopyWarning: \n",
      "A value is trying to be set on a copy of a slice from a DataFrame.\n",
      "Try using .loc[row_indexer,col_indexer] = value instead\n",
      "\n",
      "See the caveats in the documentation: https://pandas.pydata.org/pandas-docs/stable/user_guide/indexing.html#returning-a-view-versus-a-copy\n",
      "  white_noise_noobs['condition'] = 1\n",
      "/tmp/ipykernel_32078/422158739.py:3: SettingWithCopyWarning: \n",
      "A value is trying to be set on a copy of a slice from a DataFrame.\n",
      "Try using .loc[row_indexer,col_indexer] = value instead\n",
      "\n",
      "See the caveats in the documentation: https://pandas.pydata.org/pandas-docs/stable/user_guide/indexing.html#returning-a-view-versus-a-copy\n",
      "  original_song_noobs['condition'] = 2\n",
      "/tmp/ipykernel_32078/422158739.py:4: SettingWithCopyWarning: \n",
      "A value is trying to be set on a copy of a slice from a DataFrame.\n",
      "Try using .loc[row_indexer,col_indexer] = value instead\n",
      "\n",
      "See the caveats in the documentation: https://pandas.pydata.org/pandas-docs/stable/user_guide/indexing.html#returning-a-view-versus-a-copy\n",
      "  increased_tempo_noobs['condition'] = 3\n"
     ]
    }
   ],
   "source": [
    "no_music_noobs['condition'] = 0\n",
    "white_noise_noobs['condition'] = 1\n",
    "original_song_noobs['condition'] = 2\n",
    "increased_tempo_noobs['condition'] = 3"
   ]
  },
  {
   "cell_type": "code",
   "execution_count": 177,
   "id": "b2e56cb0",
   "metadata": {},
   "outputs": [
    {
     "name": "stderr",
     "output_type": "stream",
     "text": [
      "/tmp/ipykernel_32078/2814844809.py:1: SettingWithCopyWarning: \n",
      "A value is trying to be set on a copy of a slice from a DataFrame.\n",
      "Try using .loc[row_indexer,col_indexer] = value instead\n",
      "\n",
      "See the caveats in the documentation: https://pandas.pydata.org/pandas-docs/stable/user_guide/indexing.html#returning-a-view-versus-a-copy\n",
      "  no_music_noobs['participant'] = no_music_noobs.index\n",
      "/tmp/ipykernel_32078/2814844809.py:2: SettingWithCopyWarning: \n",
      "A value is trying to be set on a copy of a slice from a DataFrame.\n",
      "Try using .loc[row_indexer,col_indexer] = value instead\n",
      "\n",
      "See the caveats in the documentation: https://pandas.pydata.org/pandas-docs/stable/user_guide/indexing.html#returning-a-view-versus-a-copy\n",
      "  white_noise_noobs['participant'] = white_noise_noobs.index\n",
      "/tmp/ipykernel_32078/2814844809.py:3: SettingWithCopyWarning: \n",
      "A value is trying to be set on a copy of a slice from a DataFrame.\n",
      "Try using .loc[row_indexer,col_indexer] = value instead\n",
      "\n",
      "See the caveats in the documentation: https://pandas.pydata.org/pandas-docs/stable/user_guide/indexing.html#returning-a-view-versus-a-copy\n",
      "  original_song_noobs['participant'] = original_song_noobs.index\n",
      "/tmp/ipykernel_32078/2814844809.py:4: SettingWithCopyWarning: \n",
      "A value is trying to be set on a copy of a slice from a DataFrame.\n",
      "Try using .loc[row_indexer,col_indexer] = value instead\n",
      "\n",
      "See the caveats in the documentation: https://pandas.pydata.org/pandas-docs/stable/user_guide/indexing.html#returning-a-view-versus-a-copy\n",
      "  increased_tempo_noobs['participant'] = increased_tempo_noobs.index\n"
     ]
    }
   ],
   "source": [
    "no_music_noobs['participant'] = no_music_noobs.index\n",
    "white_noise_noobs['participant'] = white_noise_noobs.index\n",
    "original_song_noobs['participant'] = original_song_noobs.index\n",
    "increased_tempo_noobs['participant'] = increased_tempo_noobs.index"
   ]
  },
  {
   "cell_type": "code",
   "execution_count": 178,
   "id": "f809636d",
   "metadata": {},
   "outputs": [],
   "source": [
    "noobs_df = pd.concat([no_music_noobs, white_noise_noobs, original_song_noobs, increased_tempo_noobs], axis=0)"
   ]
  },
  {
   "cell_type": "code",
   "execution_count": 179,
   "id": "bcc880a3",
   "metadata": {
    "scrolled": false
   },
   "outputs": [
    {
     "name": "stdout",
     "output_type": "stream",
     "text": [
      "                 Anova\n",
      "=======================================\n",
      "          F Value Num DF  Den DF Pr > F\n",
      "---------------------------------------\n",
      "condition  0.4321 3.0000 48.0000 0.7310\n",
      "=======================================\n",
      "\n"
     ]
    }
   ],
   "source": [
    "print(AnovaRM(data=noobs_df, depvar='wpm',\n",
    "              subject='participant', within=['condition']).fit())"
   ]
  },
  {
   "cell_type": "code",
   "execution_count": 180,
   "id": "8fc14fad",
   "metadata": {
    "scrolled": false
   },
   "outputs": [
    {
     "name": "stdout",
     "output_type": "stream",
     "text": [
      "                 Anova\n",
      "=======================================\n",
      "          F Value Num DF  Den DF Pr > F\n",
      "---------------------------------------\n",
      "condition  1.1055 3.0000 48.0000 0.3561\n",
      "=======================================\n",
      "\n"
     ]
    }
   ],
   "source": [
    "print(AnovaRM(data=noobs_df, depvar='rawWpm',\n",
    "              subject='participant', within=['condition']).fit())"
   ]
  },
  {
   "cell_type": "code",
   "execution_count": 181,
   "id": "e10b75e2",
   "metadata": {
    "scrolled": true
   },
   "outputs": [
    {
     "name": "stdout",
     "output_type": "stream",
     "text": [
      "                 Anova\n",
      "=======================================\n",
      "          F Value Num DF  Den DF Pr > F\n",
      "---------------------------------------\n",
      "condition  0.3829 3.0000 48.0000 0.7658\n",
      "=======================================\n",
      "\n"
     ]
    }
   ],
   "source": [
    "print(AnovaRM(data=noobs_df, depvar='acc',\n",
    "              subject='participant', within=['condition']).fit())"
   ]
  },
  {
   "cell_type": "code",
   "execution_count": 182,
   "id": "6c5971da",
   "metadata": {
    "scrolled": false
   },
   "outputs": [
    {
     "name": "stdout",
     "output_type": "stream",
     "text": [
      "                 Anova\n",
      "=======================================\n",
      "          F Value Num DF  Den DF Pr > F\n",
      "---------------------------------------\n",
      "condition  1.4745 3.0000 48.0000 0.2333\n",
      "=======================================\n",
      "\n"
     ]
    }
   ],
   "source": [
    "print(AnovaRM(data=noobs_df, depvar='consistency',\n",
    "              subject='participant', within=['condition']).fit())"
   ]
  },
  {
   "cell_type": "code",
   "execution_count": 183,
   "id": "fffe1943",
   "metadata": {},
   "outputs": [
    {
     "name": "stderr",
     "output_type": "stream",
     "text": [
      "/tmp/ipykernel_32078/4226070123.py:1: SettingWithCopyWarning: \n",
      "A value is trying to be set on a copy of a slice from a DataFrame.\n",
      "Try using .loc[row_indexer,col_indexer] = value instead\n",
      "\n",
      "See the caveats in the documentation: https://pandas.pydata.org/pandas-docs/stable/user_guide/indexing.html#returning-a-view-versus-a-copy\n",
      "  no_music_pros['condition'] = 0\n",
      "/tmp/ipykernel_32078/4226070123.py:2: SettingWithCopyWarning: \n",
      "A value is trying to be set on a copy of a slice from a DataFrame.\n",
      "Try using .loc[row_indexer,col_indexer] = value instead\n",
      "\n",
      "See the caveats in the documentation: https://pandas.pydata.org/pandas-docs/stable/user_guide/indexing.html#returning-a-view-versus-a-copy\n",
      "  white_noise_pros['condition'] = 1\n",
      "/tmp/ipykernel_32078/4226070123.py:3: SettingWithCopyWarning: \n",
      "A value is trying to be set on a copy of a slice from a DataFrame.\n",
      "Try using .loc[row_indexer,col_indexer] = value instead\n",
      "\n",
      "See the caveats in the documentation: https://pandas.pydata.org/pandas-docs/stable/user_guide/indexing.html#returning-a-view-versus-a-copy\n",
      "  original_song_pros['condition'] = 2\n",
      "/tmp/ipykernel_32078/4226070123.py:4: SettingWithCopyWarning: \n",
      "A value is trying to be set on a copy of a slice from a DataFrame.\n",
      "Try using .loc[row_indexer,col_indexer] = value instead\n",
      "\n",
      "See the caveats in the documentation: https://pandas.pydata.org/pandas-docs/stable/user_guide/indexing.html#returning-a-view-versus-a-copy\n",
      "  increased_tempo_pros['condition'] = 3\n"
     ]
    }
   ],
   "source": [
    "no_music_pros['condition'] = 0\n",
    "white_noise_pros['condition'] = 1\n",
    "original_song_pros['condition'] = 2\n",
    "increased_tempo_pros['condition'] = 3"
   ]
  },
  {
   "cell_type": "code",
   "execution_count": 184,
   "id": "78aad95e",
   "metadata": {},
   "outputs": [
    {
     "name": "stderr",
     "output_type": "stream",
     "text": [
      "/tmp/ipykernel_32078/358174168.py:1: SettingWithCopyWarning: \n",
      "A value is trying to be set on a copy of a slice from a DataFrame.\n",
      "Try using .loc[row_indexer,col_indexer] = value instead\n",
      "\n",
      "See the caveats in the documentation: https://pandas.pydata.org/pandas-docs/stable/user_guide/indexing.html#returning-a-view-versus-a-copy\n",
      "  no_music_pros['participant'] = no_music_pros.index\n",
      "/tmp/ipykernel_32078/358174168.py:2: SettingWithCopyWarning: \n",
      "A value is trying to be set on a copy of a slice from a DataFrame.\n",
      "Try using .loc[row_indexer,col_indexer] = value instead\n",
      "\n",
      "See the caveats in the documentation: https://pandas.pydata.org/pandas-docs/stable/user_guide/indexing.html#returning-a-view-versus-a-copy\n",
      "  white_noise_pros['participant'] = white_noise_pros.index\n",
      "/tmp/ipykernel_32078/358174168.py:3: SettingWithCopyWarning: \n",
      "A value is trying to be set on a copy of a slice from a DataFrame.\n",
      "Try using .loc[row_indexer,col_indexer] = value instead\n",
      "\n",
      "See the caveats in the documentation: https://pandas.pydata.org/pandas-docs/stable/user_guide/indexing.html#returning-a-view-versus-a-copy\n",
      "  original_song_pros['participant'] = original_song_pros.index\n",
      "/tmp/ipykernel_32078/358174168.py:4: SettingWithCopyWarning: \n",
      "A value is trying to be set on a copy of a slice from a DataFrame.\n",
      "Try using .loc[row_indexer,col_indexer] = value instead\n",
      "\n",
      "See the caveats in the documentation: https://pandas.pydata.org/pandas-docs/stable/user_guide/indexing.html#returning-a-view-versus-a-copy\n",
      "  increased_tempo_pros['participant'] = increased_tempo_pros.index\n"
     ]
    }
   ],
   "source": [
    "no_music_pros['participant'] = no_music_pros.index\n",
    "white_noise_pros['participant'] = white_noise_pros.index\n",
    "original_song_pros['participant'] = original_song_pros.index\n",
    "increased_tempo_pros['participant'] = increased_tempo_pros.index"
   ]
  },
  {
   "cell_type": "code",
   "execution_count": 185,
   "id": "b46f8d12",
   "metadata": {},
   "outputs": [],
   "source": [
    "pros_df = pd.concat([no_music_pros, white_noise_pros, original_song_pros, increased_tempo_pros], axis=0)"
   ]
  },
  {
   "cell_type": "code",
   "execution_count": 186,
   "id": "4b8cd363",
   "metadata": {
    "scrolled": true
   },
   "outputs": [
    {
     "name": "stdout",
     "output_type": "stream",
     "text": [
      "                 Anova\n",
      "=======================================\n",
      "          F Value Num DF  Den DF Pr > F\n",
      "---------------------------------------\n",
      "condition  0.6355 3.0000 36.0000 0.5970\n",
      "=======================================\n",
      "\n"
     ]
    }
   ],
   "source": [
    "print(AnovaRM(data=pros_df, depvar='wpm',\n",
    "              subject='participant', within=['condition']).fit())"
   ]
  },
  {
   "cell_type": "code",
   "execution_count": 187,
   "id": "f73474aa",
   "metadata": {
    "scrolled": true
   },
   "outputs": [
    {
     "name": "stdout",
     "output_type": "stream",
     "text": [
      "                 Anova\n",
      "=======================================\n",
      "          F Value Num DF  Den DF Pr > F\n",
      "---------------------------------------\n",
      "condition  0.3774 3.0000 36.0000 0.7698\n",
      "=======================================\n",
      "\n"
     ]
    }
   ],
   "source": [
    "print(AnovaRM(data=pros_df, depvar='rawWpm',\n",
    "              subject='participant', within=['condition']).fit())"
   ]
  },
  {
   "cell_type": "code",
   "execution_count": 188,
   "id": "d39c6ebf",
   "metadata": {
    "scrolled": true
   },
   "outputs": [
    {
     "name": "stdout",
     "output_type": "stream",
     "text": [
      "                 Anova\n",
      "=======================================\n",
      "          F Value Num DF  Den DF Pr > F\n",
      "---------------------------------------\n",
      "condition  0.0613 3.0000 36.0000 0.9798\n",
      "=======================================\n",
      "\n"
     ]
    }
   ],
   "source": [
    "print(AnovaRM(data=pros_df, depvar='acc',\n",
    "              subject='participant', within=['condition']).fit())"
   ]
  },
  {
   "cell_type": "code",
   "execution_count": 189,
   "id": "23025dc9",
   "metadata": {
    "scrolled": true
   },
   "outputs": [
    {
     "name": "stdout",
     "output_type": "stream",
     "text": [
      "                 Anova\n",
      "=======================================\n",
      "          F Value Num DF  Den DF Pr > F\n",
      "---------------------------------------\n",
      "condition  0.2568 3.0000 36.0000 0.8560\n",
      "=======================================\n",
      "\n"
     ]
    }
   ],
   "source": [
    "print(AnovaRM(data=pros_df, depvar='consistency',\n",
    "              subject='participant', within=['condition']).fit())"
   ]
  },
  {
   "cell_type": "code",
   "execution_count": 190,
   "id": "a527bede",
   "metadata": {},
   "outputs": [],
   "source": [
    "total_df = pd.concat([noobs_df, pros_df], axis=0)"
   ]
  },
  {
   "cell_type": "code",
   "execution_count": 191,
   "id": "59245b92",
   "metadata": {
    "scrolled": true
   },
   "outputs": [
    {
     "name": "stdout",
     "output_type": "stream",
     "text": [
      "                 Anova\n",
      "=======================================\n",
      "          F Value Num DF  Den DF Pr > F\n",
      "---------------------------------------\n",
      "condition  0.4656 3.0000 87.0000 0.7070\n",
      "=======================================\n",
      "\n"
     ]
    }
   ],
   "source": [
    "print(AnovaRM(data=total_df, depvar='wpm',\n",
    "              subject='participant', within=['condition']).fit())"
   ]
  },
  {
   "cell_type": "code",
   "execution_count": 192,
   "id": "41929b65",
   "metadata": {
    "scrolled": true
   },
   "outputs": [
    {
     "name": "stdout",
     "output_type": "stream",
     "text": [
      "                 Anova\n",
      "=======================================\n",
      "          F Value Num DF  Den DF Pr > F\n",
      "---------------------------------------\n",
      "condition  0.7056 3.0000 87.0000 0.5512\n",
      "=======================================\n",
      "\n"
     ]
    }
   ],
   "source": [
    "print(AnovaRM(data=total_df, depvar='rawWpm',\n",
    "              subject='participant', within=['condition']).fit())"
   ]
  },
  {
   "cell_type": "code",
   "execution_count": 193,
   "id": "2c027b6c",
   "metadata": {
    "scrolled": true
   },
   "outputs": [
    {
     "name": "stdout",
     "output_type": "stream",
     "text": [
      "                 Anova\n",
      "=======================================\n",
      "          F Value Num DF  Den DF Pr > F\n",
      "---------------------------------------\n",
      "condition  0.4100 3.0000 87.0000 0.7462\n",
      "=======================================\n",
      "\n"
     ]
    }
   ],
   "source": [
    "print(AnovaRM(data=total_df, depvar='acc',\n",
    "              subject='participant', within=['condition']).fit())"
   ]
  },
  {
   "cell_type": "code",
   "execution_count": 194,
   "id": "0f2ecb56",
   "metadata": {
    "scrolled": false
   },
   "outputs": [
    {
     "name": "stdout",
     "output_type": "stream",
     "text": [
      "                 Anova\n",
      "=======================================\n",
      "          F Value Num DF  Den DF Pr > F\n",
      "---------------------------------------\n",
      "condition  0.7156 3.0000 87.0000 0.5453\n",
      "=======================================\n",
      "\n"
     ]
    }
   ],
   "source": [
    "print(AnovaRM(data=total_df, depvar='consistency',\n",
    "              subject='participant', within=['condition']).fit())"
   ]
  },
  {
   "cell_type": "markdown",
   "id": "520bad23",
   "metadata": {},
   "source": [
    "Since the two groups, noobs and pros followed a normal distribution, we were able to perform the repeated measures ANNOVA on them. Here also the test concludes that there is no significant difference in the means of the different condition groups.  "
   ]
  },
  {
   "cell_type": "code",
   "execution_count": null,
   "id": "7e828ce7",
   "metadata": {},
   "outputs": [],
   "source": []
  }
 ],
 "metadata": {
  "kernelspec": {
   "display_name": "Python 3 (ipykernel)",
   "language": "python",
   "name": "python3"
  },
  "language_info": {
   "codemirror_mode": {
    "name": "ipython",
    "version": 3
   },
   "file_extension": ".py",
   "mimetype": "text/x-python",
   "name": "python",
   "nbconvert_exporter": "python",
   "pygments_lexer": "ipython3",
   "version": "3.8.10"
  }
 },
 "nbformat": 4,
 "nbformat_minor": 5
}
